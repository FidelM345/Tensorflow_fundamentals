{
 "cells": [
  {
   "cell_type": "markdown",
   "id": "7fc9f784",
   "metadata": {},
   "source": [
    "## Introduction to Neural Network classification with Tensorflow. \n",
    "The three major types of classification include:\n",
    "* Binary Classification\n",
    "* Multiclass classification\n",
    "* Multilabel classifcation"
   ]
  },
  {
   "cell_type": "markdown",
   "id": "a7baf068",
   "metadata": {},
   "source": [
    " ### Creating data to view and fit"
   ]
  },
  {
   "cell_type": "code",
   "execution_count": 23,
   "id": "1734e309",
   "metadata": {},
   "outputs": [],
   "source": [
    "from sklearn.datasets import make_circles\n",
    "\n",
    "#make 1000 example\n",
    "n_samples = 1000\n",
    "\n",
    "#create circles\n",
    "X, y = make_circles(n_samples,\n",
    "                   noise=0.03,\n",
    "                    random_state=42)\n"
   ]
  },
  {
   "cell_type": "code",
   "execution_count": 24,
   "id": "0d9d31ae",
   "metadata": {},
   "outputs": [
    {
     "data": {
      "text/plain": [
       "array([[ 0.75424625,  0.23148074],\n",
       "       [-0.75615888,  0.15325888],\n",
       "       [-0.81539193,  0.17328203],\n",
       "       ...,\n",
       "       [-0.13690036, -0.81001183],\n",
       "       [ 0.67036156, -0.76750154],\n",
       "       [ 0.28105665,  0.96382443]])"
      ]
     },
     "execution_count": 24,
     "metadata": {},
     "output_type": "execute_result"
    }
   ],
   "source": [
    "#check features\n",
    "X"
   ]
  },
  {
   "cell_type": "code",
   "execution_count": 25,
   "id": "6b8d9ebd",
   "metadata": {},
   "outputs": [
    {
     "data": {
      "text/plain": [
       "array([1, 1, 1, 1, 0, 1, 1, 1, 1, 0])"
      ]
     },
     "execution_count": 25,
     "metadata": {},
     "output_type": "execute_result"
    }
   ],
   "source": [
    "#check the first 10 labels\n",
    "y[:10]"
   ]
  },
  {
   "cell_type": "markdown",
   "id": "6546639e",
   "metadata": {},
   "source": [
    "### Visualize our dataset\n",
    "The data is hard to understand hence visualizing it will help us have a clear understanding of the dataset"
   ]
  },
  {
   "cell_type": "code",
   "execution_count": 26,
   "id": "d4828436",
   "metadata": {},
   "outputs": [
    {
     "data": {
      "text/html": [
       "<div>\n",
       "<style scoped>\n",
       "    .dataframe tbody tr th:only-of-type {\n",
       "        vertical-align: middle;\n",
       "    }\n",
       "\n",
       "    .dataframe tbody tr th {\n",
       "        vertical-align: top;\n",
       "    }\n",
       "\n",
       "    .dataframe thead th {\n",
       "        text-align: right;\n",
       "    }\n",
       "</style>\n",
       "<table border=\"1\" class=\"dataframe\">\n",
       "  <thead>\n",
       "    <tr style=\"text-align: right;\">\n",
       "      <th></th>\n",
       "      <th>X0</th>\n",
       "      <th>X1</th>\n",
       "      <th>label</th>\n",
       "    </tr>\n",
       "  </thead>\n",
       "  <tbody>\n",
       "    <tr>\n",
       "      <th>0</th>\n",
       "      <td>0.754246</td>\n",
       "      <td>0.231481</td>\n",
       "      <td>1</td>\n",
       "    </tr>\n",
       "    <tr>\n",
       "      <th>1</th>\n",
       "      <td>-0.756159</td>\n",
       "      <td>0.153259</td>\n",
       "      <td>1</td>\n",
       "    </tr>\n",
       "    <tr>\n",
       "      <th>2</th>\n",
       "      <td>-0.815392</td>\n",
       "      <td>0.173282</td>\n",
       "      <td>1</td>\n",
       "    </tr>\n",
       "    <tr>\n",
       "      <th>3</th>\n",
       "      <td>-0.393731</td>\n",
       "      <td>0.692883</td>\n",
       "      <td>1</td>\n",
       "    </tr>\n",
       "    <tr>\n",
       "      <th>4</th>\n",
       "      <td>0.442208</td>\n",
       "      <td>-0.896723</td>\n",
       "      <td>0</td>\n",
       "    </tr>\n",
       "    <tr>\n",
       "      <th>...</th>\n",
       "      <td>...</td>\n",
       "      <td>...</td>\n",
       "      <td>...</td>\n",
       "    </tr>\n",
       "    <tr>\n",
       "      <th>995</th>\n",
       "      <td>0.244054</td>\n",
       "      <td>0.944125</td>\n",
       "      <td>0</td>\n",
       "    </tr>\n",
       "    <tr>\n",
       "      <th>996</th>\n",
       "      <td>-0.978655</td>\n",
       "      <td>-0.272373</td>\n",
       "      <td>0</td>\n",
       "    </tr>\n",
       "    <tr>\n",
       "      <th>997</th>\n",
       "      <td>-0.136900</td>\n",
       "      <td>-0.810012</td>\n",
       "      <td>1</td>\n",
       "    </tr>\n",
       "    <tr>\n",
       "      <th>998</th>\n",
       "      <td>0.670362</td>\n",
       "      <td>-0.767502</td>\n",
       "      <td>0</td>\n",
       "    </tr>\n",
       "    <tr>\n",
       "      <th>999</th>\n",
       "      <td>0.281057</td>\n",
       "      <td>0.963824</td>\n",
       "      <td>0</td>\n",
       "    </tr>\n",
       "  </tbody>\n",
       "</table>\n",
       "<p>1000 rows × 3 columns</p>\n",
       "</div>"
      ],
      "text/plain": [
       "           X0        X1  label\n",
       "0    0.754246  0.231481      1\n",
       "1   -0.756159  0.153259      1\n",
       "2   -0.815392  0.173282      1\n",
       "3   -0.393731  0.692883      1\n",
       "4    0.442208 -0.896723      0\n",
       "..        ...       ...    ...\n",
       "995  0.244054  0.944125      0\n",
       "996 -0.978655 -0.272373      0\n",
       "997 -0.136900 -0.810012      1\n",
       "998  0.670362 -0.767502      0\n",
       "999  0.281057  0.963824      0\n",
       "\n",
       "[1000 rows x 3 columns]"
      ]
     },
     "execution_count": 26,
     "metadata": {},
     "output_type": "execute_result"
    }
   ],
   "source": [
    "import pandas as pd \n",
    "circles = pd.DataFrame({\"X0\":X[:,0],\"X1\":X[:,1],\"label\":y})\n",
    "circles"
   ]
  },
  {
   "cell_type": "code",
   "execution_count": 27,
   "id": "e0b3038b",
   "metadata": {},
   "outputs": [
    {
     "data": {
      "text/plain": [
       "<matplotlib.collections.PathCollection at 0x7f3d9643a6a0>"
      ]
     },
     "execution_count": 27,
     "metadata": {},
     "output_type": "execute_result"
    },
    {
     "data": {
      "image/png": "[encoded data removed]",
      "text/plain": [
       "<Figure size 432x288 with 1 Axes>"
      ]
     },
     "metadata": {
      "needs_background": "light"
     },
     "output_type": "display_data"
    }
   ],
   "source": [
    "import matplotlib.pyplot as plt\n",
    "plt.scatter(X[:,0],X[:,1], c=y, cmap=plt.cm.RdYlBu)"
   ]
  },
  {
   "cell_type": "code",
   "execution_count": 28,
   "id": "8205738e",
   "metadata": {},
   "outputs": [],
   "source": [
    "#importing the tensorflow lib\n",
    "import tensorflow as tf"
   ]
  },
  {
   "cell_type": "code",
   "execution_count": 29,
   "id": "a2d8eee1",
   "metadata": {},
   "outputs": [
    {
     "name": "stdout",
     "output_type": "stream",
     "text": [
      "Epoch 1/80\n",
      "32/32 [==============================] - 1s 6ms/step - loss: 0.6953 - accuracy: 0.5047\n",
      "Epoch 2/80\n",
      "32/32 [==============================] - 0s 2ms/step - loss: 0.6911 - accuracy: 0.4857\n",
      "Epoch 3/80\n",
      "32/32 [==============================] - 0s 2ms/step - loss: 0.6887 - accuracy: 0.5004\n",
      "Epoch 4/80\n",
      "32/32 [==============================] - 0s 2ms/step - loss: 0.6842 - accuracy: 0.5057\n",
      "Epoch 5/80\n",
      "32/32 [==============================] - 0s 2ms/step - loss: 0.6833 - accuracy: 0.5241\n",
      "Epoch 6/80\n",
      "32/32 [==============================] - 0s 2ms/step - loss: 0.6715 - accuracy: 0.5669\n",
      "Epoch 7/80\n",
      "32/32 [==============================] - 0s 2ms/step - loss: 0.6703 - accuracy: 0.6302\n",
      "Epoch 8/80\n",
      "32/32 [==============================] - 0s 2ms/step - loss: 0.6643 - accuracy: 0.6195\n",
      "Epoch 9/80\n",
      "32/32 [==============================] - 0s 2ms/step - loss: 0.6536 - accuracy: 0.6278\n",
      "Epoch 10/80\n",
      "32/32 [==============================] - 0s 2ms/step - loss: 0.6362 - accuracy: 0.6471\n",
      "Epoch 11/80\n",
      "32/32 [==============================] - 0s 2ms/step - loss: 0.6085 - accuracy: 0.7602\n",
      "Epoch 12/80\n",
      "32/32 [==============================] - 0s 2ms/step - loss: 0.5708 - accuracy: 0.8005\n",
      "Epoch 13/80\n",
      "32/32 [==============================] - 0s 2ms/step - loss: 0.5191 - accuracy: 0.9133\n",
      "Epoch 14/80\n",
      "32/32 [==============================] - 0s 2ms/step - loss: 0.4619 - accuracy: 0.9673\n",
      "Epoch 15/80\n",
      "32/32 [==============================] - 0s 2ms/step - loss: 0.3884 - accuracy: 0.9809\n",
      "Epoch 16/80\n",
      "32/32 [==============================] - 0s 2ms/step - loss: 0.3055 - accuracy: 0.9933\n",
      "Epoch 17/80\n",
      "32/32 [==============================] - 0s 2ms/step - loss: 0.2402 - accuracy: 0.9960\n",
      "Epoch 18/80\n",
      "32/32 [==============================] - 0s 2ms/step - loss: 0.1837 - accuracy: 0.9980\n",
      "Epoch 19/80\n",
      "32/32 [==============================] - 0s 2ms/step - loss: 0.1488 - accuracy: 0.9975\n",
      "Epoch 20/80\n",
      "32/32 [==============================] - 0s 2ms/step - loss: 0.1132 - accuracy: 0.9987\n",
      "Epoch 21/80\n",
      "32/32 [==============================] - 0s 2ms/step - loss: 0.0972 - accuracy: 0.9958\n",
      "Epoch 22/80\n",
      "32/32 [==============================] - 0s 2ms/step - loss: 0.0758 - accuracy: 0.9998\n",
      "Epoch 23/80\n",
      "32/32 [==============================] - 0s 2ms/step - loss: 0.0615 - accuracy: 0.9992\n",
      "Epoch 24/80\n",
      "32/32 [==============================] - 0s 2ms/step - loss: 0.0579 - accuracy: 0.9995\n",
      "Epoch 25/80\n",
      "32/32 [==============================] - 0s 2ms/step - loss: 0.0533 - accuracy: 0.9986\n",
      "Epoch 26/80\n",
      "32/32 [==============================] - 0s 2ms/step - loss: 0.0447 - accuracy: 0.9985\n",
      "Epoch 27/80\n",
      "32/32 [==============================] - 0s 2ms/step - loss: 0.0383 - accuracy: 0.9995\n",
      "Epoch 28/80\n",
      "32/32 [==============================] - 0s 2ms/step - loss: 0.0352 - accuracy: 0.9995\n",
      "Epoch 29/80\n",
      "32/32 [==============================] - 0s 2ms/step - loss: 0.0288 - accuracy: 0.9996\n",
      "Epoch 30/80\n",
      "32/32 [==============================] - 0s 2ms/step - loss: 0.0266 - accuracy: 0.9998\n",
      "Epoch 31/80\n",
      "32/32 [==============================] - 0s 2ms/step - loss: 0.0251 - accuracy: 0.9999\n",
      "Epoch 32/80\n",
      "32/32 [==============================] - 0s 2ms/step - loss: 0.0214 - accuracy: 1.0000\n",
      "Epoch 33/80\n",
      "32/32 [==============================] - 0s 2ms/step - loss: 0.0207 - accuracy: 0.9990\n",
      "Epoch 34/80\n",
      "32/32 [==============================] - 0s 2ms/step - loss: 0.0215 - accuracy: 0.9994\n",
      "Epoch 35/80\n",
      "32/32 [==============================] - 0s 2ms/step - loss: 0.0197 - accuracy: 0.9989\n",
      "Epoch 36/80\n",
      "32/32 [==============================] - 0s 2ms/step - loss: 0.0167 - accuracy: 1.0000\n",
      "Epoch 37/80\n",
      "32/32 [==============================] - 0s 2ms/step - loss: 0.0151 - accuracy: 1.0000\n",
      "Epoch 38/80\n",
      "32/32 [==============================] - 0s 2ms/step - loss: 0.0129 - accuracy: 1.0000\n",
      "Epoch 39/80\n",
      "32/32 [==============================] - 0s 2ms/step - loss: 0.0130 - accuracy: 1.0000\n",
      "Epoch 40/80\n",
      "32/32 [==============================] - 0s 2ms/step - loss: 0.0121 - accuracy: 1.0000\n",
      "Epoch 41/80\n",
      "32/32 [==============================] - 0s 2ms/step - loss: 0.0111 - accuracy: 0.9991\n",
      "Epoch 42/80\n",
      "32/32 [==============================] - 0s 2ms/step - loss: 0.0133 - accuracy: 1.0000\n",
      "Epoch 43/80\n",
      "32/32 [==============================] - 0s 2ms/step - loss: 0.0109 - accuracy: 1.0000\n",
      "Epoch 44/80\n",
      "32/32 [==============================] - 0s 2ms/step - loss: 0.0085 - accuracy: 1.0000\n",
      "Epoch 45/80\n",
      "32/32 [==============================] - 0s 2ms/step - loss: 0.0116 - accuracy: 0.9961\n",
      "Epoch 46/80\n",
      "32/32 [==============================] - 0s 2ms/step - loss: 0.0096 - accuracy: 1.0000\n",
      "Epoch 47/80\n",
      "32/32 [==============================] - 0s 2ms/step - loss: 0.0083 - accuracy: 1.0000\n",
      "Epoch 48/80\n",
      "32/32 [==============================] - 0s 3ms/step - loss: 0.0096 - accuracy: 1.0000\n",
      "Epoch 49/80\n",
      "32/32 [==============================] - 0s 2ms/step - loss: 0.0094 - accuracy: 1.0000\n",
      "Epoch 50/80\n",
      "32/32 [==============================] - 0s 2ms/step - loss: 0.0068 - accuracy: 1.0000\n",
      "Epoch 51/80\n",
      "32/32 [==============================] - 0s 2ms/step - loss: 0.0071 - accuracy: 1.0000\n",
      "Epoch 52/80\n",
      "32/32 [==============================] - 0s 3ms/step - loss: 0.0065 - accuracy: 1.0000\n",
      "Epoch 53/80\n",
      "32/32 [==============================] - 0s 3ms/step - loss: 0.0063 - accuracy: 1.0000\n",
      "Epoch 54/80\n",
      "32/32 [==============================] - 0s 3ms/step - loss: 0.0057 - accuracy: 1.0000\n",
      "Epoch 55/80\n",
      "32/32 [==============================] - 0s 2ms/step - loss: 0.0075 - accuracy: 1.0000\n",
      "Epoch 56/80\n",
      "32/32 [==============================] - 0s 2ms/step - loss: 0.0050 - accuracy: 1.0000\n",
      "Epoch 57/80\n",
      "32/32 [==============================] - 0s 2ms/step - loss: 0.0050 - accuracy: 1.0000\n",
      "Epoch 58/80\n",
      "32/32 [==============================] - 0s 2ms/step - loss: 0.0079 - accuracy: 0.9975\n",
      "Epoch 59/80\n",
      "32/32 [==============================] - 0s 2ms/step - loss: 0.0053 - accuracy: 1.0000\n",
      "Epoch 60/80\n",
      "32/32 [==============================] - 0s 3ms/step - loss: 0.0045 - accuracy: 1.0000\n",
      "Epoch 61/80\n",
      "32/32 [==============================] - 0s 2ms/step - loss: 0.0064 - accuracy: 0.9978\n",
      "Epoch 62/80\n",
      "32/32 [==============================] - 0s 2ms/step - loss: 0.0052 - accuracy: 1.0000\n",
      "Epoch 63/80\n",
      "32/32 [==============================] - 0s 2ms/step - loss: 0.0051 - accuracy: 1.0000\n",
      "Epoch 64/80\n",
      "32/32 [==============================] - 0s 2ms/step - loss: 0.0040 - accuracy: 1.0000\n",
      "Epoch 65/80\n",
      "32/32 [==============================] - 0s 2ms/step - loss: 0.0047 - accuracy: 1.0000\n",
      "Epoch 66/80\n",
      "32/32 [==============================] - 0s 2ms/step - loss: 0.0042 - accuracy: 1.0000\n",
      "Epoch 67/80\n",
      "32/32 [==============================] - 0s 2ms/step - loss: 0.0035 - accuracy: 1.0000\n",
      "Epoch 68/80\n",
      "32/32 [==============================] - 0s 3ms/step - loss: 0.0035 - accuracy: 1.0000\n",
      "Epoch 69/80\n",
      "32/32 [==============================] - 0s 3ms/step - loss: 0.0033 - accuracy: 1.0000\n",
      "Epoch 70/80\n",
      "32/32 [==============================] - 0s 3ms/step - loss: 0.0045 - accuracy: 1.0000\n",
      "Epoch 71/80\n",
      "32/32 [==============================] - 0s 3ms/step - loss: 0.0037 - accuracy: 1.0000\n",
      "Epoch 72/80\n",
      "32/32 [==============================] - 0s 3ms/step - loss: 0.0031 - accuracy: 1.0000\n",
      "Epoch 73/80\n",
      "32/32 [==============================] - 0s 3ms/step - loss: 0.0038 - accuracy: 1.0000\n",
      "Epoch 74/80\n",
      "32/32 [==============================] - 0s 2ms/step - loss: 0.0027 - accuracy: 1.0000\n",
      "Epoch 75/80\n",
      "32/32 [==============================] - 0s 3ms/step - loss: 0.0031 - accuracy: 1.0000\n",
      "Epoch 76/80\n",
      "32/32 [==============================] - 0s 3ms/step - loss: 0.0033 - accuracy: 1.0000\n",
      "Epoch 77/80\n",
      "32/32 [==============================] - 0s 3ms/step - loss: 0.0030 - accuracy: 1.0000\n",
      "Epoch 78/80\n",
      "32/32 [==============================] - 0s 3ms/step - loss: 0.0029 - accuracy: 1.0000\n",
      "Epoch 79/80\n",
      "32/32 [==============================] - 0s 3ms/step - loss: 0.0035 - accuracy: 1.0000\n",
      "Epoch 80/80\n",
      "32/32 [==============================] - 0s 2ms/step - loss: 0.0032 - accuracy: 1.0000\n"
     ]
    }
   ],
   "source": [
    "tf.random.set_seed(42)\n",
    "\n",
    "model = tf.keras.models.Sequential([\n",
    "     tf.keras.layers.Dense(8, activation=\"relu\", name=\"hidden_layer_1\"),\n",
    "      tf.keras.layers.Dense(16,activation=\"relu\", name=\"hidden_layer_2\"),\n",
    "     tf.keras.layers.Dense(32,activation=\"relu\", name=\"hidden_layer_3\"),\n",
    "    tf.keras.layers.Dense(1, activation=\"sigmoid\",name=\"classification_layer\")\n",
    "])\n",
    "\n",
    "model.compile(\n",
    "optimizer=tf.keras.optimizers.Adam(),\n",
    "loss=tf.keras.losses.BinaryCrossentropy(), #Because its a binary classification\n",
    "metrics=[\"accuracy\"]  \n",
    "    \n",
    ")\n",
    "\n",
    "loss_history = model.fit(X,y, epochs=80)"
   ]
  },
  {
   "cell_type": "code",
   "execution_count": 30,
   "id": "aaa2f5b5",
   "metadata": {},
   "outputs": [
    {
     "name": "stdout",
     "output_type": "stream",
     "text": [
      "32/32 [==============================] - 0s 2ms/step - loss: 0.0029 - accuracy: 1.0000\n"
     ]
    },
    {
     "data": {
      "text/plain": [
       "[0.0028803732711821795, 1.0]"
      ]
     },
     "execution_count": 30,
     "metadata": {},
     "output_type": "execute_result"
    }
   ],
   "source": [
    "#Evaluate your model\n",
    "model.evaluate(X,y)"
   ]
  },
  {
   "cell_type": "code",
   "execution_count": 31,
   "id": "9ddbbe13",
   "metadata": {},
   "outputs": [
    {
     "data": {
      "text/plain": [
       "array([[9.9987757e-01],\n",
       "       [9.9987423e-01],\n",
       "       [9.9586582e-01],\n",
       "       [9.9798667e-01],\n",
       "       [5.4312704e-06],\n",
       "       [9.7424400e-01],\n",
       "       [9.9945229e-01],\n",
       "       [9.9994218e-01],\n",
       "       [9.9984300e-01],\n",
       "       [1.5750655e-05]], dtype=float32)"
      ]
     },
     "execution_count": 31,
     "metadata": {},
     "output_type": "execute_result"
    }
   ],
   "source": [
    "#Check some of the model prediction. the fist 10 predictions\n",
    "model.predict(X[:10,:])"
   ]
  },
  {
   "cell_type": "code",
   "execution_count": 32,
   "id": "9641aee6",
   "metadata": {},
   "outputs": [
    {
     "data": {
      "text/plain": [
       "Text(0.5, 1.0, 'classification neural net loss curve')"
      ]
     },
     "execution_count": 32,
     "metadata": {},
     "output_type": "execute_result"
    },
    {
     "data": {
      "image/png": "[encoded data removed]",
      "text/plain": [
       "<Figure size 432x288 with 1 Axes>"
      ]
     },
     "metadata": {
      "needs_background": "light"
     },
     "output_type": "display_data"
    }
   ],
   "source": [
    "#plot the loss curves of the model\n",
    "pd.DataFrame(loss_history.history).plot()\n",
    "plt.title(\"classification neural net loss curve\")"
   ]
  },
  {
   "cell_type": "markdown",
   "id": "de6889ba",
   "metadata": {},
   "source": [
    "### Plotting our predictions"
   ]
  },
  {
   "cell_type": "code",
   "execution_count": 33,
   "id": "71771f9b",
   "metadata": {},
   "outputs": [],
   "source": [
    "import numpy as np\n",
    "\n",
    "import matplotlib.pyplot as plt\n",
    "\n",
    "#creating a decision boundary\n",
    "def plot_decision_boundary(X, y, model, steps=1000, cmap='Paired'):\n",
    "    \"\"\"\n",
    "    Function to plot the decision boundary and data points of a model.\n",
    "    Data points are colored based on their actual label.\n",
    "    \"\"\"\n",
    "    cmap = plt.get_cmap(cmap)\n",
    "\n",
    "    # Define region of interest by data limits\n",
    "    xmin, xmax = X[:,0].min() - 1, X[:,0].max() + 1\n",
    "    ymin, ymax = X[:,1].min() - 1, X[:,1].max() + 1\n",
    "    steps = 1000\n",
    "    x_span = np.linspace(xmin, xmax, steps)\n",
    "    y_span = np.linspace(ymin, ymax, steps)\n",
    "    xx, yy = np.meshgrid(x_span, y_span)\n",
    "\n",
    "    # Make predictions across region of interest\n",
    "    labels = model.predict(np.c_[xx.ravel(), yy.ravel()])\n",
    "\n",
    "    # Plot decision boundary in region of interest\n",
    "    z = labels.reshape(xx.shape)\n",
    "\n",
    "    fig, ax = plt.subplots()\n",
    "    ax.contourf(xx, yy, z, cmap=cmap, alpha=0.5)\n",
    "\n",
    "    # Get predicted labels on training data and plot\n",
    "    train_labels = model.predict(X)\n",
    "    ax.scatter(X[:,0], X[:,1], c=y, cmap=cmap, lw=0)\n",
    "\n",
    "    return fig, ax\n",
    "\n",
    "    \n",
    "    "
   ]
  },
  {
   "cell_type": "code",
   "execution_count": 34,
   "id": "9513cef0",
   "metadata": {},
   "outputs": [
    {
     "data": {
      "text/plain": [
       "(<Figure size 432x288 with 1 Axes>, <AxesSubplot:>)"
      ]
     },
     "execution_count": 34,
     "metadata": {},
     "output_type": "execute_result"
    },
    {
     "data": {
      "image/png": "[encoded data removed]",
      "text/plain": [
       "<Figure size 432x288 with 1 Axes>"
      ]
     },
     "metadata": {
      "needs_background": "light"
     },
     "output_type": "display_data"
    }
   ],
   "source": [
    "#plot the decision boundary\n",
    "plot_decision_boundary(X, y, model, cmap='RdBu')"
   ]
  },
  {
   "cell_type": "markdown",
   "id": "903b9663",
   "metadata": {},
   "source": [
    "### Activation functions Visualization"
   ]
  },
  {
   "cell_type": "markdown",
   "id": "b2444d27",
   "metadata": {},
   "source": [
    "#### we will start with..... No.1 Linear activation function\n",
    "The Linear activation function does not change our input dataset, it returns the same values i.e \n",
    "it does not introduce non linearity in our data."
   ]
  },
  {
   "cell_type": "code",
   "execution_count": 35,
   "id": "26aa5ae3",
   "metadata": {},
   "outputs": [
    {
     "data": {
      "text/plain": [
       "<tf.Tensor: shape=(20,), dtype=float32, numpy=\n",
       "array([-10.,  -9.,  -8.,  -7.,  -6.,  -5.,  -4.,  -3.,  -2.,  -1.,   0.,\n",
       "         1.,   2.,   3.,   4.,   5.,   6.,   7.,   8.,   9.],\n",
       "      dtype=float32)>"
      ]
     },
     "execution_count": 35,
     "metadata": {},
     "output_type": "execute_result"
    }
   ],
   "source": [
    "A = tf.cast(tf.range(-10,10), dtype=tf.float32)\n",
    "A"
   ]
  },
  {
   "cell_type": "code",
   "execution_count": 36,
   "id": "44b2522e",
   "metadata": {},
   "outputs": [
    {
     "data": {
      "text/plain": [
       "[<matplotlib.lines.Line2D at 0x7f3d967e5190>]"
      ]
     },
     "execution_count": 36,
     "metadata": {},
     "output_type": "execute_result"
    },
    {
     "data": {
      "image/png": "[encoded data removed]",
      "text/plain": [
       "<Figure size 432x288 with 1 Axes>"
      ]
     },
     "metadata": {
      "needs_background": "light"
     },
     "output_type": "display_data"
    }
   ],
   "source": [
    "#plot the dataset\n",
    "linear_data = tf.keras.activations.linear(A)\n",
    "plt.plot(linear_data)"
   ]
  },
  {
   "cell_type": "markdown",
   "id": "6340d627",
   "metadata": {},
   "source": [
    "#### No.2 is Sigmoid activation function"
   ]
  },
  {
   "cell_type": "code",
   "execution_count": 37,
   "id": "e73a2929",
   "metadata": {},
   "outputs": [
    {
     "data": {
      "text/plain": [
       "[<matplotlib.lines.Line2D at 0x7f3d9661de50>]"
      ]
     },
     "execution_count": 37,
     "metadata": {},
     "output_type": "execute_result"
    },
    {
     "data": {
      "image/png": "[encoded data removed]",
      "text/plain": [
       "<Figure size 432x288 with 1 Axes>"
      ]
     },
     "metadata": {
      "needs_background": "light"
     },
     "output_type": "display_data"
    }
   ],
   "source": [
    "sigmoid_data = tf.keras.activations.sigmoid(A)\n",
    "plt.plot(sigmoid_data)"
   ]
  },
  {
   "cell_type": "markdown",
   "id": "37c0c246",
   "metadata": {},
   "source": [
    "#### No.3 is the relu activation function"
   ]
  },
  {
   "cell_type": "code",
   "execution_count": 38,
   "id": "85187951",
   "metadata": {},
   "outputs": [
    {
     "data": {
      "text/plain": [
       "[<matplotlib.lines.Line2D at 0x7f3d95932550>]"
      ]
     },
     "execution_count": 38,
     "metadata": {},
     "output_type": "execute_result"
    },
    {
     "data": {
      "image/png": "[encoded data removed]",
      "text/plain": [
       "<Figure size 432x288 with 1 Axes>"
      ]
     },
     "metadata": {
      "needs_background": "light"
     },
     "output_type": "display_data"
    }
   ],
   "source": [
    "relu_data = tf.keras.activations.relu(A)\n",
    "plt.plot(relu_data)"
   ]
  },
  {
   "cell_type": "markdown",
   "id": "bff539be",
   "metadata": {},
   "source": [
    "#### No.4 Tanh activation function"
   ]
  },
  {
   "cell_type": "code",
   "execution_count": 39,
   "id": "7286f349",
   "metadata": {},
   "outputs": [
    {
     "data": {
      "text/plain": [
       "[<matplotlib.lines.Line2D at 0x7f3d95887580>]"
      ]
     },
     "execution_count": 39,
     "metadata": {},
     "output_type": "execute_result"
    },
    {
     "data": {
      "image/png": "[encoded data removed]",
      "text/plain": [
       "<Figure size 432x288 with 1 Axes>"
      ]
     },
     "metadata": {
      "needs_background": "light"
     },
     "output_type": "display_data"
    }
   ],
   "source": [
    "Tanh_data = tf.keras.activations.tanh(A)\n",
    "plt.plot(Tanh_data)"
   ]
  },
  {
   "cell_type": "code",
   "execution_count": 40,
   "id": "c1fa77b8",
   "metadata": {},
   "outputs": [
    {
     "data": {
      "text/plain": [
       "[<matplotlib.lines.Line2D at 0x7f3d95875a60>]"
      ]
     },
     "execution_count": 40,
     "metadata": {},
     "output_type": "execute_result"
    },
    {
     "data": {
      "image/png": "[encoded data removed]",
      "text/plain": [
       "<Figure size 432x288 with 1 Axes>"
      ]
     },
     "metadata": {
      "needs_background": "light"
     },
     "output_type": "display_data"
    }
   ],
   "source": [
    "leaky_relu=tf.nn.leaky_relu(A)\n",
    "plt.plot(leaky_relu)"
   ]
  },
  {
   "cell_type": "markdown",
   "id": "5c8644ae",
   "metadata": {},
   "source": [
    "### Check the accuracy of our models\n"
   ]
  },
  {
   "cell_type": "code",
   "execution_count": 49,
   "id": "80e12ccf",
   "metadata": {},
   "outputs": [
    {
     "name": "stdout",
     "output_type": "stream",
     "text": [
      "32/32 [==============================] - 0s 1ms/step - loss: 0.0029 - accuracy: 1.0000\n",
      "The model loss is = 0.0028803732711821795\n",
      "The model accuracy is = 100.0\n"
     ]
    }
   ],
   "source": [
    "loss, accuracy = model.evaluate(X,y)\n",
    "print(f\"The model loss is = {loss}\")\n",
    "print(f\"The model accuracy is = {(accuracy*100)}\")"
   ]
  },
  {
   "cell_type": "code",
   "execution_count": 69,
   "id": "f0426e6e",
   "metadata": {},
   "outputs": [
    {
     "data": {
      "text/plain": [
       "(<tf.Tensor: shape=(10, 1), dtype=float32, numpy=\n",
       " array([[1.],\n",
       "        [1.],\n",
       "        [1.],\n",
       "        [1.],\n",
       "        [0.],\n",
       "        [1.],\n",
       "        [1.],\n",
       "        [1.],\n",
       "        [1.],\n",
       "        [0.]], dtype=float32)>,\n",
       " array([1, 1, 1, 1, 0, 1, 1, 1, 1, 0]))"
      ]
     },
     "execution_count": 69,
     "metadata": {},
     "output_type": "execute_result"
    }
   ],
   "source": [
    "#get the model predictions\n",
    "y_pred = model.predict(X)\n",
    "\n",
    "#Convert the generated predictions to either 0 or 1. for the confusion matriz to work all the datasets must be in same format\n",
    "#e.g all must be in binary form, hence the reason for the conversion \n",
    "y_pred_rounded=tf.round(y_pred)\n",
    "y_pred_rounded[:10], y[:10]"
   ]
  },
  {
   "cell_type": "code",
   "execution_count": 64,
   "id": "879afc82",
   "metadata": {},
   "outputs": [
    {
     "data": {
      "text/plain": [
       "array([[500,   0],\n",
       "       [  0, 500]])"
      ]
     },
     "execution_count": 64,
     "metadata": {},
     "output_type": "execute_result"
    }
   ],
   "source": [
    "from sklearn.metrics import confusion_matrix\n",
    "#Using the confusion matriz as our metrics\n",
    "#the y_true contains the labels for the testing dataset\n",
    "cm = confusion_matrix(y_true=y, y_pred=y_pred_rounded)\n",
    "cm"
   ]
  },
  {
   "cell_type": "code",
   "execution_count": 67,
   "id": "02717156",
   "metadata": {},
   "outputs": [],
   "source": [
    "import itertools #this tool must be imported for the confusion matrix method below to work\n",
    "\n",
    "#Define the pretty confusion matrix method here\n",
    "def plot_confusion_matrix(cm,\n",
    "                          classes,\n",
    "                          normalize=False,\n",
    "                          title='Confusion matrix',\n",
    "                          cmap=plt.cm.Blues):\n",
    "    \"\"\"\n",
    "    This function prints and plots the confusion matrix.\n",
    "    Normalization can be applied by setting `normalize=True`.\n",
    "    \"\"\"\n",
    "    plt.imshow(cm, interpolation='nearest', cmap=cmap)\n",
    "    plt.title(title)\n",
    "    plt.colorbar()\n",
    "    tick_marks = np.arange(len(classes))\n",
    "    plt.xticks(tick_marks, classes, rotation=45)\n",
    "    plt.yticks(tick_marks, classes)\n",
    "\n",
    "    if normalize:\n",
    "        cm = cm.astype('float') / cm.sum(axis=1)[:, np.newaxis]\n",
    "        print(\"Normalized confusion matrix\")\n",
    "    else:\n",
    "        print('Confusion matrix, without normalization')\n",
    "\n",
    "    print(cm)\n",
    "\n",
    "    thresh = cm.max() / 2.\n",
    "    for i, j in itertools.product(range(cm.shape[0]), range(cm.shape[1])):\n",
    "        plt.text(j, i, cm[i, j],\n",
    "            horizontalalignment=\"center\",\n",
    "            color=\"white\" if cm[i, j] > thresh else \"black\")\n",
    "\n",
    "    plt.tight_layout()\n",
    "    plt.ylabel('True label')\n",
    "    plt.xlabel('Predicted label')\n"
   ]
  },
  {
   "cell_type": "code",
   "execution_count": 70,
   "id": "d7192db6",
   "metadata": {},
   "outputs": [
    {
     "name": "stdout",
     "output_type": "stream",
     "text": [
      "Confusion matrix, without normalization\n",
      "[[500   0]\n",
      " [  0 500]]\n"
     ]
    },
    {
     "data": {
      "image/png": "[encoded data removed]",
      "text/plain": [
       "<Figure size 432x288 with 2 Axes>"
      ]
     },
     "metadata": {
      "needs_background": "light"
     },
     "output_type": "display_data"
    }
   ],
   "source": [
    "labels=[\"0\",\"1\"]\n",
    "plot_confusion_matrix(cm=cm,classes=labels)"
   ]
  },
  {
   "cell_type": "markdown",
   "id": "84bd5afe",
   "metadata": {},
   "source": [
    "## Multi-class classification using neural net"
   ]
  },
  {
   "cell_type": "code",
   "execution_count": 73,
   "id": "5d44924e",
   "metadata": {
    "scrolled": true
   },
   "outputs": [
    {
     "name": "stdout",
     "output_type": "stream",
     "text": [
      "Downloading data from https://storage.googleapis.com/tensorflow/tf-keras-datasets/train-labels-idx1-ubyte.gz\n",
      "32768/29515 [=================================] - 0s 2us/step\n",
      "Downloading data from https://storage.googleapis.com/tensorflow/tf-keras-datasets/train-images-idx3-ubyte.gz\n",
      "26427392/26421880 [==============================] - 2s 0us/step\n",
      "Downloading data from https://storage.googleapis.com/tensorflow/tf-keras-datasets/t10k-labels-idx1-ubyte.gz\n",
      "8192/5148 [===============================================] - 0s 0us/step\n",
      "Downloading data from https://storage.googleapis.com/tensorflow/tf-keras-datasets/t10k-images-idx3-ubyte.gz\n",
      "4423680/4422102 [==============================] - 1s 0us/step\n"
     ]
    }
   ],
   "source": [
    "import tensorflow as tf\n",
    "from tensorflow.keras.datasets import fashion_mnist\n",
    "\n",
    "#data already split to test and training sets\n",
    "(train_data, train_labels), (test_data, test_labels) = fashion_mnist.load_data()\n"
   ]
  },
  {
   "cell_type": "code",
   "execution_count": 76,
   "id": "8c7f7c44",
   "metadata": {},
   "outputs": [
    {
     "data": {
      "text/plain": [
       "((60000, 28, 28), (60000,))"
      ]
     },
     "execution_count": 76,
     "metadata": {},
     "output_type": "execute_result"
    }
   ],
   "source": [
    "#check the shape of our datasets both for features and their lables\n",
    "train_data.shape, train_labels.shape"
   ]
  },
  {
   "cell_type": "code",
   "execution_count": 85,
   "id": "fb3f6d55",
   "metadata": {},
   "outputs": [
    {
     "data": {
      "text/plain": [
       "array([[  0,   0,   0,   0,   0,   0,   0,   0,   0,   0,   0,   0,   0,\n",
       "          0,   0,   0,   0,   0,   0,   0,   0,   0,   0,   0,   0,   0,\n",
       "          0,   0],\n",
       "       [  0,   0,   0,   0,   0,   0,   0,   0,   0,   0,   0,   0,   0,\n",
       "          0,   0,   0,   0,   0,   0,   0,   0,   0,   0,   0,   0,   0,\n",
       "          0,   0],\n",
       "       [  0,   0,   0,   0,   0,   0,   0,   0,   0,   0,   0,   0,   0,\n",
       "          0,   0,   0,   0,   0,   0,   0,   0,   0,   0,   0,   0,   0,\n",
       "          0,   0],\n",
       "       [  0,   0,   0,   0,   0,   0,   0,   0,   0,   0,   0,   0,   1,\n",
       "          0,   0,  13,  73,   0,   0,   1,   4,   0,   0,   0,   0,   1,\n",
       "          1,   0],\n",
       "       [  0,   0,   0,   0,   0,   0,   0,   0,   0,   0,   0,   0,   3,\n",
       "          0,  36, 136, 127,  62,  54,   0,   0,   0,   1,   3,   4,   0,\n",
       "          0,   3],\n",
       "       [  0,   0,   0,   0,   0,   0,   0,   0,   0,   0,   0,   0,   6,\n",
       "          0, 102, 204, 176, 134, 144, 123,  23,   0,   0,   0,   0,  12,\n",
       "         10,   0],\n",
       "       [  0,   0,   0,   0,   0,   0,   0,   0,   0,   0,   0,   0,   0,\n",
       "          0, 155, 236, 207, 178, 107, 156, 161, 109,  64,  23,  77, 130,\n",
       "         72,  15],\n",
       "       [  0,   0,   0,   0,   0,   0,   0,   0,   0,   0,   0,   1,   0,\n",
       "         69, 207, 223, 218, 216, 216, 163, 127, 121, 122, 146, 141,  88,\n",
       "        172,  66],\n",
       "       [  0,   0,   0,   0,   0,   0,   0,   0,   0,   1,   1,   1,   0,\n",
       "        200, 232, 232, 233, 229, 223, 223, 215, 213, 164, 127, 123, 196,\n",
       "        229,   0],\n",
       "       [  0,   0,   0,   0,   0,   0,   0,   0,   0,   0,   0,   0,   0,\n",
       "        183, 225, 216, 223, 228, 235, 227, 224, 222, 224, 221, 223, 245,\n",
       "        173,   0],\n",
       "       [  0,   0,   0,   0,   0,   0,   0,   0,   0,   0,   0,   0,   0,\n",
       "        193, 228, 218, 213, 198, 180, 212, 210, 211, 213, 223, 220, 243,\n",
       "        202,   0],\n",
       "       [  0,   0,   0,   0,   0,   0,   0,   0,   0,   1,   3,   0,  12,\n",
       "        219, 220, 212, 218, 192, 169, 227, 208, 218, 224, 212, 226, 197,\n",
       "        209,  52],\n",
       "       [  0,   0,   0,   0,   0,   0,   0,   0,   0,   0,   6,   0,  99,\n",
       "        244, 222, 220, 218, 203, 198, 221, 215, 213, 222, 220, 245, 119,\n",
       "        167,  56],\n",
       "       [  0,   0,   0,   0,   0,   0,   0,   0,   0,   4,   0,   0,  55,\n",
       "        236, 228, 230, 228, 240, 232, 213, 218, 223, 234, 217, 217, 209,\n",
       "         92,   0],\n",
       "       [  0,   0,   1,   4,   6,   7,   2,   0,   0,   0,   0,   0, 237,\n",
       "        226, 217, 223, 222, 219, 222, 221, 216, 223, 229, 215, 218, 255,\n",
       "         77,   0],\n",
       "       [  0,   3,   0,   0,   0,   0,   0,   0,   0,  62, 145, 204, 228,\n",
       "        207, 213, 221, 218, 208, 211, 218, 224, 223, 219, 215, 224, 244,\n",
       "        159,   0],\n",
       "       [  0,   0,   0,   0,  18,  44,  82, 107, 189, 228, 220, 222, 217,\n",
       "        226, 200, 205, 211, 230, 224, 234, 176, 188, 250, 248, 233, 238,\n",
       "        215,   0],\n",
       "       [  0,  57, 187, 208, 224, 221, 224, 208, 204, 214, 208, 209, 200,\n",
       "        159, 245, 193, 206, 223, 255, 255, 221, 234, 221, 211, 220, 232,\n",
       "        246,   0],\n",
       "       [  3, 202, 228, 224, 221, 211, 211, 214, 205, 205, 205, 220, 240,\n",
       "         80, 150, 255, 229, 221, 188, 154, 191, 210, 204, 209, 222, 228,\n",
       "        225,   0],\n",
       "       [ 98, 233, 198, 210, 222, 229, 229, 234, 249, 220, 194, 215, 217,\n",
       "        241,  65,  73, 106, 117, 168, 219, 221, 215, 217, 223, 223, 224,\n",
       "        229,  29],\n",
       "       [ 75, 204, 212, 204, 193, 205, 211, 225, 216, 185, 197, 206, 198,\n",
       "        213, 240, 195, 227, 245, 239, 223, 218, 212, 209, 222, 220, 221,\n",
       "        230,  67],\n",
       "       [ 48, 203, 183, 194, 213, 197, 185, 190, 194, 192, 202, 214, 219,\n",
       "        221, 220, 236, 225, 216, 199, 206, 186, 181, 177, 172, 181, 205,\n",
       "        206, 115],\n",
       "       [  0, 122, 219, 193, 179, 171, 183, 196, 204, 210, 213, 207, 211,\n",
       "        210, 200, 196, 194, 191, 195, 191, 198, 192, 176, 156, 167, 177,\n",
       "        210,  92],\n",
       "       [  0,   0,  74, 189, 212, 191, 175, 172, 175, 181, 185, 188, 189,\n",
       "        188, 193, 198, 204, 209, 210, 210, 211, 188, 188, 194, 192, 216,\n",
       "        170,   0],\n",
       "       [  2,   0,   0,   0,  66, 200, 222, 237, 239, 242, 246, 243, 244,\n",
       "        221, 220, 193, 191, 179, 182, 182, 181, 176, 166, 168,  99,  58,\n",
       "          0,   0],\n",
       "       [  0,   0,   0,   0,   0,   0,   0,  40,  61,  44,  72,  41,  35,\n",
       "          0,   0,   0,   0,   0,   0,   0,   0,   0,   0,   0,   0,   0,\n",
       "          0,   0],\n",
       "       [  0,   0,   0,   0,   0,   0,   0,   0,   0,   0,   0,   0,   0,\n",
       "          0,   0,   0,   0,   0,   0,   0,   0,   0,   0,   0,   0,   0,\n",
       "          0,   0],\n",
       "       [  0,   0,   0,   0,   0,   0,   0,   0,   0,   0,   0,   0,   0,\n",
       "          0,   0,   0,   0,   0,   0,   0,   0,   0,   0,   0,   0,   0,\n",
       "          0,   0]], dtype=uint8)"
      ]
     },
     "execution_count": 85,
     "metadata": {},
     "output_type": "execute_result"
    }
   ],
   "source": [
    "#Check a single train data and later plot it to visualize\n",
    "train_data[0]"
   ]
  },
  {
   "cell_type": "code",
   "execution_count": 88,
   "id": "dce4feeb",
   "metadata": {},
   "outputs": [
    {
     "data": {
      "text/plain": [
       "<matplotlib.image.AxesImage at 0x7f3d941794c0>"
      ]
     },
     "execution_count": 88,
     "metadata": {},
     "output_type": "execute_result"
    },
    {
     "data": {
      "image/png": "[encoded data removed]",
      "text/plain": [
       "<Figure size 432x288 with 1 Axes>"
      ]
     },
     "metadata": {
      "needs_background": "light"
     },
     "output_type": "display_data"
    }
   ],
   "source": [
    "#plot to visualize\n",
    "import matplotlib.pyplot as plt\n",
    "plt.imshow(train_data[1])"
   ]
  },
  {
   "cell_type": "code",
   "execution_count": 91,
   "id": "78b5f0fb",
   "metadata": {},
   "outputs": [
    {
     "data": {
      "text/plain": [
       "10"
      ]
     },
     "execution_count": 91,
     "metadata": {},
     "output_type": "execute_result"
    }
   ],
   "source": [
    "#creating a small list to index to our training label\n",
    "class_name = [\"T-shirt/top\", \"Trouser\", \"Pullover\", \"Dress\", \n",
    "            \"Coat\", \"Sandal\", \"Shirt\", \"Sneaker\", \"Bag\", \"Ankle boot\"]\n",
    "len(class_name)"
   ]
  },
  {
   "cell_type": "code",
   "execution_count": null,
   "id": "c461058f",
   "metadata": {},
   "outputs": [],
   "source": [
    "Pl"
   ]
  }
 ],
 "metadata": {
  "kernelspec": {
   "display_name": "Python 3",
   "language": "python",
   "name": "python3"
  },
  "language_info": {
   "codemirror_mode": {
    "name": "ipython",
    "version": 3
   },
   "file_extension": ".py",
   "mimetype": "text/x-python",
   "name": "python",
   "nbconvert_exporter": "python",
   "pygments_lexer": "ipython3",
   "version": "3.8.10"
  }
 },
 "nbformat": 4,
 "nbformat_minor": 5
}
