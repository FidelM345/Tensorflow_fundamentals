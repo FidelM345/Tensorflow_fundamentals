{
 "cells": [
  {
   "cell_type": "markdown",
   "id": "23f576e9",
   "metadata": {},
   "source": [
    "# Introduction to regression with Neural Networks in tensorflow"
   ]
  },
  {
   "cell_type": "code",
   "execution_count": 3,
   "id": "eb1b93a5",
   "metadata": {},
   "outputs": [
    {
     "name": "stdout",
     "output_type": "stream",
     "text": [
      "2.4.1\n"
     ]
    }
   ],
   "source": [
    "import tensorflow as tf\n",
    "print(tf.__version__)\n",
    "\n",
    "import os\n",
    "os.environ['TF_CPP_MIN_LOG_LEVEL'] = '2'"
   ]
  },
  {
   "cell_type": "markdown",
   "id": "c5f40f76",
   "metadata": {},
   "source": [
    "## Create data to view and fit"
   ]
  },
  {
   "cell_type": "code",
   "execution_count": 4,
   "id": "9952f730",
   "metadata": {},
   "outputs": [],
   "source": [
    "#import necessary packages\n",
    "import numpy as np\n",
    "import matplotlib.pyplot as plt"
   ]
  },
  {
   "cell_type": "code",
   "execution_count": 5,
   "id": "19f5a12c",
   "metadata": {},
   "outputs": [
    {
     "data": {
      "text/plain": [
       "<matplotlib.collections.PathCollection at 0x7f3d07d92b80>"
      ]
     },
     "execution_count": 5,
     "metadata": {},
     "output_type": "execute_result"
    },
    {
     "data": {
      "image/png": "[encoded data removed]",
      "text/plain": [
       "<Figure size 432x288 with 1 Axes>"
      ]
     },
     "metadata": {
      "needs_background": "light"
     },
     "output_type": "display_data"
    }
   ],
   "source": [
    "#Create input features\n",
    "X = np.array([-7.0,-4.0,-1.0,2.0,5.0,8.0,11.0,14.0])\n",
    "y = np.array([3.0,6.0,9.0,12.0,15.0,18.0,21.0,24.0])\n",
    "\n",
    "#visualize the data\n",
    "plt.scatter(X,y)"
   ]
  },
  {
   "cell_type": "markdown",
   "id": "2bb619e1",
   "metadata": {},
   "source": [
    "## Creating and training the neural network"
   ]
  },
  {
   "cell_type": "code",
   "execution_count": 6,
   "id": "049f552c",
   "metadata": {},
   "outputs": [],
   "source": [
    "#first we must convert all our numpy arrays into tensors\n",
    "X = tf.constant(tf.cast(X, dtype=tf.float32))\n",
    "y = tf.constant(tf.cast(y, dtype=tf.float32))"
   ]
  },
  {
   "cell_type": "code",
   "execution_count": 7,
   "id": "9bbf6524",
   "metadata": {},
   "outputs": [
    {
     "name": "stdout",
     "output_type": "stream",
     "text": [
      "Epoch 1/5\n",
      "1/1 [==============================] - 1s 710ms/step - loss: 11.5048 - mae: 11.5048\n",
      "Epoch 2/5\n",
      "1/1 [==============================] - 0s 4ms/step - loss: 11.3723 - mae: 11.3723\n",
      "Epoch 3/5\n",
      "1/1 [==============================] - 0s 4ms/step - loss: 11.2398 - mae: 11.2398\n",
      "Epoch 4/5\n",
      "1/1 [==============================] - 0s 6ms/step - loss: 11.1073 - mae: 11.1073\n",
      "Epoch 5/5\n",
      "1/1 [==============================] - 0s 5ms/step - loss: 10.9748 - mae: 10.9748\n"
     ]
    },
    {
     "data": {
      "text/plain": [
       "<tensorflow.python.keras.callbacks.History at 0x7f3cfc4282b0>"
      ]
     },
     "execution_count": 7,
     "metadata": {},
     "output_type": "execute_result"
    }
   ],
   "source": [
    "tf.random.set_seed(42)\n",
    "model = tf.keras.models.Sequential([\n",
    "    tf.keras.layers.Dense(1)\n",
    "])\n",
    "\n",
    "model.compile(\n",
    "    optimizer = 'sgd',\n",
    "    loss = 'mae',\n",
    "    metrics=[\"mae\"]\n",
    ")\n",
    "\n",
    "# This builds the model for the first time:\n",
    "model.fit(X, y,epochs=5)"
   ]
  },
  {
   "cell_type": "code",
   "execution_count": 8,
   "id": "262e7c78",
   "metadata": {
    "scrolled": true
   },
   "outputs": [
    {
     "data": {
      "text/plain": [
       "array([[10.480841]], dtype=float32)"
      ]
     },
     "execution_count": 8,
     "metadata": {},
     "output_type": "execute_result"
    }
   ],
   "source": [
    "#make a prediction\n",
    "model.predict([14.0])"
   ]
  },
  {
   "cell_type": "markdown",
   "id": "e6b5f16c",
   "metadata": {},
   "source": [
    "## Ways of improving the model accuracy (Hyper parameters)\n",
    "#### 1. Creating the model \n",
    "* Adding more layers.\n",
    "* Adding more hidden units or neurons.\n",
    "* Change the activation function.\n",
    "\n",
    "#### 2. Compliling the model \n",
    "* Change the optimization function.\n",
    "* Change the learning rate.\n",
    "* Change the loss function.\n",
    "\n",
    "#### 3. Fitting the model \n",
    "* Adding more epochs or training the data for a longer period.\n",
    "* Adding more training data.\n"
   ]
  },
  {
   "cell_type": "code",
   "execution_count": 9,
   "id": "e4b57771",
   "metadata": {},
   "outputs": [
    {
     "name": "stdout",
     "output_type": "stream",
     "text": [
      "Epoch 1/100\n",
      "1/1 [==============================] - 0s 399ms/step - loss: 12.6552 - mae: 12.6552 - val_loss: 26.0992 - val_mae: 26.0992\n",
      "Epoch 2/100\n",
      "1/1 [==============================] - 0s 36ms/step - loss: 12.2181 - mae: 12.2181 - val_loss: 23.6140 - val_mae: 23.6140\n",
      "Epoch 3/100\n",
      "1/1 [==============================] - 0s 40ms/step - loss: 11.7811 - mae: 11.7811 - val_loss: 21.1247 - val_mae: 21.1247\n",
      "Epoch 4/100\n",
      "1/1 [==============================] - 0s 37ms/step - loss: 11.3431 - mae: 11.3431 - val_loss: 18.6227 - val_mae: 18.6227\n",
      "Epoch 5/100\n",
      "1/1 [==============================] - 0s 34ms/step - loss: 10.9020 - mae: 10.9020 - val_loss: 16.0989 - val_mae: 16.0989\n",
      "Epoch 6/100\n",
      "1/1 [==============================] - 0s 37ms/step - loss: 10.4561 - mae: 10.4561 - val_loss: 13.5454 - val_mae: 13.5454\n",
      "Epoch 7/100\n",
      "1/1 [==============================] - 0s 37ms/step - loss: 10.0036 - mae: 10.0036 - val_loss: 10.9553 - val_mae: 10.9553\n",
      "Epoch 8/100\n",
      "1/1 [==============================] - 0s 38ms/step - loss: 9.5431 - mae: 9.5431 - val_loss: 8.3216 - val_mae: 8.3216\n",
      "Epoch 9/100\n",
      "1/1 [==============================] - 0s 36ms/step - loss: 9.0732 - mae: 9.0732 - val_loss: 5.6374 - val_mae: 5.6374\n",
      "Epoch 10/100\n",
      "1/1 [==============================] - 0s 34ms/step - loss: 8.5924 - mae: 8.5924 - val_loss: 2.8951 - val_mae: 2.8951\n",
      "Epoch 11/100\n",
      "1/1 [==============================] - 0s 39ms/step - loss: 8.0992 - mae: 8.0992 - val_loss: 0.0861 - val_mae: 0.0861\n",
      "Epoch 12/100\n",
      "1/1 [==============================] - 0s 42ms/step - loss: 7.5918 - mae: 7.5918 - val_loss: 2.7986 - val_mae: 2.7986\n",
      "Epoch 13/100\n",
      "1/1 [==============================] - 0s 33ms/step - loss: 7.1632 - mae: 7.1632 - val_loss: 5.1945 - val_mae: 5.1945\n",
      "Epoch 14/100\n",
      "1/1 [==============================] - 0s 39ms/step - loss: 7.2546 - mae: 7.2546 - val_loss: 7.1376 - val_mae: 7.1376\n",
      "Epoch 15/100\n",
      "1/1 [==============================] - 0s 32ms/step - loss: 7.4392 - mae: 7.4392 - val_loss: 8.0166 - val_mae: 8.0166\n",
      "Epoch 16/100\n",
      "1/1 [==============================] - 0s 44ms/step - loss: 7.5746 - mae: 7.5746 - val_loss: 8.1341 - val_mae: 8.1341\n",
      "Epoch 17/100\n",
      "1/1 [==============================] - 0s 39ms/step - loss: 7.5307 - mae: 7.5307 - val_loss: 7.6875 - val_mae: 7.6875\n",
      "Epoch 18/100\n",
      "1/1 [==============================] - 0s 38ms/step - loss: 7.3554 - mae: 7.3554 - val_loss: 6.8163 - val_mae: 6.8163\n",
      "Epoch 19/100\n",
      "1/1 [==============================] - 0s 34ms/step - loss: 7.0819 - mae: 7.0819 - val_loss: 5.6229 - val_mae: 5.6229\n",
      "Epoch 20/100\n",
      "1/1 [==============================] - 0s 36ms/step - loss: 6.7911 - mae: 6.7911 - val_loss: 4.4397 - val_mae: 4.4397\n",
      "Epoch 21/100\n",
      "1/1 [==============================] - 0s 37ms/step - loss: 6.6283 - mae: 6.6283 - val_loss: 3.2675 - val_mae: 3.2675\n",
      "Epoch 22/100\n",
      "1/1 [==============================] - 0s 34ms/step - loss: 6.4646 - mae: 6.4646 - val_loss: 2.1066 - val_mae: 2.1066\n",
      "Epoch 23/100\n",
      "1/1 [==============================] - 0s 34ms/step - loss: 6.3001 - mae: 6.3001 - val_loss: 0.9567 - val_mae: 0.9567\n",
      "Epoch 24/100\n",
      "1/1 [==============================] - 0s 35ms/step - loss: 6.3857 - mae: 6.3857 - val_loss: 0.2485 - val_mae: 0.2485\n",
      "Epoch 25/100\n",
      "1/1 [==============================] - 0s 34ms/step - loss: 6.3961 - mae: 6.3961 - val_loss: 0.0816 - val_mae: 0.0816\n",
      "Epoch 26/100\n",
      "1/1 [==============================] - 0s 35ms/step - loss: 6.3399 - mae: 6.3399 - val_loss: 0.0801 - val_mae: 0.0801\n",
      "Epoch 27/100\n",
      "1/1 [==============================] - 0s 37ms/step - loss: 6.2241 - mae: 6.2241 - val_loss: 0.2187 - val_mae: 0.2187\n",
      "Epoch 28/100\n",
      "1/1 [==============================] - 0s 39ms/step - loss: 6.0540 - mae: 6.0540 - val_loss: 0.7896 - val_mae: 0.7896\n",
      "Epoch 29/100\n",
      "1/1 [==============================] - 0s 36ms/step - loss: 5.8334 - mae: 5.8334 - val_loss: 1.6140 - val_mae: 1.6140\n",
      "Epoch 30/100\n",
      "1/1 [==============================] - 0s 39ms/step - loss: 5.5647 - mae: 5.5647 - val_loss: 2.6788 - val_mae: 2.6788\n",
      "Epoch 31/100\n",
      "1/1 [==============================] - 0s 39ms/step - loss: 5.4489 - mae: 5.4489 - val_loss: 3.5571 - val_mae: 3.5571\n",
      "Epoch 32/100\n",
      "1/1 [==============================] - 0s 36ms/step - loss: 5.3681 - mae: 5.3681 - val_loss: 4.2575 - val_mae: 4.2575\n",
      "Epoch 33/100\n",
      "1/1 [==============================] - 0s 37ms/step - loss: 5.2712 - mae: 5.2712 - val_loss: 4.7883 - val_mae: 4.7883\n",
      "Epoch 34/100\n",
      "1/1 [==============================] - 0s 31ms/step - loss: 5.2067 - mae: 5.2067 - val_loss: 4.8047 - val_mae: 4.8047\n",
      "Epoch 35/100\n",
      "1/1 [==============================] - 0s 37ms/step - loss: 5.0874 - mae: 5.0874 - val_loss: 4.3701 - val_mae: 4.3701\n",
      "Epoch 36/100\n",
      "1/1 [==============================] - 0s 34ms/step - loss: 4.8657 - mae: 4.8657 - val_loss: 3.5423 - val_mae: 3.5423\n",
      "Epoch 37/100\n",
      "1/1 [==============================] - 0s 33ms/step - loss: 4.6470 - mae: 4.6470 - val_loss: 2.6690 - val_mae: 2.6690\n",
      "Epoch 38/100\n",
      "1/1 [==============================] - 0s 39ms/step - loss: 4.4427 - mae: 4.4427 - val_loss: 1.7499 - val_mae: 1.7499\n",
      "Epoch 39/100\n",
      "1/1 [==============================] - 0s 34ms/step - loss: 4.2289 - mae: 4.2289 - val_loss: 0.7841 - val_mae: 0.7841\n",
      "Epoch 40/100\n",
      "1/1 [==============================] - 0s 33ms/step - loss: 4.1324 - mae: 4.1324 - val_loss: 0.2676 - val_mae: 0.2676\n",
      "Epoch 41/100\n",
      "1/1 [==============================] - 0s 39ms/step - loss: 4.0285 - mae: 4.0285 - val_loss: 0.1615 - val_mae: 0.1615\n",
      "Epoch 42/100\n",
      "1/1 [==============================] - 0s 37ms/step - loss: 3.8452 - mae: 3.8452 - val_loss: 0.4357 - val_mae: 0.4357\n",
      "Epoch 43/100\n",
      "1/1 [==============================] - 0s 38ms/step - loss: 3.5878 - mae: 3.5878 - val_loss: 1.0668 - val_mae: 1.0668\n",
      "Epoch 44/100\n",
      "1/1 [==============================] - 0s 36ms/step - loss: 3.2601 - mae: 3.2601 - val_loss: 2.0368 - val_mae: 2.0368\n",
      "Epoch 45/100\n",
      "1/1 [==============================] - 0s 36ms/step - loss: 3.0969 - mae: 3.0969 - val_loss: 2.8025 - val_mae: 2.8025\n",
      "Epoch 46/100\n",
      "1/1 [==============================] - 0s 36ms/step - loss: 2.9609 - mae: 2.9609 - val_loss: 2.9578 - val_mae: 2.9578\n",
      "Epoch 47/100\n",
      "1/1 [==============================] - 0s 37ms/step - loss: 2.8022 - mae: 2.8022 - val_loss: 2.5688 - val_mae: 2.5688\n",
      "Epoch 48/100\n",
      "1/1 [==============================] - 0s 33ms/step - loss: 2.5178 - mae: 2.5178 - val_loss: 1.6939 - val_mae: 1.6939\n",
      "Epoch 49/100\n",
      "1/1 [==============================] - 0s 35ms/step - loss: 2.1547 - mae: 2.1547 - val_loss: 0.7397 - val_mae: 0.7397\n",
      "Epoch 50/100\n",
      "1/1 [==============================] - 0s 33ms/step - loss: 1.8519 - mae: 1.8519 - val_loss: 0.2954 - val_mae: 0.2954\n",
      "Epoch 51/100\n",
      "1/1 [==============================] - 0s 37ms/step - loss: 1.7191 - mae: 1.7191 - val_loss: 0.8146 - val_mae: 0.8146\n",
      "Epoch 52/100\n",
      "1/1 [==============================] - 0s 33ms/step - loss: 1.5136 - mae: 1.5136 - val_loss: 0.8538 - val_mae: 0.8538\n",
      "Epoch 53/100\n",
      "1/1 [==============================] - 0s 36ms/step - loss: 1.2139 - mae: 1.2139 - val_loss: 0.4418 - val_mae: 0.4418\n",
      "Epoch 54/100\n",
      "1/1 [==============================] - 0s 33ms/step - loss: 0.8252 - mae: 0.8252 - val_loss: 0.3981 - val_mae: 0.3981\n",
      "Epoch 55/100\n",
      "1/1 [==============================] - 0s 36ms/step - loss: 0.4185 - mae: 0.4185 - val_loss: 0.5342 - val_mae: 0.5342\n",
      "Epoch 56/100\n",
      "1/1 [==============================] - 0s 36ms/step - loss: 0.2256 - mae: 0.2256 - val_loss: 0.3318 - val_mae: 0.3318\n",
      "Epoch 57/100\n",
      "1/1 [==============================] - 0s 34ms/step - loss: 0.2662 - mae: 0.2662 - val_loss: 0.5069 - val_mae: 0.5069\n",
      "Epoch 58/100\n",
      "1/1 [==============================] - 0s 34ms/step - loss: 0.5067 - mae: 0.5067 - val_loss: 0.0656 - val_mae: 0.0656\n",
      "Epoch 59/100\n",
      "1/1 [==============================] - 0s 38ms/step - loss: 0.6836 - mae: 0.6836 - val_loss: 0.1307 - val_mae: 0.1307\n",
      "Epoch 60/100\n",
      "1/1 [==============================] - 0s 33ms/step - loss: 0.7939 - mae: 0.7939 - val_loss: 0.6501 - val_mae: 0.6501\n",
      "Epoch 61/100\n",
      "1/1 [==============================] - 0s 39ms/step - loss: 0.8477 - mae: 0.8477 - val_loss: 0.9698 - val_mae: 0.9698\n",
      "Epoch 62/100\n",
      "1/1 [==============================] - 0s 32ms/step - loss: 0.9070 - mae: 0.9070 - val_loss: 0.6684 - val_mae: 0.6684\n",
      "Epoch 63/100\n"
     ]
    },
    {
     "name": "stdout",
     "output_type": "stream",
     "text": [
      "1/1 [==============================] - 0s 35ms/step - loss: 0.8220 - mae: 0.8220 - val_loss: 0.2548 - val_mae: 0.2548\n",
      "Epoch 64/100\n",
      "1/1 [==============================] - 0s 32ms/step - loss: 0.7288 - mae: 0.7288 - val_loss: 0.2557 - val_mae: 0.2557\n",
      "Epoch 65/100\n",
      "1/1 [==============================] - 0s 32ms/step - loss: 0.7018 - mae: 0.7018 - val_loss: 0.2656 - val_mae: 0.2656\n",
      "Epoch 66/100\n",
      "1/1 [==============================] - 0s 34ms/step - loss: 0.5578 - mae: 0.5578 - val_loss: 0.1583 - val_mae: 0.1583\n",
      "Epoch 67/100\n",
      "1/1 [==============================] - 0s 33ms/step - loss: 0.3232 - mae: 0.3232 - val_loss: 0.4040 - val_mae: 0.4040\n",
      "Epoch 68/100\n",
      "1/1 [==============================] - 0s 33ms/step - loss: 0.2160 - mae: 0.2160 - val_loss: 0.1395 - val_mae: 0.1395\n",
      "Epoch 69/100\n",
      "1/1 [==============================] - 0s 31ms/step - loss: 0.0751 - mae: 0.0751 - val_loss: 0.1391 - val_mae: 0.1391\n",
      "Epoch 70/100\n",
      "1/1 [==============================] - 0s 34ms/step - loss: 0.2268 - mae: 0.2268 - val_loss: 6.8665e-05 - val_mae: 6.8665e-05\n",
      "Epoch 71/100\n",
      "1/1 [==============================] - 0s 37ms/step - loss: 0.2952 - mae: 0.2952 - val_loss: 0.5074 - val_mae: 0.5074\n",
      "Epoch 72/100\n",
      "1/1 [==============================] - 0s 39ms/step - loss: 0.3769 - mae: 0.3769 - val_loss: 0.4864 - val_mae: 0.4864\n",
      "Epoch 73/100\n",
      "1/1 [==============================] - 0s 37ms/step - loss: 0.3783 - mae: 0.3783 - val_loss: 0.0023 - val_mae: 0.0023\n",
      "Epoch 74/100\n",
      "1/1 [==============================] - 0s 36ms/step - loss: 0.3221 - mae: 0.3221 - val_loss: 0.0585 - val_mae: 0.0585\n",
      "Epoch 75/100\n",
      "1/1 [==============================] - 0s 36ms/step - loss: 0.2723 - mae: 0.2723 - val_loss: 0.2622 - val_mae: 0.2622\n",
      "Epoch 76/100\n",
      "1/1 [==============================] - 0s 35ms/step - loss: 0.1897 - mae: 0.1897 - val_loss: 0.0830 - val_mae: 0.0830\n",
      "Epoch 77/100\n",
      "1/1 [==============================] - 0s 40ms/step - loss: 0.0594 - mae: 0.0594 - val_loss: 0.5468 - val_mae: 0.5468\n",
      "Epoch 78/100\n",
      "1/1 [==============================] - 0s 34ms/step - loss: 0.2308 - mae: 0.2308 - val_loss: 0.3021 - val_mae: 0.3021\n",
      "Epoch 79/100\n",
      "1/1 [==============================] - 0s 31ms/step - loss: 0.2201 - mae: 0.2201 - val_loss: 0.3799 - val_mae: 0.3799\n",
      "Epoch 80/100\n",
      "1/1 [==============================] - 0s 31ms/step - loss: 0.3325 - mae: 0.3325 - val_loss: 0.6174 - val_mae: 0.6174\n",
      "Epoch 81/100\n",
      "1/1 [==============================] - 0s 33ms/step - loss: 0.3943 - mae: 0.3943 - val_loss: 0.4538 - val_mae: 0.4538\n",
      "Epoch 82/100\n",
      "1/1 [==============================] - 0s 35ms/step - loss: 0.3415 - mae: 0.3415 - val_loss: 0.0658 - val_mae: 0.0658\n",
      "Epoch 83/100\n",
      "1/1 [==============================] - 0s 31ms/step - loss: 0.1884 - mae: 0.1884 - val_loss: 0.4266 - val_mae: 0.4266\n",
      "Epoch 84/100\n",
      "1/1 [==============================] - 0s 32ms/step - loss: 0.2006 - mae: 0.2006 - val_loss: 0.0805 - val_mae: 0.0805\n",
      "Epoch 85/100\n",
      "1/1 [==============================] - 0s 33ms/step - loss: 0.0307 - mae: 0.0307 - val_loss: 0.9622 - val_mae: 0.9622\n",
      "Epoch 86/100\n",
      "1/1 [==============================] - 0s 38ms/step - loss: 0.3932 - mae: 0.3932 - val_loss: 1.1437 - val_mae: 1.1437\n",
      "Epoch 87/100\n",
      "1/1 [==============================] - 0s 38ms/step - loss: 0.4858 - mae: 0.4858 - val_loss: 0.5935 - val_mae: 0.5935\n",
      "Epoch 88/100\n",
      "1/1 [==============================] - 0s 38ms/step - loss: 0.3396 - mae: 0.3396 - val_loss: 0.4877 - val_mae: 0.4877\n",
      "Epoch 89/100\n",
      "1/1 [==============================] - 0s 37ms/step - loss: 0.3820 - mae: 0.3820 - val_loss: 1.1287 - val_mae: 1.1287\n",
      "Epoch 90/100\n",
      "1/1 [==============================] - 0s 41ms/step - loss: 0.4936 - mae: 0.4936 - val_loss: 1.3815 - val_mae: 1.3815\n",
      "Epoch 91/100\n",
      "1/1 [==============================] - 0s 37ms/step - loss: 0.5452 - mae: 0.5452 - val_loss: 1.0614 - val_mae: 1.0614\n",
      "Epoch 92/100\n",
      "1/1 [==============================] - 0s 36ms/step - loss: 0.4204 - mae: 0.4204 - val_loss: 0.2269 - val_mae: 0.2269\n",
      "Epoch 93/100\n",
      "1/1 [==============================] - 0s 40ms/step - loss: 0.1677 - mae: 0.1677 - val_loss: 0.8589 - val_mae: 0.8589\n",
      "Epoch 94/100\n",
      "1/1 [==============================] - 0s 35ms/step - loss: 0.3320 - mae: 0.3320 - val_loss: 1.1448 - val_mae: 1.1448\n",
      "Epoch 95/100\n",
      "1/1 [==============================] - 0s 35ms/step - loss: 0.4287 - mae: 0.4287 - val_loss: 0.7305 - val_mae: 0.7305\n",
      "Epoch 96/100\n",
      "1/1 [==============================] - 0s 34ms/step - loss: 0.3020 - mae: 0.3020 - val_loss: 0.1902 - val_mae: 0.1902\n",
      "Epoch 97/100\n",
      "1/1 [==============================] - 0s 36ms/step - loss: 0.2123 - mae: 0.2123 - val_loss: 0.6303 - val_mae: 0.6303\n",
      "Epoch 98/100\n",
      "1/1 [==============================] - 0s 33ms/step - loss: 0.3422 - mae: 0.3422 - val_loss: 0.4456 - val_mae: 0.4456\n",
      "Epoch 99/100\n",
      "1/1 [==============================] - 0s 36ms/step - loss: 0.2820 - mae: 0.2820 - val_loss: 0.0997 - val_mae: 0.0997\n",
      "Epoch 100/100\n",
      "1/1 [==============================] - 0s 34ms/step - loss: 0.2210 - mae: 0.2210 - val_loss: 0.2698 - val_mae: 0.2698\n"
     ]
    },
    {
     "data": {
      "text/plain": [
       "<tensorflow.python.keras.callbacks.History at 0x7f3cfc279310>"
      ]
     },
     "execution_count": 9,
     "metadata": {},
     "output_type": "execute_result"
    }
   ],
   "source": [
    "### Trying to improve our model accuracy\n",
    "model = tf.keras.models.Sequential([\n",
    "    tf.keras.layers.Dense(50,\n",
    "                          activation = None),\n",
    "\n",
    "    tf.keras.layers.Dense(1)\n",
    "])\n",
    "\n",
    "model.compile(\n",
    "    loss = 'mae',\n",
    "    optimizer = tf.keras.optimizers.Adam(lr=0.01),\n",
    "    metrics = ['mae']\n",
    ")\n",
    "\n",
    "model.fit(X,y, epochs=100, validation_split = 0.1\n",
    "         \n",
    "         )"
   ]
  },
  {
   "cell_type": "code",
   "execution_count": 10,
   "id": "f4276b99",
   "metadata": {},
   "outputs": [
    {
     "data": {
      "text/plain": [
       "array([[24.26979]], dtype=float32)"
      ]
     },
     "execution_count": 10,
     "metadata": {},
     "output_type": "execute_result"
    }
   ],
   "source": [
    "model.predict([14.0])"
   ]
  },
  {
   "cell_type": "markdown",
   "id": "bf0cc2af",
   "metadata": {},
   "source": [
    "# Evaluating model performace"
   ]
  },
  {
   "cell_type": "code",
   "execution_count": 11,
   "id": "c079ee6d",
   "metadata": {},
   "outputs": [
    {
     "data": {
      "text/plain": [
       "<tf.Tensor: shape=(50,), dtype=int32, numpy=\n",
       "array([-100,  -96,  -92,  -88,  -84,  -80,  -76,  -72,  -68,  -64,  -60,\n",
       "        -56,  -52,  -48,  -44,  -40,  -36,  -32,  -28,  -24,  -20,  -16,\n",
       "        -12,   -8,   -4,    0,    4,    8,   12,   16,   20,   24,   28,\n",
       "         32,   36,   40,   44,   48,   52,   56,   60,   64,   68,   72,\n",
       "         76,   80,   84,   88,   92,   96], dtype=int32)>"
      ]
     },
     "execution_count": 11,
     "metadata": {},
     "output_type": "execute_result"
    }
   ],
   "source": [
    "#Making a bigger dataset\n",
    "X =tf.range(-100, 100, 4)\n",
    "X"
   ]
  },
  {
   "cell_type": "code",
   "execution_count": 12,
   "id": "907a102d",
   "metadata": {},
   "outputs": [
    {
     "data": {
      "text/plain": [
       "<tf.Tensor: shape=(50,), dtype=int32, numpy=\n",
       "array([-90, -86, -82, -78, -74, -70, -66, -62, -58, -54, -50, -46, -42,\n",
       "       -38, -34, -30, -26, -22, -18, -14, -10,  -6,  -2,   2,   6,  10,\n",
       "        14,  18,  22,  26,  30,  34,  38,  42,  46,  50,  54,  58,  62,\n",
       "        66,  70,  74,  78,  82,  86,  90,  94,  98, 102, 106], dtype=int32)>"
      ]
     },
     "execution_count": 12,
     "metadata": {},
     "output_type": "execute_result"
    }
   ],
   "source": [
    "#Making the labels for the dataset\n",
    "y = X+10\n",
    "y"
   ]
  },
  {
   "cell_type": "code",
   "execution_count": 13,
   "id": "f4cda889",
   "metadata": {},
   "outputs": [
    {
     "data": {
      "text/plain": [
       "<matplotlib.collections.PathCollection at 0x7f3cfc03dc70>"
      ]
     },
     "execution_count": 13,
     "metadata": {},
     "output_type": "execute_result"
    },
    {
     "data": {
      "image/png": "[encoded data removed]",
      "text/plain": [
       "<Figure size 432x288 with 1 Axes>"
      ]
     },
     "metadata": {
      "needs_background": "light"
     },
     "output_type": "display_data"
    }
   ],
   "source": [
    "#Vizualize the data\n",
    "import matplotlib.pyplot as plt\n",
    "\n",
    "plt.scatter(X,y)"
   ]
  },
  {
   "cell_type": "code",
   "execution_count": 14,
   "id": "55c25944",
   "metadata": {},
   "outputs": [
    {
     "data": {
      "text/plain": [
       "50"
      ]
     },
     "execution_count": 14,
     "metadata": {},
     "output_type": "execute_result"
    }
   ],
   "source": [
    "#Checking the size of our dataset\n",
    "len(X)"
   ]
  },
  {
   "cell_type": "code",
   "execution_count": 15,
   "id": "6c01662a",
   "metadata": {},
   "outputs": [
    {
     "data": {
      "text/plain": [
       "(40, 40, 10, 10)"
      ]
     },
     "execution_count": 15,
     "metadata": {},
     "output_type": "execute_result"
    }
   ],
   "source": [
    "#Split the data into trainning and test sets\n",
    "X_train = X[:40]\n",
    "y_train = y[:40]\n",
    "\n",
    "X_test = X[40:]\n",
    "y_test = y[40:]\n",
    "\n",
    "len(X_train), len(y_train),len(X_test), len(y_test)"
   ]
  },
  {
   "cell_type": "markdown",
   "id": "3658da7c",
   "metadata": {},
   "source": [
    "## Visualize the data"
   ]
  },
  {
   "cell_type": "code",
   "execution_count": 16,
   "id": "704eacb5",
   "metadata": {},
   "outputs": [
    {
     "data": {
      "text/plain": [
       "<matplotlib.legend.Legend at 0x7f3cf018a610>"
      ]
     },
     "execution_count": 16,
     "metadata": {},
     "output_type": "execute_result"
    },
    {
     "data": {
      "image/png": "[encoded data removed]",
      "text/plain": [
       "<Figure size 720x504 with 1 Axes>"
      ]
     },
     "metadata": {
      "needs_background": "light"
     },
     "output_type": "display_data"
    }
   ],
   "source": [
    "plt.figure(figsize=(10,7))\n",
    "\n",
    "#plot the training data in blue\n",
    "plt.scatter(X_train,y_train, c=\"b\", label=\"Training data\")\n",
    "plt.scatter(X_test,y_test, c=\"g\", label=\"Test data\")\n",
    "#show the legend\n",
    "plt.legend()\n"
   ]
  },
  {
   "cell_type": "markdown",
   "id": "ad0c34a2",
   "metadata": {},
   "source": [
    "## Create model"
   ]
  },
  {
   "cell_type": "code",
   "execution_count": 135,
   "id": "13f343fc",
   "metadata": {},
   "outputs": [],
   "source": [
    "tf.random.set_seed(42)\n",
    "\n",
    "model = tf.keras.models.Sequential([\n",
    "    tf.keras.layers.Dense(50, input_shape=[1], name = \"hidden_layer_1\", activation=None),\n",
    "    tf.keras.layers.Dense(1, name = \"output_layer\")\n",
    "], name=\"my_neural_net\")\n",
    "\n",
    "model.compile(\n",
    "loss = tf.keras.losses.mae,\n",
    "optimizer =tf.keras.optimizers.Adam(0.01),\n",
    "metrics = [\"mae\"]\n",
    ")\n"
   ]
  },
  {
   "cell_type": "markdown",
   "id": "c5d91bdb",
   "metadata": {},
   "source": [
    "## Visualize your model"
   ]
  },
  {
   "cell_type": "code",
   "execution_count": 136,
   "id": "cce24e9c",
   "metadata": {},
   "outputs": [
    {
     "name": "stdout",
     "output_type": "stream",
     "text": [
      "Model: \"my_neural_net\"\n",
      "_________________________________________________________________\n",
      "Layer (type)                 Output Shape              Param #   \n",
      "=================================================================\n",
      "hidden_layer_1 (Dense)       (None, 50)                100       \n",
      "_________________________________________________________________\n",
      "output_layer (Dense)         (None, 1)                 51        \n",
      "=================================================================\n",
      "Total params: 151\n",
      "Trainable params: 151\n",
      "Non-trainable params: 0\n",
      "_________________________________________________________________\n"
     ]
    }
   ],
   "source": [
    "## Using the model summary\n",
    "model.summary()"
   ]
  },
  {
   "cell_type": "code",
   "execution_count": 126,
   "id": "c720d97c",
   "metadata": {},
   "outputs": [
    {
     "data": {
      "image/png": "[encoded data removed]",
      "text/plain": [
       "<IPython.core.display.Image object>"
      ]
     },
     "execution_count": 126,
     "metadata": {},
     "output_type": "execute_result"
    }
   ],
   "source": [
    "##Drawing a pictorial representation of our model\n",
    "from tensorflow.keras.utils import plot_model\n",
    "plot_model(model=model, show_shapes=True) #to_file= this param can be used to save the image as a file"
   ]
  },
  {
   "cell_type": "code",
   "execution_count": 137,
   "id": "b33f497b",
   "metadata": {},
   "outputs": [
    {
     "data": {
      "text/plain": [
       "<tensorflow.python.keras.callbacks.History at 0x7f3b6898c4f0>"
      ]
     },
     "execution_count": 137,
     "metadata": {},
     "output_type": "execute_result"
    }
   ],
   "source": [
    "##Train the model\n",
    "model.fit(X_train,y_train, verbose=0, epochs = 100)"
   ]
  },
  {
   "cell_type": "markdown",
   "id": "0c89b103",
   "metadata": {},
   "source": [
    "## Visualize the model predictions"
   ]
  },
  {
   "cell_type": "code",
   "execution_count": 138,
   "id": "3efc2728",
   "metadata": {},
   "outputs": [
    {
     "name": "stdout",
     "output_type": "stream",
     "text": [
      "WARNING:tensorflow:10 out of the last 15 calls to <function Model.make_predict_function.<locals>.predict_function at 0x7f3b68dd3790> triggered tf.function retracing. Tracing is expensive and the excessive number of tracings could be due to (1) creating @tf.function repeatedly in a loop, (2) passing tensors with different shapes, (3) passing Python objects instead of tensors. For (1), please define your @tf.function outside of the loop. For (2), @tf.function has experimental_relax_shapes=True option that relaxes argument shapes that can avoid unnecessary retracing. For (3), please refer to https://www.tensorflow.org/guide/function#controlling_retracing and https://www.tensorflow.org/api_docs/python/tf/function for  more details.\n"
     ]
    },
    {
     "data": {
      "text/plain": [
       "array([[ 70.64056 ],\n",
       "       [ 74.67837 ],\n",
       "       [ 78.71616 ],\n",
       "       [ 82.753975],\n",
       "       [ 86.79177 ],\n",
       "       [ 90.829575],\n",
       "       [ 94.86738 ],\n",
       "       [ 98.90518 ],\n",
       "       [102.94297 ],\n",
       "       [106.98079 ]], dtype=float32)"
      ]
     },
     "execution_count": 138,
     "metadata": {},
     "output_type": "execute_result"
    }
   ],
   "source": [
    "y_pred = model.predict(X_test)\n",
    "y_pred"
   ]
  },
  {
   "cell_type": "code",
   "execution_count": 139,
   "id": "28f49356",
   "metadata": {},
   "outputs": [
    {
     "data": {
      "text/plain": [
       "<tf.Tensor: shape=(10,), dtype=int32, numpy=array([ 70,  74,  78,  82,  86,  90,  94,  98, 102, 106], dtype=int32)>"
      ]
     },
     "execution_count": 139,
     "metadata": {},
     "output_type": "execute_result"
    }
   ],
   "source": [
    "y_test"
   ]
  },
  {
   "cell_type": "code",
   "execution_count": 140,
   "id": "ed3a54c7",
   "metadata": {},
   "outputs": [],
   "source": [
    "#Lets create a plotting function because we are going to resue this feature\n",
    "#multiple times\n",
    "def plot_predictions(train_data=X_train,\n",
    "                    train_labels=y_train,\n",
    "                    test_data=X_test,\n",
    "                    test_labels=y_test,\n",
    "                    predictions=y_pred):\n",
    "    \"\"\"\n",
    "    plots training data, test data and compares predictions to the \n",
    "    ground truth labels\n",
    "    \"\"\"\n",
    "    plt.figure(figsize=(10,7))\n",
    "    \n",
    "    #plot training data in blue\n",
    "    plt.scatter(train_data,train_labels, c=\"b\", label=\"Training data\")\n",
    "    \n",
    "    #plot testing data in green\n",
    "    plt.scatter(test_data,test_labels, c=\"g\", label=\"Testing data\")\n",
    "    \n",
    "    #plot models predictions in red\n",
    "    plt.scatter(test_data,predictions, c=\"r\", label=\"Predictions\")\n",
    "    plt.legend()\n",
    "    "
   ]
  },
  {
   "cell_type": "code",
   "execution_count": 141,
   "id": "5cc43a69",
   "metadata": {},
   "outputs": [
    {
     "data": {
      "image/png": "[encoded data removed]",
      "text/plain": [
       "<Figure size 720x504 with 1 Axes>"
      ]
     },
     "metadata": {
      "needs_background": "light"
     },
     "output_type": "display_data"
    }
   ],
   "source": [
    "plot_predictions()"
   ]
  },
  {
   "cell_type": "markdown",
   "id": "9eff581b",
   "metadata": {},
   "source": [
    "## Evaluating our model predictions using Regression Evaluation metrics.\n",
    "### The commmonly used Regression Evaluation Metrics are:\n",
    "* **Mean Absolute Error (MAE)** - We calculate the absolute error (we take the positive value even if negative) between each of our model's prediction, and its corresponding actual value. Then we find the average of the error to get MAE value. **WHEN TO USE:** Great starter metric for any regression problem.\n",
    "* **Mean Square Error (MSE)** - Similar to the MAE but in this method, we square the Average Errors.**WHEN TO USE:** When larger errors are more significant then the smaller errors.\n",
    "* **Huber** Its a combination of MSE and MAE. It is less sensitive to outliers than MSE.\n"
   ]
  },
  {
   "cell_type": "code",
   "execution_count": 142,
   "id": "6d665549",
   "metadata": {},
   "outputs": [
    {
     "name": "stdout",
     "output_type": "stream",
     "text": [
      "WARNING:tensorflow:5 out of the last 107 calls to <function Model.make_test_function.<locals>.test_function at 0x7f3b689e08b0> triggered tf.function retracing. Tracing is expensive and the excessive number of tracings could be due to (1) creating @tf.function repeatedly in a loop, (2) passing tensors with different shapes, (3) passing Python objects instead of tensors. For (1), please define your @tf.function outside of the loop. For (2), @tf.function has experimental_relax_shapes=True option that relaxes argument shapes that can avoid unnecessary retracing. For (3), please refer to https://www.tensorflow.org/guide/function#controlling_retracing and https://www.tensorflow.org/api_docs/python/tf/function for  more details.\n",
      "1/1 [==============================] - 0s 71ms/step - loss: 0.8107 - mae: 0.8107\n"
     ]
    },
    {
     "data": {
      "text/plain": [
       "[0.8106727600097656, 0.8106727600097656]"
      ]
     },
     "execution_count": 142,
     "metadata": {},
     "output_type": "execute_result"
    }
   ],
   "source": [
    "## Evaluate the model\n",
    "## It returns the loss value and the metrics value for our models in test mode\n",
    "model.evaluate(X_test,y_test)"
   ]
  },
  {
   "cell_type": "code",
   "execution_count": 143,
   "id": "0ce220e3",
   "metadata": {},
   "outputs": [
    {
     "data": {
      "text/plain": [
       "<tf.Tensor: shape=(10,), dtype=float32, numpy=\n",
       "array([17.487555 , 14.39298  , 12.113535 , 10.649205 , 10.       ,\n",
       "       10.165915 , 11.146952 , 12.9431095, 15.554377 , 18.98079  ],\n",
       "      dtype=float32)>"
      ]
     },
     "execution_count": 143,
     "metadata": {},
     "output_type": "execute_result"
    }
   ],
   "source": [
    "##Using the Other method to calculate the metrics\n",
    "mae = tf.metrics.mean_absolute_error( \n",
    "    y_true=y_test,\n",
    "    y_pred=y_pred\n",
    ")\n",
    "mae # we do not get a single mae value as above cell because, the y_pred(10,1) and y_test(10,)\n",
    "#have different dimensions or shapes"
   ]
  },
  {
   "cell_type": "code",
   "execution_count": 103,
   "id": "77cb7ddb",
   "metadata": {},
   "outputs": [
    {
     "data": {
      "text/plain": [
       "(10, 1)"
      ]
     },
     "execution_count": 103,
     "metadata": {},
     "output_type": "execute_result"
    }
   ],
   "source": [
    "y_pred.shape"
   ]
  },
  {
   "cell_type": "code",
   "execution_count": 105,
   "id": "ef01d7e3",
   "metadata": {},
   "outputs": [
    {
     "data": {
      "text/plain": [
       "TensorShape([10])"
      ]
     },
     "execution_count": 105,
     "metadata": {},
     "output_type": "execute_result"
    }
   ],
   "source": [
    "y_test.shape"
   ]
  },
  {
   "cell_type": "code",
   "execution_count": 175,
   "id": "28c33162",
   "metadata": {},
   "outputs": [
    {
     "data": {
      "text/plain": [
       "<tf.Tensor: shape=(), dtype=float32, numpy=0.81067276>"
      ]
     },
     "execution_count": 175,
     "metadata": {},
     "output_type": "execute_result"
    }
   ],
   "source": [
    "#We remove the single or 1 dimension in y_pred by using the tf.squeeze method so that both the two tensors will\n",
    "#have the same shape hence give us a single mae value as shown below\n",
    "mae = tf.metrics.mean_absolute_error(\n",
    "    y_true=y_test,\n",
    "    y_pred=tf.squeeze(y_pred)\n",
    "\n",
    ")\n",
    "mae"
   ]
  },
  {
   "cell_type": "code",
   "execution_count": 176,
   "id": "b4548ebc",
   "metadata": {},
   "outputs": [
    {
     "data": {
      "text/plain": [
       "<tf.Tensor: shape=(), dtype=float32, numpy=0.6689799>"
      ]
     },
     "execution_count": 176,
     "metadata": {},
     "output_type": "execute_result"
    }
   ],
   "source": [
    "#Calculate the mean square error\n",
    "mse = tf.metrics.mean_squared_error(\n",
    "    y_true=y_test,\n",
    "    y_pred=tf.squeeze(y_pred)\n",
    ")\n",
    "mse"
   ]
  },
  {
   "cell_type": "code",
   "execution_count": 170,
   "id": "98586e07",
   "metadata": {},
   "outputs": [],
   "source": [
    "## Making functions for reusing MSE and MAE\n",
    "def mae(y_true=y_test,y_pred=y_pred):\n",
    "    return tf.metrics.mean_absolute_error(\n",
    "        y_true,tf.squeeze(y_pred)\n",
    "    )\n",
    "\n",
    "def mse(y_true=y_test,y_pred=y_pred):\n",
    "    return tf.metrics.mean_squared_error(\n",
    "        y_true,tf.squeeze(y_pred)\n",
    "    )"
   ]
  },
  {
   "cell_type": "markdown",
   "id": "d8e0e320",
   "metadata": {},
   "source": [
    "#### Compairing the results of MSE and MAE using pandas data frame."
   ]
  },
  {
   "cell_type": "code",
   "execution_count": 185,
   "id": "f571a816",
   "metadata": {},
   "outputs": [
    {
     "data": {
      "text/html": [
       "<div>\n",
       "<style scoped>\n",
       "    .dataframe tbody tr th:only-of-type {\n",
       "        vertical-align: middle;\n",
       "    }\n",
       "\n",
       "    .dataframe tbody tr th {\n",
       "        vertical-align: top;\n",
       "    }\n",
       "\n",
       "    .dataframe thead th {\n",
       "        text-align: right;\n",
       "    }\n",
       "</style>\n",
       "<table border=\"1\" class=\"dataframe\">\n",
       "  <thead>\n",
       "    <tr style=\"text-align: right;\">\n",
       "      <th></th>\n",
       "      <th>model_name</th>\n",
       "      <th>mae_metrics</th>\n",
       "      <th>mse_metrics</th>\n",
       "    </tr>\n",
       "  </thead>\n",
       "  <tbody>\n",
       "    <tr>\n",
       "      <th>0</th>\n",
       "      <td>Model_1</td>\n",
       "      <td>0.810673</td>\n",
       "      <td>0.66898</td>\n",
       "    </tr>\n",
       "  </tbody>\n",
       "</table>\n",
       "</div>"
      ],
      "text/plain": [
       "  model_name  mae_metrics  mse_metrics\n",
       "0    Model_1     0.810673      0.66898"
      ]
     },
     "execution_count": 185,
     "metadata": {},
     "output_type": "execute_result"
    }
   ],
   "source": [
    "import pandas as pd \n",
    "\n",
    "model_metrics_results=[\n",
    "    [\"Model_1\",mae.numpy(),mse.numpy()]\n",
    "]\n",
    "\n",
    "column_name= [\"model_name\",\"mae_metrics\",\"mse_metrics\"]\n",
    "\n",
    "table = pd.DataFrame(data=model_metrics_results,columns=column_name)\n",
    "table"
   ]
  },
  {
   "cell_type": "markdown",
   "id": "2b98f390",
   "metadata": {},
   "source": [
    "## Running Experiments to improve our model.\n",
    "### In most cases we will use the 3 steps below, which include:\n",
    "* Get More Trainning Data.\n",
    "* Make your model larger / Make a complex model.\n",
    "* Trainning your model for a longer period. That is more epochs\n",
    "\n",
    "### The process for tuning and experimenting our models to get accurate data predictions is usually very tiresome, hence the following tools can be used to track our model experiments:\n",
    "* TensorBoard - A component of the TensorFlow Library used to help track the modelling experiments.\n",
    "* Weights and Biases - a tool for tracking all kinds of ML experiments. It plugs straight into tensorboard.\n"
   ]
  },
  {
   "cell_type": "markdown",
   "id": "2673f462",
   "metadata": {},
   "source": [
    "## Saving TensorFlow Model\n",
    "####  saving our model  allows us to use it outside the trainning envirnments such as a web or mobile app environment. Two formats can be used to save the model:\n",
    "* The SavedModel format (Default format)\n",
    "* The HDF5 format\n"
   ]
  },
  {
   "cell_type": "code",
   "execution_count": 187,
   "id": "f570609b",
   "metadata": {},
   "outputs": [
    {
     "name": "stdout",
     "output_type": "stream",
     "text": [
      "INFO:tensorflow:Assets written to: regression_neuralnet_SavedModel_format/assets\n"
     ]
    }
   ],
   "source": [
    "#Save model using the SavedModel format \n",
    "#preferred if you want to continue using your model in tensorflow environment\n",
    "model.save(\"regression_neuralnet_SavedModel_format\")"
   ]
  },
  {
   "cell_type": "code",
   "execution_count": 189,
   "id": "0c294b04",
   "metadata": {},
   "outputs": [],
   "source": [
    "#Save model using the HDF5 format\n",
    "#Preferred if u want to use your model outside tensorflow e.g in an app\n",
    "model.save(\"regression_neuralnet_HDF5_format.h5\")\n",
    "\n"
   ]
  },
  {
   "cell_type": "markdown",
   "id": "ecadcc95",
   "metadata": {},
   "source": [
    "## Loading in the saved model"
   ]
  },
  {
   "cell_type": "code",
   "execution_count": 194,
   "id": "519507bf",
   "metadata": {},
   "outputs": [
    {
     "name": "stdout",
     "output_type": "stream",
     "text": [
      "Model: \"my_neural_net\"\n",
      "_________________________________________________________________\n",
      "Layer (type)                 Output Shape              Param #   \n",
      "=================================================================\n",
      "hidden_layer_1 (Dense)       (None, 50)                100       \n",
      "_________________________________________________________________\n",
      "output_layer (Dense)         (None, 1)                 51        \n",
      "=================================================================\n",
      "Total params: 151\n",
      "Trainable params: 151\n",
      "Non-trainable params: 0\n",
      "_________________________________________________________________\n"
     ]
    }
   ],
   "source": [
    "#Saved model format\n",
    "load_model_SavedModel_format=tf.keras.models.load_model(\"regression_neuralnet_SavedModel_format\")\n",
    "load_model_SavedModel_format.summary()"
   ]
  },
  {
   "cell_type": "code",
   "execution_count": 197,
   "id": "bf2928b0",
   "metadata": {},
   "outputs": [
    {
     "name": "stdout",
     "output_type": "stream",
     "text": [
      "WARNING:tensorflow:9 out of the last 11 calls to <function Model.make_predict_function.<locals>.predict_function at 0x7f3b6aa264c0> triggered tf.function retracing. Tracing is expensive and the excessive number of tracings could be due to (1) creating @tf.function repeatedly in a loop, (2) passing tensors with different shapes, (3) passing Python objects instead of tensors. For (1), please define your @tf.function outside of the loop. For (2), @tf.function has experimental_relax_shapes=True option that relaxes argument shapes that can avoid unnecessary retracing. For (3), please refer to https://www.tensorflow.org/guide/function#controlling_retracing and https://www.tensorflow.org/api_docs/python/tf/function for  more details.\n"
     ]
    },
    {
     "data": {
      "text/plain": [
       "array([[ True],\n",
       "       [ True],\n",
       "       [ True],\n",
       "       [ True],\n",
       "       [ True],\n",
       "       [ True],\n",
       "       [ True],\n",
       "       [ True],\n",
       "       [ True],\n",
       "       [ True]])"
      ]
     },
     "execution_count": 197,
     "metadata": {},
     "output_type": "execute_result"
    }
   ],
   "source": [
    "#Confirming if the prediction given by the loaded model is same a s the \n",
    "#model that is in tensor. They must be same because all the weights and biases of the trained \n",
    "#model are also saved.\n",
    "original_model_predictions = model.predict(X_test)\n",
    "loaded_model_predictions = load_model_SavedModel_format.predict(X_test)\n",
    "\n",
    "original_model_predictions == loaded_model_predictions\n",
    "\n"
   ]
  },
  {
   "cell_type": "code",
   "execution_count": 199,
   "id": "1859c0fd",
   "metadata": {},
   "outputs": [],
   "source": [
    "##loading the model saved in HDF5 file format\n",
    "load_HDF5_saved_model = tf.keras.models.load_model(\"regression_neuralnet_HDF5_format.h5\")\n"
   ]
  },
  {
   "cell_type": "code",
   "execution_count": 201,
   "id": "f95d6f8b",
   "metadata": {},
   "outputs": [
    {
     "data": {
      "text/plain": [
       "array([[ True],\n",
       "       [ True],\n",
       "       [ True],\n",
       "       [ True],\n",
       "       [ True],\n",
       "       [ True],\n",
       "       [ True],\n",
       "       [ True],\n",
       "       [ True],\n",
       "       [ True]])"
      ]
     },
     "execution_count": 201,
     "metadata": {},
     "output_type": "execute_result"
    }
   ],
   "source": [
    "##Compairing the predictions of the loaded model with the original model\n",
    "original_model_predictions = model.predict(X_test)\n",
    "loaded_model_predictions = load_HDF5_saved_model.predict(X_test)\n",
    "\n",
    "original_model_predictions == loaded_model_predictions"
   ]
  },
  {
   "cell_type": "markdown",
   "id": "e64ab38b",
   "metadata": {},
   "source": [
    "## Medical cost predictions using larger Dataset from kaggle.\n"
   ]
  },
  {
   "cell_type": "code",
   "execution_count": 203,
   "id": "6bcb2972",
   "metadata": {},
   "outputs": [],
   "source": [
    "##Import the necessary libraries\n",
    "import tensorflow as tf\n",
    "import pandas as pd \n",
    "import matplotlib.pyplot as plt"
   ]
  },
  {
   "cell_type": "code",
   "execution_count": 208,
   "id": "bf9c7063",
   "metadata": {},
   "outputs": [
    {
     "data": {
      "text/html": [
       "<div>\n",
       "<style scoped>\n",
       "    .dataframe tbody tr th:only-of-type {\n",
       "        vertical-align: middle;\n",
       "    }\n",
       "\n",
       "    .dataframe tbody tr th {\n",
       "        vertical-align: top;\n",
       "    }\n",
       "\n",
       "    .dataframe thead th {\n",
       "        text-align: right;\n",
       "    }\n",
       "</style>\n",
       "<table border=\"1\" class=\"dataframe\">\n",
       "  <thead>\n",
       "    <tr style=\"text-align: right;\">\n",
       "      <th></th>\n",
       "      <th>age</th>\n",
       "      <th>sex</th>\n",
       "      <th>bmi</th>\n",
       "      <th>children</th>\n",
       "      <th>smoker</th>\n",
       "      <th>region</th>\n",
       "      <th>charges</th>\n",
       "    </tr>\n",
       "  </thead>\n",
       "  <tbody>\n",
       "    <tr>\n",
       "      <th>0</th>\n",
       "      <td>19</td>\n",
       "      <td>female</td>\n",
       "      <td>27.900</td>\n",
       "      <td>0</td>\n",
       "      <td>yes</td>\n",
       "      <td>southwest</td>\n",
       "      <td>16884.92400</td>\n",
       "    </tr>\n",
       "    <tr>\n",
       "      <th>1</th>\n",
       "      <td>18</td>\n",
       "      <td>male</td>\n",
       "      <td>33.770</td>\n",
       "      <td>1</td>\n",
       "      <td>no</td>\n",
       "      <td>southeast</td>\n",
       "      <td>1725.55230</td>\n",
       "    </tr>\n",
       "    <tr>\n",
       "      <th>2</th>\n",
       "      <td>28</td>\n",
       "      <td>male</td>\n",
       "      <td>33.000</td>\n",
       "      <td>3</td>\n",
       "      <td>no</td>\n",
       "      <td>southeast</td>\n",
       "      <td>4449.46200</td>\n",
       "    </tr>\n",
       "    <tr>\n",
       "      <th>3</th>\n",
       "      <td>33</td>\n",
       "      <td>male</td>\n",
       "      <td>22.705</td>\n",
       "      <td>0</td>\n",
       "      <td>no</td>\n",
       "      <td>northwest</td>\n",
       "      <td>21984.47061</td>\n",
       "    </tr>\n",
       "    <tr>\n",
       "      <th>4</th>\n",
       "      <td>32</td>\n",
       "      <td>male</td>\n",
       "      <td>28.880</td>\n",
       "      <td>0</td>\n",
       "      <td>no</td>\n",
       "      <td>northwest</td>\n",
       "      <td>3866.85520</td>\n",
       "    </tr>\n",
       "    <tr>\n",
       "      <th>...</th>\n",
       "      <td>...</td>\n",
       "      <td>...</td>\n",
       "      <td>...</td>\n",
       "      <td>...</td>\n",
       "      <td>...</td>\n",
       "      <td>...</td>\n",
       "      <td>...</td>\n",
       "    </tr>\n",
       "    <tr>\n",
       "      <th>1333</th>\n",
       "      <td>50</td>\n",
       "      <td>male</td>\n",
       "      <td>30.970</td>\n",
       "      <td>3</td>\n",
       "      <td>no</td>\n",
       "      <td>northwest</td>\n",
       "      <td>10600.54830</td>\n",
       "    </tr>\n",
       "    <tr>\n",
       "      <th>1334</th>\n",
       "      <td>18</td>\n",
       "      <td>female</td>\n",
       "      <td>31.920</td>\n",
       "      <td>0</td>\n",
       "      <td>no</td>\n",
       "      <td>northeast</td>\n",
       "      <td>2205.98080</td>\n",
       "    </tr>\n",
       "    <tr>\n",
       "      <th>1335</th>\n",
       "      <td>18</td>\n",
       "      <td>female</td>\n",
       "      <td>36.850</td>\n",
       "      <td>0</td>\n",
       "      <td>no</td>\n",
       "      <td>southeast</td>\n",
       "      <td>1629.83350</td>\n",
       "    </tr>\n",
       "    <tr>\n",
       "      <th>1336</th>\n",
       "      <td>21</td>\n",
       "      <td>female</td>\n",
       "      <td>25.800</td>\n",
       "      <td>0</td>\n",
       "      <td>no</td>\n",
       "      <td>southwest</td>\n",
       "      <td>2007.94500</td>\n",
       "    </tr>\n",
       "    <tr>\n",
       "      <th>1337</th>\n",
       "      <td>61</td>\n",
       "      <td>female</td>\n",
       "      <td>29.070</td>\n",
       "      <td>0</td>\n",
       "      <td>yes</td>\n",
       "      <td>northwest</td>\n",
       "      <td>29141.36030</td>\n",
       "    </tr>\n",
       "  </tbody>\n",
       "</table>\n",
       "<p>1338 rows × 7 columns</p>\n",
       "</div>"
      ],
      "text/plain": [
       "      age     sex     bmi  children smoker     region      charges\n",
       "0      19  female  27.900         0    yes  southwest  16884.92400\n",
       "1      18    male  33.770         1     no  southeast   1725.55230\n",
       "2      28    male  33.000         3     no  southeast   4449.46200\n",
       "3      33    male  22.705         0     no  northwest  21984.47061\n",
       "4      32    male  28.880         0     no  northwest   3866.85520\n",
       "...   ...     ...     ...       ...    ...        ...          ...\n",
       "1333   50    male  30.970         3     no  northwest  10600.54830\n",
       "1334   18  female  31.920         0     no  northeast   2205.98080\n",
       "1335   18  female  36.850         0     no  southeast   1629.83350\n",
       "1336   21  female  25.800         0     no  southwest   2007.94500\n",
       "1337   61  female  29.070         0    yes  northwest  29141.36030\n",
       "\n",
       "[1338 rows x 7 columns]"
      ]
     },
     "execution_count": 208,
     "metadata": {},
     "output_type": "execute_result"
    }
   ],
   "source": [
    "# Load the medical cost prediction dataset form github repo\n",
    "insurance_cost = pd.read_csv(\"https://raw.githubusercontent.com/stedy/Machine-Learning-with-R-datasets/master/insurance.csv\")\n",
    "insurance_cost"
   ]
  },
  {
   "cell_type": "markdown",
   "id": "ea3ed958",
   "metadata": {},
   "source": [
    "### One hot encoding a pandas data frame"
   ]
  },
  {
   "cell_type": "code",
   "execution_count": 213,
   "id": "eb769ccf",
   "metadata": {},
   "outputs": [
    {
     "data": {
      "text/html": [
       "<div>\n",
       "<style scoped>\n",
       "    .dataframe tbody tr th:only-of-type {\n",
       "        vertical-align: middle;\n",
       "    }\n",
       "\n",
       "    .dataframe tbody tr th {\n",
       "        vertical-align: top;\n",
       "    }\n",
       "\n",
       "    .dataframe thead th {\n",
       "        text-align: right;\n",
       "    }\n",
       "</style>\n",
       "<table border=\"1\" class=\"dataframe\">\n",
       "  <thead>\n",
       "    <tr style=\"text-align: right;\">\n",
       "      <th></th>\n",
       "      <th>age</th>\n",
       "      <th>bmi</th>\n",
       "      <th>children</th>\n",
       "      <th>charges</th>\n",
       "      <th>sex_female</th>\n",
       "      <th>sex_male</th>\n",
       "      <th>smoker_no</th>\n",
       "      <th>smoker_yes</th>\n",
       "      <th>region_northeast</th>\n",
       "      <th>region_northwest</th>\n",
       "      <th>region_southeast</th>\n",
       "      <th>region_southwest</th>\n",
       "    </tr>\n",
       "  </thead>\n",
       "  <tbody>\n",
       "    <tr>\n",
       "      <th>0</th>\n",
       "      <td>19</td>\n",
       "      <td>27.900</td>\n",
       "      <td>0</td>\n",
       "      <td>16884.92400</td>\n",
       "      <td>1</td>\n",
       "      <td>0</td>\n",
       "      <td>0</td>\n",
       "      <td>1</td>\n",
       "      <td>0</td>\n",
       "      <td>0</td>\n",
       "      <td>0</td>\n",
       "      <td>1</td>\n",
       "    </tr>\n",
       "    <tr>\n",
       "      <th>1</th>\n",
       "      <td>18</td>\n",
       "      <td>33.770</td>\n",
       "      <td>1</td>\n",
       "      <td>1725.55230</td>\n",
       "      <td>0</td>\n",
       "      <td>1</td>\n",
       "      <td>1</td>\n",
       "      <td>0</td>\n",
       "      <td>0</td>\n",
       "      <td>0</td>\n",
       "      <td>1</td>\n",
       "      <td>0</td>\n",
       "    </tr>\n",
       "    <tr>\n",
       "      <th>2</th>\n",
       "      <td>28</td>\n",
       "      <td>33.000</td>\n",
       "      <td>3</td>\n",
       "      <td>4449.46200</td>\n",
       "      <td>0</td>\n",
       "      <td>1</td>\n",
       "      <td>1</td>\n",
       "      <td>0</td>\n",
       "      <td>0</td>\n",
       "      <td>0</td>\n",
       "      <td>1</td>\n",
       "      <td>0</td>\n",
       "    </tr>\n",
       "    <tr>\n",
       "      <th>3</th>\n",
       "      <td>33</td>\n",
       "      <td>22.705</td>\n",
       "      <td>0</td>\n",
       "      <td>21984.47061</td>\n",
       "      <td>0</td>\n",
       "      <td>1</td>\n",
       "      <td>1</td>\n",
       "      <td>0</td>\n",
       "      <td>0</td>\n",
       "      <td>1</td>\n",
       "      <td>0</td>\n",
       "      <td>0</td>\n",
       "    </tr>\n",
       "    <tr>\n",
       "      <th>4</th>\n",
       "      <td>32</td>\n",
       "      <td>28.880</td>\n",
       "      <td>0</td>\n",
       "      <td>3866.85520</td>\n",
       "      <td>0</td>\n",
       "      <td>1</td>\n",
       "      <td>1</td>\n",
       "      <td>0</td>\n",
       "      <td>0</td>\n",
       "      <td>1</td>\n",
       "      <td>0</td>\n",
       "      <td>0</td>\n",
       "    </tr>\n",
       "  </tbody>\n",
       "</table>\n",
       "</div>"
      ],
      "text/plain": [
       "   age     bmi  children      charges  sex_female  sex_male  smoker_no  \\\n",
       "0   19  27.900         0  16884.92400           1         0          0   \n",
       "1   18  33.770         1   1725.55230           0         1          1   \n",
       "2   28  33.000         3   4449.46200           0         1          1   \n",
       "3   33  22.705         0  21984.47061           0         1          1   \n",
       "4   32  28.880         0   3866.85520           0         1          1   \n",
       "\n",
       "   smoker_yes  region_northeast  region_northwest  region_southeast  \\\n",
       "0           1                 0                 0                 0   \n",
       "1           0                 0                 0                 1   \n",
       "2           0                 0                 0                 1   \n",
       "3           0                 0                 1                 0   \n",
       "4           0                 0                 1                 0   \n",
       "\n",
       "   region_southwest  \n",
       "0                 1  \n",
       "1                 0  \n",
       "2                 0  \n",
       "3                 0  \n",
       "4                 0  "
      ]
     },
     "execution_count": 213,
     "metadata": {},
     "output_type": "execute_result"
    }
   ],
   "source": [
    "insurance_cost_one_hot_encoded = pd.get_dummies(insurance_cost)\n",
    "insurance_cost_one_hot_encoded.head()"
   ]
  },
  {
   "cell_type": "markdown",
   "id": "c0439806",
   "metadata": {},
   "source": [
    "* ### Creating features (X) and labels (y)\n",
    "* ### Creating training and test sets\n",
    "* ### Building the neural Net"
   ]
  },
  {
   "cell_type": "code",
   "execution_count": null,
   "id": "aef12347",
   "metadata": {},
   "outputs": [],
   "source": []
  },
  {
   "cell_type": "code",
   "execution_count": 225,
   "id": "aeb8e7f4",
   "metadata": {},
   "outputs": [],
   "source": [
    "# Creating features (X) and labels (y)\n",
    "X = insurance_cost_one_hot_encoded.drop(\"charges\", axis=1)\n",
    "y = insurance_cost_one_hot_encoded[\"charges\"]"
   ]
  },
  {
   "cell_type": "code",
   "execution_count": 226,
   "id": "b1b5a387",
   "metadata": {},
   "outputs": [
    {
     "data": {
      "text/html": [
       "<div>\n",
       "<style scoped>\n",
       "    .dataframe tbody tr th:only-of-type {\n",
       "        vertical-align: middle;\n",
       "    }\n",
       "\n",
       "    .dataframe tbody tr th {\n",
       "        vertical-align: top;\n",
       "    }\n",
       "\n",
       "    .dataframe thead th {\n",
       "        text-align: right;\n",
       "    }\n",
       "</style>\n",
       "<table border=\"1\" class=\"dataframe\">\n",
       "  <thead>\n",
       "    <tr style=\"text-align: right;\">\n",
       "      <th></th>\n",
       "      <th>age</th>\n",
       "      <th>bmi</th>\n",
       "      <th>children</th>\n",
       "      <th>sex_female</th>\n",
       "      <th>sex_male</th>\n",
       "      <th>smoker_no</th>\n",
       "      <th>smoker_yes</th>\n",
       "      <th>region_northeast</th>\n",
       "      <th>region_northwest</th>\n",
       "      <th>region_southeast</th>\n",
       "      <th>region_southwest</th>\n",
       "    </tr>\n",
       "  </thead>\n",
       "  <tbody>\n",
       "    <tr>\n",
       "      <th>0</th>\n",
       "      <td>19</td>\n",
       "      <td>27.900</td>\n",
       "      <td>0</td>\n",
       "      <td>1</td>\n",
       "      <td>0</td>\n",
       "      <td>0</td>\n",
       "      <td>1</td>\n",
       "      <td>0</td>\n",
       "      <td>0</td>\n",
       "      <td>0</td>\n",
       "      <td>1</td>\n",
       "    </tr>\n",
       "    <tr>\n",
       "      <th>1</th>\n",
       "      <td>18</td>\n",
       "      <td>33.770</td>\n",
       "      <td>1</td>\n",
       "      <td>0</td>\n",
       "      <td>1</td>\n",
       "      <td>1</td>\n",
       "      <td>0</td>\n",
       "      <td>0</td>\n",
       "      <td>0</td>\n",
       "      <td>1</td>\n",
       "      <td>0</td>\n",
       "    </tr>\n",
       "    <tr>\n",
       "      <th>2</th>\n",
       "      <td>28</td>\n",
       "      <td>33.000</td>\n",
       "      <td>3</td>\n",
       "      <td>0</td>\n",
       "      <td>1</td>\n",
       "      <td>1</td>\n",
       "      <td>0</td>\n",
       "      <td>0</td>\n",
       "      <td>0</td>\n",
       "      <td>1</td>\n",
       "      <td>0</td>\n",
       "    </tr>\n",
       "    <tr>\n",
       "      <th>3</th>\n",
       "      <td>33</td>\n",
       "      <td>22.705</td>\n",
       "      <td>0</td>\n",
       "      <td>0</td>\n",
       "      <td>1</td>\n",
       "      <td>1</td>\n",
       "      <td>0</td>\n",
       "      <td>0</td>\n",
       "      <td>1</td>\n",
       "      <td>0</td>\n",
       "      <td>0</td>\n",
       "    </tr>\n",
       "    <tr>\n",
       "      <th>4</th>\n",
       "      <td>32</td>\n",
       "      <td>28.880</td>\n",
       "      <td>0</td>\n",
       "      <td>0</td>\n",
       "      <td>1</td>\n",
       "      <td>1</td>\n",
       "      <td>0</td>\n",
       "      <td>0</td>\n",
       "      <td>1</td>\n",
       "      <td>0</td>\n",
       "      <td>0</td>\n",
       "    </tr>\n",
       "  </tbody>\n",
       "</table>\n",
       "</div>"
      ],
      "text/plain": [
       "   age     bmi  children  sex_female  sex_male  smoker_no  smoker_yes  \\\n",
       "0   19  27.900         0           1         0          0           1   \n",
       "1   18  33.770         1           0         1          1           0   \n",
       "2   28  33.000         3           0         1          1           0   \n",
       "3   33  22.705         0           0         1          1           0   \n",
       "4   32  28.880         0           0         1          1           0   \n",
       "\n",
       "   region_northeast  region_northwest  region_southeast  region_southwest  \n",
       "0                 0                 0                 0                 1  \n",
       "1                 0                 0                 1                 0  \n",
       "2                 0                 0                 1                 0  \n",
       "3                 0                 1                 0                 0  \n",
       "4                 0                 1                 0                 0  "
      ]
     },
     "execution_count": 226,
     "metadata": {},
     "output_type": "execute_result"
    }
   ],
   "source": [
    "#Visualize X\n",
    "X.head()"
   ]
  },
  {
   "cell_type": "code",
   "execution_count": 229,
   "id": "f5d492de",
   "metadata": {},
   "outputs": [
    {
     "data": {
      "text/plain": [
       "0    16884.92400\n",
       "1     1725.55230\n",
       "2     4449.46200\n",
       "3    21984.47061\n",
       "4     3866.85520\n",
       "Name: charges, dtype: float64"
      ]
     },
     "execution_count": 229,
     "metadata": {},
     "output_type": "execute_result"
    }
   ],
   "source": [
    "# Visualize y\n",
    "y.head()"
   ]
  },
  {
   "cell_type": "code",
   "execution_count": 248,
   "id": "6d62fdf2",
   "metadata": {},
   "outputs": [
    {
     "data": {
      "text/html": [
       "<div>\n",
       "<style scoped>\n",
       "    .dataframe tbody tr th:only-of-type {\n",
       "        vertical-align: middle;\n",
       "    }\n",
       "\n",
       "    .dataframe tbody tr th {\n",
       "        vertical-align: top;\n",
       "    }\n",
       "\n",
       "    .dataframe thead th {\n",
       "        text-align: right;\n",
       "    }\n",
       "</style>\n",
       "<table border=\"1\" class=\"dataframe\">\n",
       "  <thead>\n",
       "    <tr style=\"text-align: right;\">\n",
       "      <th></th>\n",
       "      <th>age</th>\n",
       "      <th>bmi</th>\n",
       "      <th>children</th>\n",
       "      <th>sex_female</th>\n",
       "      <th>sex_male</th>\n",
       "      <th>smoker_no</th>\n",
       "      <th>smoker_yes</th>\n",
       "      <th>region_northeast</th>\n",
       "      <th>region_northwest</th>\n",
       "      <th>region_southeast</th>\n",
       "      <th>region_southwest</th>\n",
       "    </tr>\n",
       "  </thead>\n",
       "  <tbody>\n",
       "    <tr>\n",
       "      <th>560</th>\n",
       "      <td>46</td>\n",
       "      <td>19.95</td>\n",
       "      <td>2</td>\n",
       "      <td>1</td>\n",
       "      <td>0</td>\n",
       "      <td>1</td>\n",
       "      <td>0</td>\n",
       "      <td>0</td>\n",
       "      <td>1</td>\n",
       "      <td>0</td>\n",
       "      <td>0</td>\n",
       "    </tr>\n",
       "    <tr>\n",
       "      <th>1285</th>\n",
       "      <td>47</td>\n",
       "      <td>24.32</td>\n",
       "      <td>0</td>\n",
       "      <td>1</td>\n",
       "      <td>0</td>\n",
       "      <td>1</td>\n",
       "      <td>0</td>\n",
       "      <td>1</td>\n",
       "      <td>0</td>\n",
       "      <td>0</td>\n",
       "      <td>0</td>\n",
       "    </tr>\n",
       "    <tr>\n",
       "      <th>1142</th>\n",
       "      <td>52</td>\n",
       "      <td>24.86</td>\n",
       "      <td>0</td>\n",
       "      <td>1</td>\n",
       "      <td>0</td>\n",
       "      <td>1</td>\n",
       "      <td>0</td>\n",
       "      <td>0</td>\n",
       "      <td>0</td>\n",
       "      <td>1</td>\n",
       "      <td>0</td>\n",
       "    </tr>\n",
       "    <tr>\n",
       "      <th>969</th>\n",
       "      <td>39</td>\n",
       "      <td>34.32</td>\n",
       "      <td>5</td>\n",
       "      <td>1</td>\n",
       "      <td>0</td>\n",
       "      <td>1</td>\n",
       "      <td>0</td>\n",
       "      <td>0</td>\n",
       "      <td>0</td>\n",
       "      <td>1</td>\n",
       "      <td>0</td>\n",
       "    </tr>\n",
       "    <tr>\n",
       "      <th>486</th>\n",
       "      <td>54</td>\n",
       "      <td>21.47</td>\n",
       "      <td>3</td>\n",
       "      <td>1</td>\n",
       "      <td>0</td>\n",
       "      <td>1</td>\n",
       "      <td>0</td>\n",
       "      <td>0</td>\n",
       "      <td>1</td>\n",
       "      <td>0</td>\n",
       "      <td>0</td>\n",
       "    </tr>\n",
       "  </tbody>\n",
       "</table>\n",
       "</div>"
      ],
      "text/plain": [
       "      age    bmi  children  sex_female  sex_male  smoker_no  smoker_yes  \\\n",
       "560    46  19.95         2           1         0          1           0   \n",
       "1285   47  24.32         0           1         0          1           0   \n",
       "1142   52  24.86         0           1         0          1           0   \n",
       "969    39  34.32         5           1         0          1           0   \n",
       "486    54  21.47         3           1         0          1           0   \n",
       "\n",
       "      region_northeast  region_northwest  region_southeast  region_southwest  \n",
       "560                  0                 1                 0                 0  \n",
       "1285                 1                 0                 0                 0  \n",
       "1142                 0                 0                 1                 0  \n",
       "969                  0                 0                 1                 0  \n",
       "486                  0                 1                 0                 0  "
      ]
     },
     "execution_count": 248,
     "metadata": {},
     "output_type": "execute_result"
    }
   ],
   "source": [
    "#Creating training and test sets\n",
    "from sklearn.model_selection import train_test_split\n",
    "X_train,X_test,y_train,y_test = train_test_split(X,y, test_size=0.2, random_state=42, shuffle=True) #by def shuffle is true\n",
    "X_train.head()\n"
   ]
  },
  {
   "cell_type": "code",
   "execution_count": 251,
   "id": "8ebf3f2e",
   "metadata": {},
   "outputs": [
    {
     "data": {
      "text/plain": [
       "(1338, 1070, 268)"
      ]
     },
     "execution_count": 251,
     "metadata": {},
     "output_type": "execute_result"
    }
   ],
   "source": [
    "#Check the size of the splitted data\n",
    "len(X), len(X_train), len(X_test)"
   ]
  },
  {
   "cell_type": "code",
   "execution_count": 278,
   "id": "255f4ebd",
   "metadata": {},
   "outputs": [
    {
     "name": "stdout",
     "output_type": "stream",
     "text": [
      "Epoch 1/120\n",
      "31/31 [==============================] - 0s 6ms/step - loss: 13253.7650 - mae: 13253.7650 - val_loss: 11812.7383 - val_mae: 11812.7383\n",
      "Epoch 2/120\n",
      "31/31 [==============================] - 0s 3ms/step - loss: 13285.0273 - mae: 13285.0273 - val_loss: 9145.1289 - val_mae: 9145.1289\n",
      "Epoch 3/120\n",
      "31/31 [==============================] - 0s 3ms/step - loss: 9423.8698 - mae: 9423.8698 - val_loss: 6995.7192 - val_mae: 6995.7192\n",
      "Epoch 4/120\n",
      "31/31 [==============================] - 0s 3ms/step - loss: 7525.1156 - mae: 7525.1156 - val_loss: 6730.8398 - val_mae: 6730.8398\n",
      "Epoch 5/120\n",
      "31/31 [==============================] - 0s 3ms/step - loss: 7436.7686 - mae: 7436.7686 - val_loss: 6650.7827 - val_mae: 6650.7827\n",
      "Epoch 6/120\n",
      "31/31 [==============================] - 0s 3ms/step - loss: 7385.7303 - mae: 7385.7303 - val_loss: 6575.1035 - val_mae: 6575.1035\n",
      "Epoch 7/120\n",
      "31/31 [==============================] - 0s 4ms/step - loss: 7246.7767 - mae: 7246.7767 - val_loss: 6483.4565 - val_mae: 6483.4565\n",
      "Epoch 8/120\n",
      "31/31 [==============================] - 0s 3ms/step - loss: 7168.5537 - mae: 7168.5537 - val_loss: 6460.4795 - val_mae: 6460.4795\n",
      "Epoch 9/120\n",
      "31/31 [==============================] - 0s 3ms/step - loss: 7230.4700 - mae: 7230.4700 - val_loss: 6308.4473 - val_mae: 6308.4473\n",
      "Epoch 10/120\n",
      "31/31 [==============================] - 0s 3ms/step - loss: 7089.7679 - mae: 7089.7679 - val_loss: 6233.3374 - val_mae: 6233.3374\n",
      "Epoch 11/120\n",
      "31/31 [==============================] - 0s 3ms/step - loss: 6811.8438 - mae: 6811.8438 - val_loss: 6154.8950 - val_mae: 6154.8950\n",
      "Epoch 12/120\n",
      "31/31 [==============================] - 0s 3ms/step - loss: 6832.8875 - mae: 6832.8875 - val_loss: 6054.8950 - val_mae: 6054.8950\n",
      "Epoch 13/120\n",
      "31/31 [==============================] - 0s 3ms/step - loss: 6973.1550 - mae: 6973.1550 - val_loss: 5991.4941 - val_mae: 5991.4941\n",
      "Epoch 14/120\n",
      "31/31 [==============================] - 0s 3ms/step - loss: 7355.9282 - mae: 7355.9282 - val_loss: 5957.1968 - val_mae: 5957.1968\n",
      "Epoch 15/120\n",
      "31/31 [==============================] - 0s 3ms/step - loss: 6467.5783 - mae: 6467.5783 - val_loss: 5929.2168 - val_mae: 5929.2168\n",
      "Epoch 16/120\n",
      "31/31 [==============================] - 0s 3ms/step - loss: 6248.9985 - mae: 6248.9985 - val_loss: 5915.8037 - val_mae: 5915.8037\n",
      "Epoch 17/120\n",
      "31/31 [==============================] - 0s 3ms/step - loss: 6024.3736 - mae: 6024.3736 - val_loss: 5894.4458 - val_mae: 5894.4458\n",
      "Epoch 18/120\n",
      "31/31 [==============================] - 0s 3ms/step - loss: 6461.6064 - mae: 6461.6064 - val_loss: 5869.6240 - val_mae: 5869.6240\n",
      "Epoch 19/120\n",
      "31/31 [==============================] - 0s 3ms/step - loss: 6794.0883 - mae: 6794.0883 - val_loss: 5918.0093 - val_mae: 5918.0093\n",
      "Epoch 20/120\n",
      "31/31 [==============================] - 0s 3ms/step - loss: 6521.5601 - mae: 6521.5601 - val_loss: 5836.9771 - val_mae: 5836.9771\n",
      "Epoch 21/120\n",
      "31/31 [==============================] - 0s 3ms/step - loss: 6209.5289 - mae: 6209.5289 - val_loss: 5818.5386 - val_mae: 5818.5386\n",
      "Epoch 22/120\n",
      "31/31 [==============================] - 0s 3ms/step - loss: 6439.4873 - mae: 6439.4873 - val_loss: 5798.8105 - val_mae: 5798.8105\n",
      "Epoch 23/120\n",
      "31/31 [==============================] - 0s 3ms/step - loss: 6269.6223 - mae: 6269.6223 - val_loss: 5797.1069 - val_mae: 5797.1069\n",
      "Epoch 24/120\n",
      "31/31 [==============================] - 0s 3ms/step - loss: 6295.7133 - mae: 6295.7133 - val_loss: 5756.4634 - val_mae: 5756.4634\n",
      "Epoch 25/120\n",
      "31/31 [==============================] - 0s 3ms/step - loss: 6533.1831 - mae: 6533.1831 - val_loss: 5732.6582 - val_mae: 5732.6582\n",
      "Epoch 26/120\n",
      "31/31 [==============================] - 0s 3ms/step - loss: 6770.0030 - mae: 6770.0030 - val_loss: 5712.6123 - val_mae: 5712.6123\n",
      "Epoch 27/120\n",
      "31/31 [==============================] - 0s 4ms/step - loss: 6531.0003 - mae: 6531.0003 - val_loss: 5700.0688 - val_mae: 5700.0688\n",
      "Epoch 28/120\n",
      "31/31 [==============================] - 0s 3ms/step - loss: 6302.3738 - mae: 6302.3738 - val_loss: 5676.3442 - val_mae: 5676.3442\n",
      "Epoch 29/120\n",
      "31/31 [==============================] - 0s 3ms/step - loss: 6221.4825 - mae: 6221.4825 - val_loss: 5637.5391 - val_mae: 5637.5391\n",
      "Epoch 30/120\n",
      "31/31 [==============================] - 0s 3ms/step - loss: 6224.6465 - mae: 6224.6465 - val_loss: 5619.3594 - val_mae: 5619.3594\n",
      "Epoch 31/120\n",
      "31/31 [==============================] - 0s 3ms/step - loss: 6235.2982 - mae: 6235.2982 - val_loss: 5580.2056 - val_mae: 5580.2056\n",
      "Epoch 32/120\n",
      "31/31 [==============================] - 0s 3ms/step - loss: 6283.6078 - mae: 6283.6078 - val_loss: 5571.9814 - val_mae: 5571.9814\n",
      "Epoch 33/120\n",
      "31/31 [==============================] - 0s 3ms/step - loss: 6492.6394 - mae: 6492.6394 - val_loss: 5489.0024 - val_mae: 5489.0024\n",
      "Epoch 34/120\n",
      "31/31 [==============================] - 0s 4ms/step - loss: 5972.9988 - mae: 5972.9988 - val_loss: 5463.0308 - val_mae: 5463.0308\n",
      "Epoch 35/120\n",
      "31/31 [==============================] - 0s 3ms/step - loss: 5646.2164 - mae: 5646.2164 - val_loss: 5389.9819 - val_mae: 5389.9819\n",
      "Epoch 36/120\n",
      "31/31 [==============================] - 0s 3ms/step - loss: 5817.1098 - mae: 5817.1098 - val_loss: 5332.1450 - val_mae: 5332.1450\n",
      "Epoch 37/120\n",
      "31/31 [==============================] - 0s 3ms/step - loss: 5284.6349 - mae: 5284.6349 - val_loss: 5260.5684 - val_mae: 5260.5684\n",
      "Epoch 38/120\n",
      "31/31 [==============================] - 0s 3ms/step - loss: 5323.2707 - mae: 5323.2707 - val_loss: 5177.0615 - val_mae: 5177.0615\n",
      "Epoch 39/120\n",
      "31/31 [==============================] - 0s 3ms/step - loss: 5697.4319 - mae: 5697.4319 - val_loss: 5078.4810 - val_mae: 5078.4810\n",
      "Epoch 40/120\n",
      "31/31 [==============================] - 0s 3ms/step - loss: 5766.5323 - mae: 5766.5323 - val_loss: 4959.9839 - val_mae: 4959.9839\n",
      "Epoch 41/120\n",
      "31/31 [==============================] - 0s 3ms/step - loss: 5159.8468 - mae: 5159.8468 - val_loss: 4811.9868 - val_mae: 4811.9868\n",
      "Epoch 42/120\n",
      "31/31 [==============================] - 0s 3ms/step - loss: 5054.6751 - mae: 5054.6751 - val_loss: 4588.7026 - val_mae: 4588.7026\n",
      "Epoch 43/120\n",
      "31/31 [==============================] - 0s 3ms/step - loss: 4174.4356 - mae: 4174.4356 - val_loss: 4344.8047 - val_mae: 4344.8047\n",
      "Epoch 44/120\n",
      "31/31 [==============================] - 0s 3ms/step - loss: 4242.2839 - mae: 4242.2839 - val_loss: 4045.2717 - val_mae: 4045.2717\n",
      "Epoch 45/120\n",
      "31/31 [==============================] - 0s 3ms/step - loss: 4010.1549 - mae: 4010.1549 - val_loss: 3911.1057 - val_mae: 3911.1057\n",
      "Epoch 46/120\n",
      "31/31 [==============================] - 0s 3ms/step - loss: 3829.4036 - mae: 3829.4036 - val_loss: 3895.4670 - val_mae: 3895.4670\n",
      "Epoch 47/120\n",
      "31/31 [==============================] - 0s 3ms/step - loss: 4175.3684 - mae: 4175.3684 - val_loss: 3814.2009 - val_mae: 3814.2009\n",
      "Epoch 48/120\n",
      "31/31 [==============================] - 0s 3ms/step - loss: 3753.6153 - mae: 3753.6153 - val_loss: 3804.4082 - val_mae: 3804.4082\n",
      "Epoch 49/120\n",
      "31/31 [==============================] - 0s 3ms/step - loss: 3666.4088 - mae: 3666.4088 - val_loss: 3818.0193 - val_mae: 3818.0193\n",
      "Epoch 50/120\n",
      "31/31 [==============================] - 0s 3ms/step - loss: 3504.2486 - mae: 3504.2486 - val_loss: 3773.3650 - val_mae: 3773.3650\n",
      "Epoch 51/120\n",
      "31/31 [==============================] - 0s 3ms/step - loss: 4017.2593 - mae: 4017.2593 - val_loss: 3758.8254 - val_mae: 3758.8254\n",
      "Epoch 52/120\n",
      "31/31 [==============================] - 0s 3ms/step - loss: 3731.4702 - mae: 3731.4702 - val_loss: 3766.1033 - val_mae: 3766.1033\n",
      "Epoch 53/120\n",
      "31/31 [==============================] - 0s 3ms/step - loss: 3919.4845 - mae: 3919.4845 - val_loss: 3813.1086 - val_mae: 3813.1086\n",
      "Epoch 54/120\n",
      "31/31 [==============================] - 0s 3ms/step - loss: 3646.8548 - mae: 3646.8548 - val_loss: 3758.6033 - val_mae: 3758.6033\n",
      "Epoch 55/120\n",
      "31/31 [==============================] - 0s 3ms/step - loss: 3940.3560 - mae: 3940.3560 - val_loss: 3756.9578 - val_mae: 3756.9578\n",
      "Epoch 56/120\n",
      "31/31 [==============================] - 0s 3ms/step - loss: 4005.1644 - mae: 4005.1644 - val_loss: 3785.8911 - val_mae: 3785.8911\n",
      "Epoch 57/120\n",
      "31/31 [==============================] - 0s 3ms/step - loss: 3371.5386 - mae: 3371.5386 - val_loss: 3745.2891 - val_mae: 3745.2891\n"
     ]
    },
    {
     "name": "stdout",
     "output_type": "stream",
     "text": [
      "Epoch 58/120\n",
      "31/31 [==============================] - 0s 3ms/step - loss: 3470.4183 - mae: 3470.4183 - val_loss: 3787.9363 - val_mae: 3787.9363\n",
      "Epoch 59/120\n",
      "31/31 [==============================] - 0s 3ms/step - loss: 3937.6371 - mae: 3937.6371 - val_loss: 3840.6863 - val_mae: 3840.6863\n",
      "Epoch 60/120\n",
      "31/31 [==============================] - 0s 3ms/step - loss: 3832.0972 - mae: 3832.0972 - val_loss: 3838.1306 - val_mae: 3838.1306\n",
      "Epoch 61/120\n",
      "31/31 [==============================] - 0s 3ms/step - loss: 3764.1696 - mae: 3764.1696 - val_loss: 3892.7026 - val_mae: 3892.7026\n",
      "Epoch 62/120\n",
      "31/31 [==============================] - 0s 3ms/step - loss: 3797.7362 - mae: 3797.7362 - val_loss: 3834.0515 - val_mae: 3834.0515\n",
      "Epoch 63/120\n",
      "31/31 [==============================] - 0s 3ms/step - loss: 3760.6900 - mae: 3760.6900 - val_loss: 3844.8362 - val_mae: 3844.8362\n",
      "Epoch 64/120\n",
      "31/31 [==============================] - 0s 3ms/step - loss: 3954.8402 - mae: 3954.8402 - val_loss: 3743.3694 - val_mae: 3743.3694\n",
      "Epoch 65/120\n",
      "31/31 [==============================] - 0s 3ms/step - loss: 3770.3979 - mae: 3770.3979 - val_loss: 3721.8142 - val_mae: 3721.8142\n",
      "Epoch 66/120\n",
      "31/31 [==============================] - 0s 3ms/step - loss: 3770.1089 - mae: 3770.1089 - val_loss: 3745.7156 - val_mae: 3745.7156\n",
      "Epoch 67/120\n",
      "31/31 [==============================] - 0s 3ms/step - loss: 3432.5587 - mae: 3432.5587 - val_loss: 3704.8723 - val_mae: 3704.8723\n",
      "Epoch 68/120\n",
      "31/31 [==============================] - 0s 3ms/step - loss: 3795.5182 - mae: 3795.5182 - val_loss: 3711.6135 - val_mae: 3711.6135\n",
      "Epoch 69/120\n",
      "31/31 [==============================] - 0s 3ms/step - loss: 3610.1134 - mae: 3610.1134 - val_loss: 3749.4734 - val_mae: 3749.4734\n",
      "Epoch 70/120\n",
      "31/31 [==============================] - 0s 3ms/step - loss: 3790.5878 - mae: 3790.5878 - val_loss: 3678.2698 - val_mae: 3678.2698\n",
      "Epoch 71/120\n",
      "31/31 [==============================] - 0s 3ms/step - loss: 3943.6816 - mae: 3943.6816 - val_loss: 3677.7571 - val_mae: 3677.7571\n",
      "Epoch 72/120\n",
      "31/31 [==============================] - 0s 3ms/step - loss: 3750.1162 - mae: 3750.1162 - val_loss: 3676.9434 - val_mae: 3676.9434\n",
      "Epoch 73/120\n",
      "31/31 [==============================] - 0s 3ms/step - loss: 3511.4931 - mae: 3511.4931 - val_loss: 3678.4685 - val_mae: 3678.4685\n",
      "Epoch 74/120\n",
      "31/31 [==============================] - 0s 3ms/step - loss: 3712.4673 - mae: 3712.4673 - val_loss: 3682.2390 - val_mae: 3682.2390\n",
      "Epoch 75/120\n",
      "31/31 [==============================] - 0s 3ms/step - loss: 3766.9495 - mae: 3766.9495 - val_loss: 3705.1211 - val_mae: 3705.1211\n",
      "Epoch 76/120\n",
      "31/31 [==============================] - 0s 3ms/step - loss: 3997.0134 - mae: 3997.0134 - val_loss: 3691.6758 - val_mae: 3691.6758\n",
      "Epoch 77/120\n",
      "31/31 [==============================] - 0s 3ms/step - loss: 3951.7438 - mae: 3951.7438 - val_loss: 3735.4333 - val_mae: 3735.4333\n",
      "Epoch 78/120\n",
      "31/31 [==============================] - 0s 4ms/step - loss: 3962.9221 - mae: 3962.9221 - val_loss: 3781.3411 - val_mae: 3781.3411\n",
      "Epoch 79/120\n",
      "31/31 [==============================] - 0s 4ms/step - loss: 3945.5112 - mae: 3945.5112 - val_loss: 3597.5876 - val_mae: 3597.5876\n",
      "Epoch 80/120\n",
      "31/31 [==============================] - 0s 3ms/step - loss: 3557.4512 - mae: 3557.4512 - val_loss: 3576.3533 - val_mae: 3576.3533\n",
      "Epoch 81/120\n",
      "31/31 [==============================] - 0s 3ms/step - loss: 3494.9135 - mae: 3494.9135 - val_loss: 3595.0544 - val_mae: 3595.0544\n",
      "Epoch 82/120\n",
      "31/31 [==============================] - 0s 4ms/step - loss: 3834.4416 - mae: 3834.4416 - val_loss: 3663.1487 - val_mae: 3663.1487\n",
      "Epoch 83/120\n",
      "31/31 [==============================] - 0s 4ms/step - loss: 3834.0040 - mae: 3834.0040 - val_loss: 3609.5400 - val_mae: 3609.5400\n",
      "Epoch 84/120\n",
      "31/31 [==============================] - 0s 3ms/step - loss: 3493.5904 - mae: 3493.5904 - val_loss: 3543.7004 - val_mae: 3543.7004\n",
      "Epoch 85/120\n",
      "31/31 [==============================] - 0s 3ms/step - loss: 3409.7232 - mae: 3409.7232 - val_loss: 3564.9937 - val_mae: 3564.9937\n",
      "Epoch 86/120\n",
      "31/31 [==============================] - 0s 4ms/step - loss: 3718.7419 - mae: 3718.7419 - val_loss: 3536.5286 - val_mae: 3536.5286\n",
      "Epoch 87/120\n",
      "31/31 [==============================] - 0s 3ms/step - loss: 3802.7576 - mae: 3802.7576 - val_loss: 3527.7354 - val_mae: 3527.7354\n",
      "Epoch 88/120\n",
      "31/31 [==============================] - 0s 3ms/step - loss: 3763.1218 - mae: 3763.1218 - val_loss: 3804.3174 - val_mae: 3804.3174\n",
      "Epoch 89/120\n",
      "31/31 [==============================] - 0s 3ms/step - loss: 3789.2718 - mae: 3789.2718 - val_loss: 3635.6443 - val_mae: 3635.6443\n",
      "Epoch 90/120\n",
      "31/31 [==============================] - 0s 4ms/step - loss: 3899.0635 - mae: 3899.0635 - val_loss: 3568.9287 - val_mae: 3568.9287\n",
      "Epoch 91/120\n",
      "31/31 [==============================] - 0s 3ms/step - loss: 3859.4769 - mae: 3859.4769 - val_loss: 3552.2698 - val_mae: 3552.2698\n",
      "Epoch 92/120\n",
      "31/31 [==============================] - 0s 3ms/step - loss: 3702.1776 - mae: 3702.1776 - val_loss: 3489.5701 - val_mae: 3489.5701\n",
      "Epoch 93/120\n",
      "31/31 [==============================] - 0s 3ms/step - loss: 3485.3308 - mae: 3485.3308 - val_loss: 3471.6338 - val_mae: 3471.6338\n",
      "Epoch 94/120\n",
      "31/31 [==============================] - 0s 3ms/step - loss: 3554.3887 - mae: 3554.3887 - val_loss: 3531.2192 - val_mae: 3531.2192\n",
      "Epoch 95/120\n",
      "31/31 [==============================] - 0s 3ms/step - loss: 3677.7740 - mae: 3677.7740 - val_loss: 3482.5947 - val_mae: 3482.5947\n",
      "Epoch 96/120\n",
      "31/31 [==============================] - 0s 4ms/step - loss: 3672.4195 - mae: 3672.4195 - val_loss: 3429.5330 - val_mae: 3429.5330\n",
      "Epoch 97/120\n",
      "31/31 [==============================] - 0s 3ms/step - loss: 3756.5993 - mae: 3756.5993 - val_loss: 3441.6604 - val_mae: 3441.6604\n",
      "Epoch 98/120\n",
      "31/31 [==============================] - 0s 3ms/step - loss: 3593.1304 - mae: 3593.1304 - val_loss: 3439.0146 - val_mae: 3439.0146\n",
      "Epoch 99/120\n",
      "31/31 [==============================] - 0s 4ms/step - loss: 3673.8463 - mae: 3673.8463 - val_loss: 3428.5664 - val_mae: 3428.5664\n",
      "Epoch 100/120\n",
      "31/31 [==============================] - 0s 3ms/step - loss: 3499.3466 - mae: 3499.3466 - val_loss: 3475.7354 - val_mae: 3475.7354\n",
      "Epoch 101/120\n",
      "31/31 [==============================] - 0s 3ms/step - loss: 3497.9399 - mae: 3497.9399 - val_loss: 3409.2158 - val_mae: 3409.2158\n",
      "Epoch 102/120\n",
      "31/31 [==============================] - 0s 3ms/step - loss: 3624.8730 - mae: 3624.8730 - val_loss: 3484.8330 - val_mae: 3484.8330\n",
      "Epoch 103/120\n",
      "31/31 [==============================] - 0s 4ms/step - loss: 4059.8857 - mae: 4059.8857 - val_loss: 3459.7153 - val_mae: 3459.7153\n",
      "Epoch 104/120\n",
      "31/31 [==============================] - 0s 3ms/step - loss: 3775.4458 - mae: 3775.4458 - val_loss: 3338.0027 - val_mae: 3338.0027\n",
      "Epoch 105/120\n",
      "31/31 [==============================] - 0s 3ms/step - loss: 3412.0756 - mae: 3412.0756 - val_loss: 3334.9116 - val_mae: 3334.9116\n",
      "Epoch 106/120\n",
      "31/31 [==============================] - 0s 4ms/step - loss: 3660.8947 - mae: 3660.8947 - val_loss: 3446.1860 - val_mae: 3446.1860\n",
      "Epoch 107/120\n",
      "31/31 [==============================] - 0s 3ms/step - loss: 3596.9048 - mae: 3596.9048 - val_loss: 3331.8423 - val_mae: 3331.8423\n",
      "Epoch 108/120\n",
      "31/31 [==============================] - 0s 3ms/step - loss: 3552.3462 - mae: 3552.3462 - val_loss: 3413.5671 - val_mae: 3413.5671\n",
      "Epoch 109/120\n",
      "31/31 [==============================] - 0s 3ms/step - loss: 3697.4109 - mae: 3697.4109 - val_loss: 3491.3179 - val_mae: 3491.3179\n",
      "Epoch 110/120\n",
      "31/31 [==============================] - 0s 3ms/step - loss: 3661.1745 - mae: 3661.1745 - val_loss: 3347.1304 - val_mae: 3347.1304\n",
      "Epoch 111/120\n",
      "31/31 [==============================] - 0s 3ms/step - loss: 3779.9581 - mae: 3779.9581 - val_loss: 3321.5764 - val_mae: 3321.5764\n",
      "Epoch 112/120\n",
      "31/31 [==============================] - 0s 3ms/step - loss: 3687.7493 - mae: 3687.7493 - val_loss: 3335.0823 - val_mae: 3335.0823\n",
      "Epoch 113/120\n",
      "31/31 [==============================] - 0s 3ms/step - loss: 3851.4440 - mae: 3851.4440 - val_loss: 3350.8574 - val_mae: 3350.8574\n",
      "Epoch 114/120\n",
      "31/31 [==============================] - 0s 3ms/step - loss: 3462.7528 - mae: 3462.7528 - val_loss: 3373.8655 - val_mae: 3373.8655\n"
     ]
    },
    {
     "name": "stdout",
     "output_type": "stream",
     "text": [
      "Epoch 115/120\n",
      "31/31 [==============================] - 0s 4ms/step - loss: 3628.3885 - mae: 3628.3885 - val_loss: 3291.9265 - val_mae: 3291.9265\n",
      "Epoch 116/120\n",
      "31/31 [==============================] - 0s 3ms/step - loss: 3597.4755 - mae: 3597.4755 - val_loss: 3458.6226 - val_mae: 3458.6226\n",
      "Epoch 117/120\n",
      "31/31 [==============================] - 0s 3ms/step - loss: 3765.8410 - mae: 3765.8410 - val_loss: 3228.6155 - val_mae: 3228.6155\n",
      "Epoch 118/120\n",
      "31/31 [==============================] - 0s 4ms/step - loss: 3675.6395 - mae: 3675.6395 - val_loss: 3231.1284 - val_mae: 3231.1284\n",
      "Epoch 119/120\n",
      "31/31 [==============================] - 0s 4ms/step - loss: 3440.5242 - mae: 3440.5242 - val_loss: 3185.8687 - val_mae: 3185.8687\n",
      "Epoch 120/120\n",
      "31/31 [==============================] - 0s 3ms/step - loss: 3417.2815 - mae: 3417.2815 - val_loss: 3178.7251 - val_mae: 3178.7256\n"
     ]
    },
    {
     "data": {
      "text/plain": [
       "<tensorflow.python.keras.callbacks.History at 0x7f3b6a4b10d0>"
      ]
     },
     "execution_count": 278,
     "metadata": {},
     "output_type": "execute_result"
    }
   ],
   "source": [
    "tf.random.set_seed(42) #setting this global seed ensures pour results remain constant a long as we\n",
    "#maintain the different hyperparameters of our model constant too.\n",
    "\n",
    "# Creating the neural net\n",
    "insurance_model = tf.keras.models.Sequential([\n",
    "    tf.keras.layers.Dense(32),\n",
    "    tf.keras.layers.Dense(64),\n",
    "    tf.keras.layers.Dense(1)\n",
    "])\n",
    "\n",
    "#compile the model\n",
    "insurance_model.compile(\n",
    "loss = tf.keras.losses.mae,\n",
    "optimizer = tf.keras.optimizers.Adam(),\n",
    "metrics=[\"mae\"]\n",
    ")\n",
    "\n",
    "insurance_model.fit(X_train,y_train, epochs = 120, validation_split=0.1)"
   ]
  },
  {
   "cell_type": "code",
   "execution_count": 265,
   "id": "19da5715",
   "metadata": {},
   "outputs": [
    {
     "name": "stdout",
     "output_type": "stream",
     "text": [
      "WARNING:tensorflow:6 out of the last 108 calls to <function Model.make_test_function.<locals>.test_function at 0x7f3b4201c4c0> triggered tf.function retracing. Tracing is expensive and the excessive number of tracings could be due to (1) creating @tf.function repeatedly in a loop, (2) passing tensors with different shapes, (3) passing Python objects instead of tensors. For (1), please define your @tf.function outside of the loop. For (2), @tf.function has experimental_relax_shapes=True option that relaxes argument shapes that can avoid unnecessary retracing. For (3), please refer to https://www.tensorflow.org/guide/function#controlling_retracing and https://www.tensorflow.org/api_docs/python/tf/function for  more details.\n",
      "34/34 [==============================] - 0s 1ms/step - loss: 7396.7065 - mae: 7396.7065\n"
     ]
    },
    {
     "data": {
      "text/plain": [
       "[7396.70654296875, 7396.70654296875]"
      ]
     },
     "execution_count": 265,
     "metadata": {},
     "output_type": "execute_result"
    }
   ],
   "source": [
    "# Check the rsults of the insurance model on the test data\n",
    "insurance_model.evaluate(X_train, y_train)"
   ]
  }
 ],
 "metadata": {
  "kernelspec": {
   "display_name": "Python 3",
   "language": "python",
   "name": "python3"
  },
  "language_info": {
   "codemirror_mode": {
    "name": "ipython",
    "version": 3
   },
   "file_extension": ".py",
   "mimetype": "text/x-python",
   "name": "python",
   "nbconvert_exporter": "python",
   "pygments_lexer": "ipython3",
   "version": "3.8.10"
  }
 },
 "nbformat": 4,
 "nbformat_minor": 5
}
