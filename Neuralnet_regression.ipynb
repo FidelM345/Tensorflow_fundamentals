{
 "cells": [
  {
   "cell_type": "markdown",
   "id": "23f576e9",
   "metadata": {},
   "source": [
    "# Introduction to regression with Neural Networks in tensorflow"
   ]
  },
  {
   "cell_type": "code",
   "execution_count": 1,
   "id": "eb1b93a5",
   "metadata": {},
   "outputs": [
    {
     "name": "stdout",
     "output_type": "stream",
     "text": [
      "2.4.1\n"
     ]
    }
   ],
   "source": [
    "import tensorflow as tf\n",
    "print(tf.__version__)\n",
    "\n",
    "import os\n",
    "os.environ['TF_CPP_MIN_LOG_LEVEL'] = '2'"
   ]
  },
  {
   "cell_type": "markdown",
   "id": "c5f40f76",
   "metadata": {},
   "source": [
    "## Create data to view and fit"
   ]
  },
  {
   "cell_type": "code",
   "execution_count": 2,
   "id": "9952f730",
   "metadata": {},
   "outputs": [],
   "source": [
    "#import necessary packages\n",
    "import numpy as np\n",
    "import matplotlib.pyplot as plt"
   ]
  },
  {
   "cell_type": "code",
   "execution_count": 3,
   "id": "19f5a12c",
   "metadata": {},
   "outputs": [
    {
     "data": {
      "text/plain": [
       "<matplotlib.collections.PathCollection at 0x7ff02ec4f070>"
      ]
     },
     "execution_count": 3,
     "metadata": {},
     "output_type": "execute_result"
    },
    {
     "data": {
      "image/png": "[encoded data removed]",
      "text/plain": [
       "<Figure size 432x288 with 1 Axes>"
      ]
     },
     "metadata": {
      "needs_background": "light"
     },
     "output_type": "display_data"
    }
   ],
   "source": [
    "#Create input features\n",
    "X = np.array([-7.0,-4.0,-1.0,2.0,5.0,8.0,11.0,14.0])\n",
    "y = np.array([3.0,6.0,9.0,12.0,15.0,18.0,21.0,24.0])\n",
    "\n",
    "#visualize the data\n",
    "plt.scatter(X,y)"
   ]
  },
  {
   "cell_type": "markdown",
   "id": "2bb619e1",
   "metadata": {},
   "source": [
    "## Creating and training the neural network"
   ]
  },
  {
   "cell_type": "code",
   "execution_count": 4,
   "id": "049f552c",
   "metadata": {},
   "outputs": [],
   "source": [
    "#first we must convert all our numpy arrays into tensors\n",
    "X = tf.constant(tf.cast(X, dtype=tf.float32))\n",
    "y = tf.constant(tf.cast(y, dtype=tf.float32))"
   ]
  },
  {
   "cell_type": "code",
   "execution_count": 5,
   "id": "9bbf6524",
   "metadata": {},
   "outputs": [
    {
     "name": "stdout",
     "output_type": "stream",
     "text": [
      "Epoch 1/5\n",
      "1/1 [==============================] - 1s 587ms/step - loss: 11.5048 - mae: 11.5048\n",
      "Epoch 2/5\n",
      "1/1 [==============================] - 0s 2ms/step - loss: 11.3723 - mae: 11.3723\n",
      "Epoch 3/5\n",
      "1/1 [==============================] - 0s 2ms/step - loss: 11.2398 - mae: 11.2398\n",
      "Epoch 4/5\n",
      "1/1 [==============================] - 0s 2ms/step - loss: 11.1073 - mae: 11.1073\n",
      "Epoch 5/5\n",
      "1/1 [==============================] - 0s 2ms/step - loss: 10.9748 - mae: 10.9748\n"
     ]
    },
    {
     "data": {
      "text/plain": [
       "<tensorflow.python.keras.callbacks.History at 0x7ff00c517130>"
      ]
     },
     "execution_count": 5,
     "metadata": {},
     "output_type": "execute_result"
    }
   ],
   "source": [
    "tf.random.set_seed(42)\n",
    "model = tf.keras.models.Sequential([\n",
    "    tf.keras.layers.Dense(1)\n",
    "])\n",
    "\n",
    "model.compile(\n",
    "    optimizer = 'sgd',\n",
    "    loss = 'mae',\n",
    "    metrics=[\"mae\"]\n",
    ")\n",
    "\n",
    "# This builds the model for the first time:\n",
    "model.fit(X, y,epochs=5)"
   ]
  },
  {
   "cell_type": "code",
   "execution_count": 6,
   "id": "262e7c78",
   "metadata": {
    "scrolled": true
   },
   "outputs": [
    {
     "data": {
      "text/plain": [
       "array([[10.480841]], dtype=float32)"
      ]
     },
     "execution_count": 6,
     "metadata": {},
     "output_type": "execute_result"
    }
   ],
   "source": [
    "#make a prediction\n",
    "model.predict([14.0])"
   ]
  },
  {
   "cell_type": "markdown",
   "id": "e6b5f16c",
   "metadata": {},
   "source": [
    "## Ways of improving the model accuracy (Hyper parameters)\n",
    "#### 1. Creating the model \n",
    "* Adding more layers.\n",
    "* Adding more hidden units or neurons.\n",
    "* Change the activation function.\n",
    "\n",
    "#### 2. Compliling the model \n",
    "* Change the optimization function.\n",
    "* Change the learning rate.\n",
    "* Change the loss function.\n",
    "\n",
    "#### 3. Fitting the model \n",
    "* Adding more epochs or training the data for a longer period.\n",
    "* Adding more training data.\n"
   ]
  },
  {
   "cell_type": "code",
   "execution_count": 7,
   "id": "e4b57771",
   "metadata": {},
   "outputs": [
    {
     "name": "stdout",
     "output_type": "stream",
     "text": [
      "Epoch 1/100\n",
      "1/1 [==============================] - 1s 587ms/step - loss: 12.6552 - mae: 12.6552 - val_loss: 26.0992 - val_mae: 26.0992\n",
      "Epoch 2/100\n",
      "1/1 [==============================] - 0s 31ms/step - loss: 12.2181 - mae: 12.2181 - val_loss: 23.6140 - val_mae: 23.6140\n",
      "Epoch 3/100\n",
      "1/1 [==============================] - 0s 44ms/step - loss: 11.7811 - mae: 11.7811 - val_loss: 21.1247 - val_mae: 21.1247\n",
      "Epoch 4/100\n",
      "1/1 [==============================] - 0s 32ms/step - loss: 11.3431 - mae: 11.3431 - val_loss: 18.6227 - val_mae: 18.6227\n",
      "Epoch 5/100\n",
      "1/1 [==============================] - 0s 30ms/step - loss: 10.9020 - mae: 10.9020 - val_loss: 16.0989 - val_mae: 16.0989\n",
      "Epoch 6/100\n",
      "1/1 [==============================] - 0s 30ms/step - loss: 10.4561 - mae: 10.4561 - val_loss: 13.5454 - val_mae: 13.5454\n",
      "Epoch 7/100\n",
      "1/1 [==============================] - 0s 32ms/step - loss: 10.0036 - mae: 10.0036 - val_loss: 10.9553 - val_mae: 10.9553\n",
      "Epoch 8/100\n",
      "1/1 [==============================] - 0s 30ms/step - loss: 9.5431 - mae: 9.5431 - val_loss: 8.3216 - val_mae: 8.3216\n",
      "Epoch 9/100\n",
      "1/1 [==============================] - 0s 32ms/step - loss: 9.0732 - mae: 9.0732 - val_loss: 5.6374 - val_mae: 5.6374\n",
      "Epoch 10/100\n",
      "1/1 [==============================] - 0s 30ms/step - loss: 8.5924 - mae: 8.5924 - val_loss: 2.8951 - val_mae: 2.8951\n",
      "Epoch 11/100\n",
      "1/1 [==============================] - 0s 30ms/step - loss: 8.0992 - mae: 8.0992 - val_loss: 0.0861 - val_mae: 0.0861\n",
      "Epoch 12/100\n",
      "1/1 [==============================] - 0s 36ms/step - loss: 7.5918 - mae: 7.5918 - val_loss: 2.7986 - val_mae: 2.7986\n",
      "Epoch 13/100\n",
      "1/1 [==============================] - 0s 31ms/step - loss: 7.1632 - mae: 7.1632 - val_loss: 5.1945 - val_mae: 5.1945\n",
      "Epoch 14/100\n",
      "1/1 [==============================] - 0s 30ms/step - loss: 7.2546 - mae: 7.2546 - val_loss: 7.1376 - val_mae: 7.1376\n",
      "Epoch 15/100\n",
      "1/1 [==============================] - 0s 38ms/step - loss: 7.4392 - mae: 7.4392 - val_loss: 8.0166 - val_mae: 8.0166\n",
      "Epoch 16/100\n",
      "1/1 [==============================] - 0s 34ms/step - loss: 7.5746 - mae: 7.5746 - val_loss: 8.1341 - val_mae: 8.1341\n",
      "Epoch 17/100\n",
      "1/1 [==============================] - 0s 30ms/step - loss: 7.5307 - mae: 7.5307 - val_loss: 7.6875 - val_mae: 7.6875\n",
      "Epoch 18/100\n",
      "1/1 [==============================] - 0s 28ms/step - loss: 7.3554 - mae: 7.3554 - val_loss: 6.8163 - val_mae: 6.8163\n",
      "Epoch 19/100\n",
      "1/1 [==============================] - 0s 31ms/step - loss: 7.0819 - mae: 7.0819 - val_loss: 5.6229 - val_mae: 5.6229\n",
      "Epoch 20/100\n",
      "1/1 [==============================] - 0s 37ms/step - loss: 6.7911 - mae: 6.7911 - val_loss: 4.4397 - val_mae: 4.4397\n",
      "Epoch 21/100\n",
      "1/1 [==============================] - 0s 29ms/step - loss: 6.6283 - mae: 6.6283 - val_loss: 3.2675 - val_mae: 3.2675\n",
      "Epoch 22/100\n",
      "1/1 [==============================] - 0s 37ms/step - loss: 6.4646 - mae: 6.4646 - val_loss: 2.1066 - val_mae: 2.1066\n",
      "Epoch 23/100\n",
      "1/1 [==============================] - 0s 28ms/step - loss: 6.3001 - mae: 6.3001 - val_loss: 0.9567 - val_mae: 0.9567\n",
      "Epoch 24/100\n",
      "1/1 [==============================] - 0s 43ms/step - loss: 6.3857 - mae: 6.3857 - val_loss: 0.2485 - val_mae: 0.2485\n",
      "Epoch 25/100\n",
      "1/1 [==============================] - 0s 33ms/step - loss: 6.3961 - mae: 6.3961 - val_loss: 0.0816 - val_mae: 0.0816\n",
      "Epoch 26/100\n",
      "1/1 [==============================] - 0s 30ms/step - loss: 6.3399 - mae: 6.3399 - val_loss: 0.0801 - val_mae: 0.0801\n",
      "Epoch 27/100\n",
      "1/1 [==============================] - 0s 31ms/step - loss: 6.2241 - mae: 6.2241 - val_loss: 0.2187 - val_mae: 0.2187\n",
      "Epoch 28/100\n",
      "1/1 [==============================] - 0s 33ms/step - loss: 6.0540 - mae: 6.0540 - val_loss: 0.7896 - val_mae: 0.7896\n",
      "Epoch 29/100\n",
      "1/1 [==============================] - 0s 30ms/step - loss: 5.8334 - mae: 5.8334 - val_loss: 1.6140 - val_mae: 1.6140\n",
      "Epoch 30/100\n",
      "1/1 [==============================] - 0s 31ms/step - loss: 5.5647 - mae: 5.5647 - val_loss: 2.6788 - val_mae: 2.6788\n",
      "Epoch 31/100\n",
      "1/1 [==============================] - 0s 30ms/step - loss: 5.4489 - mae: 5.4489 - val_loss: 3.5571 - val_mae: 3.5571\n",
      "Epoch 32/100\n",
      "1/1 [==============================] - 0s 43ms/step - loss: 5.3681 - mae: 5.3681 - val_loss: 4.2575 - val_mae: 4.2575\n",
      "Epoch 33/100\n",
      "1/1 [==============================] - 0s 30ms/step - loss: 5.2712 - mae: 5.2712 - val_loss: 4.7883 - val_mae: 4.7883\n",
      "Epoch 34/100\n",
      "1/1 [==============================] - 0s 27ms/step - loss: 5.2067 - mae: 5.2067 - val_loss: 4.8047 - val_mae: 4.8047\n",
      "Epoch 35/100\n",
      "1/1 [==============================] - 0s 29ms/step - loss: 5.0874 - mae: 5.0874 - val_loss: 4.3701 - val_mae: 4.3701\n",
      "Epoch 36/100\n",
      "1/1 [==============================] - 0s 31ms/step - loss: 4.8657 - mae: 4.8657 - val_loss: 3.5423 - val_mae: 3.5423\n",
      "Epoch 37/100\n",
      "1/1 [==============================] - 0s 30ms/step - loss: 4.6470 - mae: 4.6470 - val_loss: 2.6690 - val_mae: 2.6690\n",
      "Epoch 38/100\n",
      "1/1 [==============================] - 0s 28ms/step - loss: 4.4427 - mae: 4.4427 - val_loss: 1.7499 - val_mae: 1.7499\n",
      "Epoch 39/100\n",
      "1/1 [==============================] - 0s 28ms/step - loss: 4.2289 - mae: 4.2289 - val_loss: 0.7841 - val_mae: 0.7841\n",
      "Epoch 40/100\n",
      "1/1 [==============================] - 0s 27ms/step - loss: 4.1324 - mae: 4.1324 - val_loss: 0.2676 - val_mae: 0.2676\n",
      "Epoch 41/100\n",
      "1/1 [==============================] - 0s 25ms/step - loss: 4.0285 - mae: 4.0285 - val_loss: 0.1615 - val_mae: 0.1615\n",
      "Epoch 42/100\n",
      "1/1 [==============================] - 0s 28ms/step - loss: 3.8452 - mae: 3.8452 - val_loss: 0.4357 - val_mae: 0.4357\n",
      "Epoch 43/100\n",
      "1/1 [==============================] - 0s 29ms/step - loss: 3.5878 - mae: 3.5878 - val_loss: 1.0668 - val_mae: 1.0668\n",
      "Epoch 44/100\n",
      "1/1 [==============================] - 0s 28ms/step - loss: 3.2601 - mae: 3.2601 - val_loss: 2.0368 - val_mae: 2.0368\n",
      "Epoch 45/100\n",
      "1/1 [==============================] - 0s 27ms/step - loss: 3.0969 - mae: 3.0969 - val_loss: 2.8025 - val_mae: 2.8025\n",
      "Epoch 46/100\n",
      "1/1 [==============================] - 0s 33ms/step - loss: 2.9609 - mae: 2.9609 - val_loss: 2.9578 - val_mae: 2.9578\n",
      "Epoch 47/100\n",
      "1/1 [==============================] - 0s 27ms/step - loss: 2.8022 - mae: 2.8022 - val_loss: 2.5688 - val_mae: 2.5688\n",
      "Epoch 48/100\n",
      "1/1 [==============================] - 0s 36ms/step - loss: 2.5178 - mae: 2.5178 - val_loss: 1.6939 - val_mae: 1.6939\n",
      "Epoch 49/100\n",
      "1/1 [==============================] - 0s 29ms/step - loss: 2.1547 - mae: 2.1547 - val_loss: 0.7397 - val_mae: 0.7397\n",
      "Epoch 50/100\n",
      "1/1 [==============================] - 0s 30ms/step - loss: 1.8519 - mae: 1.8519 - val_loss: 0.2954 - val_mae: 0.2954\n",
      "Epoch 51/100\n",
      "1/1 [==============================] - 0s 34ms/step - loss: 1.7191 - mae: 1.7191 - val_loss: 0.8146 - val_mae: 0.8146\n",
      "Epoch 52/100\n",
      "1/1 [==============================] - 0s 31ms/step - loss: 1.5136 - mae: 1.5136 - val_loss: 0.8538 - val_mae: 0.8538\n",
      "Epoch 53/100\n",
      "1/1 [==============================] - 0s 29ms/step - loss: 1.2139 - mae: 1.2139 - val_loss: 0.4418 - val_mae: 0.4418\n",
      "Epoch 54/100\n",
      "1/1 [==============================] - 0s 28ms/step - loss: 0.8252 - mae: 0.8252 - val_loss: 0.3981 - val_mae: 0.3981\n",
      "Epoch 55/100\n",
      "1/1 [==============================] - 0s 29ms/step - loss: 0.4185 - mae: 0.4185 - val_loss: 0.5342 - val_mae: 0.5342\n",
      "Epoch 56/100\n",
      "1/1 [==============================] - 0s 35ms/step - loss: 0.2256 - mae: 0.2256 - val_loss: 0.3318 - val_mae: 0.3318\n",
      "Epoch 57/100\n",
      "1/1 [==============================] - 0s 33ms/step - loss: 0.2662 - mae: 0.2662 - val_loss: 0.5069 - val_mae: 0.5069\n",
      "Epoch 58/100\n",
      "1/1 [==============================] - 0s 31ms/step - loss: 0.5067 - mae: 0.5067 - val_loss: 0.0656 - val_mae: 0.0656\n",
      "Epoch 59/100\n",
      "1/1 [==============================] - 0s 32ms/step - loss: 0.6836 - mae: 0.6836 - val_loss: 0.1307 - val_mae: 0.1307\n",
      "Epoch 60/100\n",
      "1/1 [==============================] - 0s 29ms/step - loss: 0.7939 - mae: 0.7939 - val_loss: 0.6501 - val_mae: 0.6501\n",
      "Epoch 61/100\n",
      "1/1 [==============================] - 0s 32ms/step - loss: 0.8477 - mae: 0.8477 - val_loss: 0.9698 - val_mae: 0.9698\n",
      "Epoch 62/100\n",
      "1/1 [==============================] - 0s 30ms/step - loss: 0.9070 - mae: 0.9070 - val_loss: 0.6684 - val_mae: 0.6684\n",
      "Epoch 63/100\n"
     ]
    },
    {
     "name": "stdout",
     "output_type": "stream",
     "text": [
      "1/1 [==============================] - 0s 31ms/step - loss: 0.8220 - mae: 0.8220 - val_loss: 0.2548 - val_mae: 0.2548\n",
      "Epoch 64/100\n",
      "1/1 [==============================] - 0s 32ms/step - loss: 0.7288 - mae: 0.7288 - val_loss: 0.2557 - val_mae: 0.2557\n",
      "Epoch 65/100\n",
      "1/1 [==============================] - 0s 26ms/step - loss: 0.7018 - mae: 0.7018 - val_loss: 0.2656 - val_mae: 0.2656\n",
      "Epoch 66/100\n",
      "1/1 [==============================] - 0s 27ms/step - loss: 0.5578 - mae: 0.5578 - val_loss: 0.1583 - val_mae: 0.1583\n",
      "Epoch 67/100\n",
      "1/1 [==============================] - 0s 27ms/step - loss: 0.3232 - mae: 0.3232 - val_loss: 0.4040 - val_mae: 0.4040\n",
      "Epoch 68/100\n",
      "1/1 [==============================] - 0s 29ms/step - loss: 0.2160 - mae: 0.2160 - val_loss: 0.1395 - val_mae: 0.1395\n",
      "Epoch 69/100\n",
      "1/1 [==============================] - 0s 27ms/step - loss: 0.0751 - mae: 0.0751 - val_loss: 0.1391 - val_mae: 0.1391\n",
      "Epoch 70/100\n",
      "1/1 [==============================] - 0s 27ms/step - loss: 0.2268 - mae: 0.2268 - val_loss: 6.8665e-05 - val_mae: 6.8665e-05\n",
      "Epoch 71/100\n",
      "1/1 [==============================] - 0s 29ms/step - loss: 0.2952 - mae: 0.2952 - val_loss: 0.5074 - val_mae: 0.5074\n",
      "Epoch 72/100\n",
      "1/1 [==============================] - 0s 26ms/step - loss: 0.3769 - mae: 0.3769 - val_loss: 0.4864 - val_mae: 0.4864\n",
      "Epoch 73/100\n",
      "1/1 [==============================] - 0s 27ms/step - loss: 0.3783 - mae: 0.3783 - val_loss: 0.0023 - val_mae: 0.0023\n",
      "Epoch 74/100\n",
      "1/1 [==============================] - 0s 28ms/step - loss: 0.3221 - mae: 0.3221 - val_loss: 0.0585 - val_mae: 0.0585\n",
      "Epoch 75/100\n",
      "1/1 [==============================] - 0s 28ms/step - loss: 0.2723 - mae: 0.2723 - val_loss: 0.2622 - val_mae: 0.2622\n",
      "Epoch 76/100\n",
      "1/1 [==============================] - 0s 31ms/step - loss: 0.1897 - mae: 0.1897 - val_loss: 0.0830 - val_mae: 0.0830\n",
      "Epoch 77/100\n",
      "1/1 [==============================] - 0s 27ms/step - loss: 0.0594 - mae: 0.0594 - val_loss: 0.5468 - val_mae: 0.5468\n",
      "Epoch 78/100\n",
      "1/1 [==============================] - 0s 27ms/step - loss: 0.2308 - mae: 0.2308 - val_loss: 0.3021 - val_mae: 0.3021\n",
      "Epoch 79/100\n",
      "1/1 [==============================] - 0s 27ms/step - loss: 0.2201 - mae: 0.2201 - val_loss: 0.3799 - val_mae: 0.3799\n",
      "Epoch 80/100\n",
      "1/1 [==============================] - 0s 29ms/step - loss: 0.3325 - mae: 0.3325 - val_loss: 0.6174 - val_mae: 0.6174\n",
      "Epoch 81/100\n",
      "1/1 [==============================] - 0s 28ms/step - loss: 0.3943 - mae: 0.3943 - val_loss: 0.4538 - val_mae: 0.4538\n",
      "Epoch 82/100\n",
      "1/1 [==============================] - 0s 32ms/step - loss: 0.3415 - mae: 0.3415 - val_loss: 0.0658 - val_mae: 0.0658\n",
      "Epoch 83/100\n",
      "1/1 [==============================] - 0s 32ms/step - loss: 0.1884 - mae: 0.1884 - val_loss: 0.4266 - val_mae: 0.4266\n",
      "Epoch 84/100\n",
      "1/1 [==============================] - 0s 30ms/step - loss: 0.2006 - mae: 0.2006 - val_loss: 0.0805 - val_mae: 0.0805\n",
      "Epoch 85/100\n",
      "1/1 [==============================] - 0s 30ms/step - loss: 0.0307 - mae: 0.0307 - val_loss: 0.9622 - val_mae: 0.9622\n",
      "Epoch 86/100\n",
      "1/1 [==============================] - 0s 33ms/step - loss: 0.3932 - mae: 0.3932 - val_loss: 1.1437 - val_mae: 1.1437\n",
      "Epoch 87/100\n",
      "1/1 [==============================] - 0s 31ms/step - loss: 0.4858 - mae: 0.4858 - val_loss: 0.5935 - val_mae: 0.5935\n",
      "Epoch 88/100\n",
      "1/1 [==============================] - 0s 33ms/step - loss: 0.3396 - mae: 0.3396 - val_loss: 0.4877 - val_mae: 0.4877\n",
      "Epoch 89/100\n",
      "1/1 [==============================] - 0s 29ms/step - loss: 0.3820 - mae: 0.3820 - val_loss: 1.1287 - val_mae: 1.1287\n",
      "Epoch 90/100\n",
      "1/1 [==============================] - 0s 35ms/step - loss: 0.4936 - mae: 0.4936 - val_loss: 1.3815 - val_mae: 1.3815\n",
      "Epoch 91/100\n",
      "1/1 [==============================] - 0s 29ms/step - loss: 0.5452 - mae: 0.5452 - val_loss: 1.0614 - val_mae: 1.0614\n",
      "Epoch 92/100\n",
      "1/1 [==============================] - 0s 27ms/step - loss: 0.4204 - mae: 0.4204 - val_loss: 0.2269 - val_mae: 0.2269\n",
      "Epoch 93/100\n",
      "1/1 [==============================] - 0s 27ms/step - loss: 0.1677 - mae: 0.1677 - val_loss: 0.8589 - val_mae: 0.8589\n",
      "Epoch 94/100\n",
      "1/1 [==============================] - 0s 29ms/step - loss: 0.3320 - mae: 0.3320 - val_loss: 1.1448 - val_mae: 1.1448\n",
      "Epoch 95/100\n",
      "1/1 [==============================] - 0s 28ms/step - loss: 0.4287 - mae: 0.4287 - val_loss: 0.7305 - val_mae: 0.7305\n",
      "Epoch 96/100\n",
      "1/1 [==============================] - 0s 25ms/step - loss: 0.3020 - mae: 0.3020 - val_loss: 0.1902 - val_mae: 0.1902\n",
      "Epoch 97/100\n",
      "1/1 [==============================] - 0s 25ms/step - loss: 0.2123 - mae: 0.2123 - val_loss: 0.6303 - val_mae: 0.6303\n",
      "Epoch 98/100\n",
      "1/1 [==============================] - 0s 28ms/step - loss: 0.3422 - mae: 0.3422 - val_loss: 0.4456 - val_mae: 0.4456\n",
      "Epoch 99/100\n",
      "1/1 [==============================] - 0s 27ms/step - loss: 0.2820 - mae: 0.2820 - val_loss: 0.0997 - val_mae: 0.0997\n",
      "Epoch 100/100\n",
      "1/1 [==============================] - 0s 29ms/step - loss: 0.2210 - mae: 0.2210 - val_loss: 0.2698 - val_mae: 0.2698\n"
     ]
    },
    {
     "data": {
      "text/plain": [
       "<tensorflow.python.keras.callbacks.History at 0x7ff00c3675b0>"
      ]
     },
     "execution_count": 7,
     "metadata": {},
     "output_type": "execute_result"
    }
   ],
   "source": [
    "### Trying to improve our model accuracy\n",
    "model = tf.keras.models.Sequential([\n",
    "    tf.keras.layers.Dense(50,\n",
    "                          activation = None),\n",
    "\n",
    "    tf.keras.layers.Dense(1)\n",
    "])\n",
    "\n",
    "model.compile(\n",
    "    loss = 'mae',\n",
    "    optimizer = tf.keras.optimizers.Adam(lr=0.01),\n",
    "    metrics = ['mae']\n",
    ")\n",
    "\n",
    "model.fit(X,y, epochs=100, validation_split = 0.1\n",
    "         \n",
    "         )"
   ]
  },
  {
   "cell_type": "code",
   "execution_count": 8,
   "id": "f4276b99",
   "metadata": {},
   "outputs": [
    {
     "data": {
      "text/plain": [
       "array([[24.26979]], dtype=float32)"
      ]
     },
     "execution_count": 8,
     "metadata": {},
     "output_type": "execute_result"
    }
   ],
   "source": [
    "model.predict([14.0])"
   ]
  },
  {
   "cell_type": "markdown",
   "id": "bf0cc2af",
   "metadata": {},
   "source": [
    "# Evaluating model performace"
   ]
  },
  {
   "cell_type": "code",
   "execution_count": 9,
   "id": "c079ee6d",
   "metadata": {},
   "outputs": [
    {
     "data": {
      "text/plain": [
       "<tf.Tensor: shape=(50,), dtype=int32, numpy=\n",
       "array([-100,  -96,  -92,  -88,  -84,  -80,  -76,  -72,  -68,  -64,  -60,\n",
       "        -56,  -52,  -48,  -44,  -40,  -36,  -32,  -28,  -24,  -20,  -16,\n",
       "        -12,   -8,   -4,    0,    4,    8,   12,   16,   20,   24,   28,\n",
       "         32,   36,   40,   44,   48,   52,   56,   60,   64,   68,   72,\n",
       "         76,   80,   84,   88,   92,   96], dtype=int32)>"
      ]
     },
     "execution_count": 9,
     "metadata": {},
     "output_type": "execute_result"
    }
   ],
   "source": [
    "#Making a bigger dataset\n",
    "X =tf.range(-100, 100, 4)\n",
    "X"
   ]
  },
  {
   "cell_type": "code",
   "execution_count": 10,
   "id": "907a102d",
   "metadata": {},
   "outputs": [
    {
     "data": {
      "text/plain": [
       "<tf.Tensor: shape=(50,), dtype=int32, numpy=\n",
       "array([-90, -86, -82, -78, -74, -70, -66, -62, -58, -54, -50, -46, -42,\n",
       "       -38, -34, -30, -26, -22, -18, -14, -10,  -6,  -2,   2,   6,  10,\n",
       "        14,  18,  22,  26,  30,  34,  38,  42,  46,  50,  54,  58,  62,\n",
       "        66,  70,  74,  78,  82,  86,  90,  94,  98, 102, 106], dtype=int32)>"
      ]
     },
     "execution_count": 10,
     "metadata": {},
     "output_type": "execute_result"
    }
   ],
   "source": [
    "#Making the labels for the dataset\n",
    "y = X+10\n",
    "y"
   ]
  },
  {
   "cell_type": "code",
   "execution_count": 11,
   "id": "f4cda889",
   "metadata": {},
   "outputs": [
    {
     "data": {
      "text/plain": [
       "<matplotlib.collections.PathCollection at 0x7fefd002bf40>"
      ]
     },
     "execution_count": 11,
     "metadata": {},
     "output_type": "execute_result"
    },
    {
     "data": {
      "image/png": "[encoded data removed]",
      "text/plain": [
       "<Figure size 432x288 with 1 Axes>"
      ]
     },
     "metadata": {
      "needs_background": "light"
     },
     "output_type": "display_data"
    }
   ],
   "source": [
    "#Vizualize the data\n",
    "import matplotlib.pyplot as plt\n",
    "\n",
    "plt.scatter(X,y)"
   ]
  },
  {
   "cell_type": "code",
   "execution_count": 12,
   "id": "55c25944",
   "metadata": {},
   "outputs": [
    {
     "data": {
      "text/plain": [
       "50"
      ]
     },
     "execution_count": 12,
     "metadata": {},
     "output_type": "execute_result"
    }
   ],
   "source": [
    "#Checking the size of our dataset\n",
    "len(X)"
   ]
  },
  {
   "cell_type": "code",
   "execution_count": 13,
   "id": "6c01662a",
   "metadata": {},
   "outputs": [
    {
     "data": {
      "text/plain": [
       "(40, 40, 10, 10)"
      ]
     },
     "execution_count": 13,
     "metadata": {},
     "output_type": "execute_result"
    }
   ],
   "source": [
    "#Split the data into trainning and test sets\n",
    "X_train = X[:40]\n",
    "y_train = y[:40]\n",
    "\n",
    "X_test = X[40:]\n",
    "y_test = y[40:]\n",
    "\n",
    "len(X_train), len(y_train),len(X_test), len(y_test)"
   ]
  },
  {
   "cell_type": "markdown",
   "id": "3658da7c",
   "metadata": {},
   "source": [
    "## Visualize the data"
   ]
  },
  {
   "cell_type": "code",
   "execution_count": 14,
   "id": "704eacb5",
   "metadata": {},
   "outputs": [
    {
     "data": {
      "text/plain": [
       "<matplotlib.legend.Legend at 0x7fefb1c57df0>"
      ]
     },
     "execution_count": 14,
     "metadata": {},
     "output_type": "execute_result"
    },
    {
     "data": {
      "image/png": "[encoded data removed]",
      "text/plain": [
       "<Figure size 720x504 with 1 Axes>"
      ]
     },
     "metadata": {
      "needs_background": "light"
     },
     "output_type": "display_data"
    }
   ],
   "source": [
    "plt.figure(figsize=(10,7))\n",
    "\n",
    "#plot the training data in blue\n",
    "plt.scatter(X_train,y_train, c=\"b\", label=\"Training data\")\n",
    "plt.scatter(X_test,y_test, c=\"g\", label=\"Test data\")\n",
    "#show the legend\n",
    "plt.legend()\n"
   ]
  },
  {
   "cell_type": "markdown",
   "id": "ad0c34a2",
   "metadata": {},
   "source": [
    "## Create model"
   ]
  },
  {
   "cell_type": "code",
   "execution_count": 15,
   "id": "13f343fc",
   "metadata": {},
   "outputs": [],
   "source": [
    "tf.random.set_seed(42)\n",
    "\n",
    "model = tf.keras.models.Sequential([\n",
    "    tf.keras.layers.Dense(50, input_shape=[1], name = \"hidden_layer_1\", activation=None),\n",
    "    tf.keras.layers.Dense(1, name = \"output_layer\")\n",
    "], name=\"my_neural_net\")\n",
    "\n",
    "model.compile(\n",
    "loss = tf.keras.losses.mae,\n",
    "optimizer =tf.keras.optimizers.Adam(0.01),\n",
    "metrics = [\"mae\"]\n",
    ")\n"
   ]
  },
  {
   "cell_type": "markdown",
   "id": "c5d91bdb",
   "metadata": {},
   "source": [
    "## Visualize your model"
   ]
  },
  {
   "cell_type": "code",
   "execution_count": 16,
   "id": "cce24e9c",
   "metadata": {},
   "outputs": [
    {
     "name": "stdout",
     "output_type": "stream",
     "text": [
      "Model: \"my_neural_net\"\n",
      "_________________________________________________________________\n",
      "Layer (type)                 Output Shape              Param #   \n",
      "=================================================================\n",
      "hidden_layer_1 (Dense)       (None, 50)                100       \n",
      "_________________________________________________________________\n",
      "output_layer (Dense)         (None, 1)                 51        \n",
      "=================================================================\n",
      "Total params: 151\n",
      "Trainable params: 151\n",
      "Non-trainable params: 0\n",
      "_________________________________________________________________\n"
     ]
    }
   ],
   "source": [
    "## Using the model summary\n",
    "model.summary()"
   ]
  },
  {
   "cell_type": "code",
   "execution_count": 17,
   "id": "c720d97c",
   "metadata": {},
   "outputs": [
    {
     "data": {
      "image/png": "[encoded data removed]",
      "text/plain": [
       "<IPython.core.display.Image object>"
      ]
     },
     "execution_count": 17,
     "metadata": {},
     "output_type": "execute_result"
    }
   ],
   "source": [
    "##Drawing a pictorial representation of our model\n",
    "from tensorflow.keras.utils import plot_model\n",
    "plot_model(model=model, show_shapes=True) #to_file= this param can be used to save the image as a file"
   ]
  },
  {
   "cell_type": "code",
   "execution_count": 18,
   "id": "8a62d3c0",
   "metadata": {},
   "outputs": [
    {
     "data": {
      "text/plain": [
       "<tensorflow.python.keras.callbacks.History at 0x7fefb1b7b3a0>"
      ]
     },
     "execution_count": 18,
     "metadata": {},
     "output_type": "execute_result"
    }
   ],
   "source": [
    "##Train the model\n",
    "model.fit(X_train,y_train, verbose=0, epochs = 100)"
   ]
  },
  {
   "cell_type": "markdown",
   "id": "3bb74e49",
   "metadata": {},
   "source": [
    "## Visualize the model predictions"
   ]
  },
  {
   "cell_type": "code",
   "execution_count": 19,
   "id": "32fd0458",
   "metadata": {},
   "outputs": [
    {
     "data": {
      "text/plain": [
       "array([[ 70.64056 ],\n",
       "       [ 74.67837 ],\n",
       "       [ 78.71616 ],\n",
       "       [ 82.75396 ],\n",
       "       [ 86.79176 ],\n",
       "       [ 90.829575],\n",
       "       [ 94.86738 ],\n",
       "       [ 98.90518 ],\n",
       "       [102.94297 ],\n",
       "       [106.98078 ]], dtype=float32)"
      ]
     },
     "execution_count": 19,
     "metadata": {},
     "output_type": "execute_result"
    }
   ],
   "source": [
    "y_pred = model.predict(X_test)\n",
    "y_pred"
   ]
  },
  {
   "cell_type": "code",
   "execution_count": 20,
   "id": "ccae72a6",
   "metadata": {},
   "outputs": [
    {
     "data": {
      "text/plain": [
       "<tf.Tensor: shape=(10,), dtype=int32, numpy=array([ 70,  74,  78,  82,  86,  90,  94,  98, 102, 106], dtype=int32)>"
      ]
     },
     "execution_count": 20,
     "metadata": {},
     "output_type": "execute_result"
    }
   ],
   "source": [
    "y_test"
   ]
  },
  {
   "cell_type": "code",
   "execution_count": 21,
   "id": "9a02d9bf",
   "metadata": {},
   "outputs": [],
   "source": [
    "#Lets create a plotting function because we are going to resue this feature\n",
    "#multiple times\n",
    "def plot_predictions(train_data=X_train,\n",
    "                    train_labels=y_train,\n",
    "                    test_data=X_test,\n",
    "                    test_labels=y_test,\n",
    "                    predictions=y_pred):\n",
    "    \"\"\"\n",
    "    plots training data, test data and compares predictions to the \n",
    "    ground truth labels\n",
    "    \"\"\"\n",
    "    plt.figure(figsize=(10,7))\n",
    "    \n",
    "    #plot training data in blue\n",
    "    plt.scatter(train_data,train_labels, c=\"b\", label=\"Training data\")\n",
    "    \n",
    "    #plot testing data in green\n",
    "    plt.scatter(test_data,test_labels, c=\"g\", label=\"Testing data\")\n",
    "    \n",
    "    #plot models predictions in red\n",
    "    plt.scatter(test_data,predictions, c=\"r\", label=\"Predictions\")\n",
    "    plt.legend()\n",
    "    "
   ]
  },
  {
   "cell_type": "code",
   "execution_count": 22,
   "id": "9458e5e9",
   "metadata": {},
   "outputs": [
    {
     "data": {
      "image/png": "[encoded data removed]",
      "text/plain": [
       "<Figure size 720x504 with 1 Axes>"
      ]
     },
     "metadata": {
      "needs_background": "light"
     },
     "output_type": "display_data"
    }
   ],
   "source": [
    "plot_predictions()"
   ]
  },
  {
   "cell_type": "markdown",
   "id": "5ce5e38a",
   "metadata": {},
   "source": [
    "## Evaluating our model predictions using Regression Evaluation metrics.\n",
    "### The commmonly used Regression Evaluation Metrics are:\n",
    "* **Mean Absolute Error (MAE)** - We calculate the absolute error (we take the positive value even if negative) between each of our model's prediction, and its corresponding actual value. Then we find the average of the error to get MAE value. **WHEN TO USE:** Great starter metric for any regression problem.\n",
    "* **Mean Square Error (MSE)** - Similar to the MAE but in this method, we square the Average Errors.**WHEN TO USE:** When larger errors are more significant then the smaller errors.\n",
    "* **Huber** Its a combination of MSE and MAE. It is less sensitive to outliers than MSE.\n"
   ]
  },
  {
   "cell_type": "code",
   "execution_count": 23,
   "id": "70df80e1",
   "metadata": {},
   "outputs": [
    {
     "name": "stdout",
     "output_type": "stream",
     "text": [
      "1/1 [==============================] - 0s 66ms/step - loss: 0.8107 - mae: 0.8107\n"
     ]
    },
    {
     "data": {
      "text/plain": [
       "[0.8106697201728821, 0.8106697201728821]"
      ]
     },
     "execution_count": 23,
     "metadata": {},
     "output_type": "execute_result"
    }
   ],
   "source": [
    "## Evaluate the model\n",
    "## It returns the loss value and the metrics value for our models in test mode\n",
    "model.evaluate(X_test,y_test)"
   ]
  },
  {
   "cell_type": "code",
   "execution_count": 24,
   "id": "a65d2c7c",
   "metadata": {},
   "outputs": [
    {
     "data": {
      "text/plain": [
       "<tf.Tensor: shape=(10,), dtype=float32, numpy=\n",
       "array([17.487555 , 14.39298  , 12.113535 , 10.649208 , 10.       ,\n",
       "       10.165915 , 11.146952 , 12.9431095, 15.554377 , 18.980782 ],\n",
       "      dtype=float32)>"
      ]
     },
     "execution_count": 24,
     "metadata": {},
     "output_type": "execute_result"
    }
   ],
   "source": [
    "##Using the Other method to calculate the metrics\n",
    "mae = tf.metrics.mean_absolute_error( \n",
    "    y_true=y_test,\n",
    "    y_pred=y_pred\n",
    ")\n",
    "mae # we do not get a single mae value as above cell because, the y_pred(10,1) and y_test(10,)\n",
    "#have different dimensions or shapes"
   ]
  },
  {
   "cell_type": "code",
   "execution_count": 25,
   "id": "5e45f21b",
   "metadata": {},
   "outputs": [
    {
     "data": {
      "text/plain": [
       "(10, 1)"
      ]
     },
     "execution_count": 25,
     "metadata": {},
     "output_type": "execute_result"
    }
   ],
   "source": [
    "y_pred.shape"
   ]
  },
  {
   "cell_type": "code",
   "execution_count": 26,
   "id": "4d521d4c",
   "metadata": {},
   "outputs": [
    {
     "data": {
      "text/plain": [
       "TensorShape([10])"
      ]
     },
     "execution_count": 26,
     "metadata": {},
     "output_type": "execute_result"
    }
   ],
   "source": [
    "y_test.shape"
   ]
  },
  {
   "cell_type": "code",
   "execution_count": 27,
   "id": "b802b2b4",
   "metadata": {},
   "outputs": [
    {
     "data": {
      "text/plain": [
       "<tf.Tensor: shape=(), dtype=float32, numpy=0.8106697>"
      ]
     },
     "execution_count": 27,
     "metadata": {},
     "output_type": "execute_result"
    }
   ],
   "source": [
    "#We remove the single or 1 dimension in y_pred by using the tf.squeeze method so that both the two tensors will\n",
    "#have the same shape hence give us a single mae value as shown below\n",
    "mae1 = tf.metrics.mean_absolute_error(\n",
    "    y_true=y_test,\n",
    "    y_pred=tf.squeeze(y_pred)\n",
    "\n",
    ")\n",
    "mae1"
   ]
  },
  {
   "cell_type": "code",
   "execution_count": 28,
   "id": "f533b9ee",
   "metadata": {},
   "outputs": [
    {
     "data": {
      "text/plain": [
       "<tf.Tensor: shape=(), dtype=float32, numpy=0.6689749>"
      ]
     },
     "execution_count": 28,
     "metadata": {},
     "output_type": "execute_result"
    }
   ],
   "source": [
    "#Calculate the mean square error\n",
    "mse1 = tf.metrics.mean_squared_error(\n",
    "    y_true=y_test,\n",
    "    y_pred=tf.squeeze(y_pred)\n",
    ")\n",
    "mse1"
   ]
  },
  {
   "cell_type": "code",
   "execution_count": 29,
   "id": "44eb90a2",
   "metadata": {},
   "outputs": [],
   "source": [
    "## Making functions for reusing MSE and MAE\n",
    "def mae(y_true=y_test,y_pred=y_pred):\n",
    "    return tf.metrics.mean_absolute_error(\n",
    "        y_true,tf.squeeze(y_pred)\n",
    "    )\n",
    "\n",
    "def mse(y_true=y_test,y_pred=y_pred):\n",
    "    return tf.metrics.mean_squared_error(\n",
    "        y_true,tf.squeeze(y_pred)\n",
    "    )"
   ]
  },
  {
   "cell_type": "markdown",
   "id": "44ff4060",
   "metadata": {},
   "source": [
    "#### Compairing the results of MSE and MAE using pandas data frame."
   ]
  },
  {
   "cell_type": "code",
   "execution_count": 30,
   "id": "15d059aa",
   "metadata": {},
   "outputs": [
    {
     "data": {
      "text/html": [
       "<div>\n",
       "<style scoped>\n",
       "    .dataframe tbody tr th:only-of-type {\n",
       "        vertical-align: middle;\n",
       "    }\n",
       "\n",
       "    .dataframe tbody tr th {\n",
       "        vertical-align: top;\n",
       "    }\n",
       "\n",
       "    .dataframe thead th {\n",
       "        text-align: right;\n",
       "    }\n",
       "</style>\n",
       "<table border=\"1\" class=\"dataframe\">\n",
       "  <thead>\n",
       "    <tr style=\"text-align: right;\">\n",
       "      <th></th>\n",
       "      <th>model_name</th>\n",
       "      <th>mae_metrics</th>\n",
       "      <th>mse_metrics</th>\n",
       "    </tr>\n",
       "  </thead>\n",
       "  <tbody>\n",
       "    <tr>\n",
       "      <th>0</th>\n",
       "      <td>Model_1</td>\n",
       "      <td>0.81067</td>\n",
       "      <td>0.668975</td>\n",
       "    </tr>\n",
       "  </tbody>\n",
       "</table>\n",
       "</div>"
      ],
      "text/plain": [
       "  model_name  mae_metrics  mse_metrics\n",
       "0    Model_1      0.81067     0.668975"
      ]
     },
     "execution_count": 30,
     "metadata": {},
     "output_type": "execute_result"
    }
   ],
   "source": [
    "import pandas as pd \n",
    "\n",
    "model_metrics_results=[\n",
    "    [\"Model_1\",mae1.numpy(),mse1.numpy()]\n",
    "]\n",
    "\n",
    "column_name= [\"model_name\",\"mae_metrics\",\"mse_metrics\"]\n",
    "\n",
    "table = pd.DataFrame(data=model_metrics_results,columns=column_name)\n",
    "table"
   ]
  },
  {
   "cell_type": "markdown",
   "id": "d5c5d799",
   "metadata": {},
   "source": [
    "## Running Experiments to improve our model.\n",
    "### In most cases we will use the 3 steps below, which include:\n",
    "* Get More Trainning Data.\n",
    "* Make your model larger / Make a complex model.\n",
    "* Trainning your model for a longer period. That is more epochs\n",
    "\n",
    "### The process for tuning and experimenting our models to get accurate data predictions is usually very tiresome, hence the following tools can be used to track our model experiments:\n",
    "* TensorBoard - A component of the TensorFlow Library used to help track the modelling experiments.\n",
    "* Weights and Biases - a tool for tracking all kinds of ML experiments. It plugs straight into tensorboard.\n"
   ]
  },
  {
   "cell_type": "markdown",
   "id": "1057b325",
   "metadata": {},
   "source": [
    "## Saving TensorFlow Model\n",
    "####  saving our model  allows us to use it outside the trainning envirnments such as a web or mobile app environment. Two formats can be used to save the model:\n",
    "* The SavedModel format (Default format)\n",
    "* The HDF5 format\n"
   ]
  },
  {
   "cell_type": "code",
   "execution_count": 31,
   "id": "887b70d9",
   "metadata": {},
   "outputs": [
    {
     "name": "stdout",
     "output_type": "stream",
     "text": [
      "INFO:tensorflow:Assets written to: regression_neuralnet_SavedModel_format/assets\n"
     ]
    }
   ],
   "source": [
    "#Save model using the SavedModel format \n",
    "#preferred if you want to continue using your model in tensorflow environment\n",
    "model.save(\"regression_neuralnet_SavedModel_format\")"
   ]
  },
  {
   "cell_type": "code",
   "execution_count": 32,
   "id": "017d62d5",
   "metadata": {},
   "outputs": [],
   "source": [
    "#Save model using the HDF5 format\n",
    "#Preferred if u want to use your model outside tensorflow e.g in an app\n",
    "model.save(\"regression_neuralnet_HDF5_format.h5\")\n",
    "\n"
   ]
  },
  {
   "cell_type": "markdown",
   "id": "1600303c",
   "metadata": {},
   "source": [
    "## Loading in the saved model"
   ]
  },
  {
   "cell_type": "code",
   "execution_count": 33,
   "id": "e4c775c6",
   "metadata": {},
   "outputs": [
    {
     "name": "stdout",
     "output_type": "stream",
     "text": [
      "Model: \"my_neural_net\"\n",
      "_________________________________________________________________\n",
      "Layer (type)                 Output Shape              Param #   \n",
      "=================================================================\n",
      "hidden_layer_1 (Dense)       (None, 50)                100       \n",
      "_________________________________________________________________\n",
      "output_layer (Dense)         (None, 1)                 51        \n",
      "=================================================================\n",
      "Total params: 151\n",
      "Trainable params: 151\n",
      "Non-trainable params: 0\n",
      "_________________________________________________________________\n"
     ]
    }
   ],
   "source": [
    "#Saved model format\n",
    "load_model_SavedModel_format=tf.keras.models.load_model(\"regression_neuralnet_SavedModel_format\")\n",
    "load_model_SavedModel_format.summary()"
   ]
  },
  {
   "cell_type": "code",
   "execution_count": 34,
   "id": "bb95023d",
   "metadata": {},
   "outputs": [
    {
     "data": {
      "text/plain": [
       "array([[ True],\n",
       "       [ True],\n",
       "       [ True],\n",
       "       [ True],\n",
       "       [ True],\n",
       "       [ True],\n",
       "       [ True],\n",
       "       [ True],\n",
       "       [ True],\n",
       "       [ True]])"
      ]
     },
     "execution_count": 34,
     "metadata": {},
     "output_type": "execute_result"
    }
   ],
   "source": [
    "#Confirming if the prediction given by the loaded model is same a s the \n",
    "#model that is in tensor. They must be same because all the weights and biases of the trained \n",
    "#model are also saved.\n",
    "original_model_predictions = model.predict(X_test)\n",
    "loaded_model_predictions = load_model_SavedModel_format.predict(X_test)\n",
    "\n",
    "original_model_predictions == loaded_model_predictions\n",
    "\n"
   ]
  },
  {
   "cell_type": "code",
   "execution_count": 35,
   "id": "d19e16bb",
   "metadata": {},
   "outputs": [],
   "source": [
    "##loading the model saved in HDF5 file format\n",
    "load_HDF5_saved_model = tf.keras.models.load_model(\"regression_neuralnet_HDF5_format.h5\")\n"
   ]
  },
  {
   "cell_type": "code",
   "execution_count": 36,
   "id": "90250037",
   "metadata": {},
   "outputs": [
    {
     "name": "stdout",
     "output_type": "stream",
     "text": [
      "WARNING:tensorflow:5 out of the last 7 calls to <function Model.make_predict_function.<locals>.predict_function at 0x7fefb1bc81f0> triggered tf.function retracing. Tracing is expensive and the excessive number of tracings could be due to (1) creating @tf.function repeatedly in a loop, (2) passing tensors with different shapes, (3) passing Python objects instead of tensors. For (1), please define your @tf.function outside of the loop. For (2), @tf.function has experimental_relax_shapes=True option that relaxes argument shapes that can avoid unnecessary retracing. For (3), please refer to https://www.tensorflow.org/guide/function#controlling_retracing and https://www.tensorflow.org/api_docs/python/tf/function for  more details.\n"
     ]
    },
    {
     "data": {
      "text/plain": [
       "array([[ True],\n",
       "       [ True],\n",
       "       [ True],\n",
       "       [ True],\n",
       "       [ True],\n",
       "       [ True],\n",
       "       [ True],\n",
       "       [ True],\n",
       "       [ True],\n",
       "       [ True]])"
      ]
     },
     "execution_count": 36,
     "metadata": {},
     "output_type": "execute_result"
    }
   ],
   "source": [
    "##Compairing the predictions of the loaded model with the original model\n",
    "original_model_predictions = model.predict(X_test)\n",
    "loaded_model_predictions = load_HDF5_saved_model.predict(X_test)\n",
    "\n",
    "original_model_predictions == loaded_model_predictions"
   ]
  },
  {
   "cell_type": "markdown",
   "id": "e6a176a3",
   "metadata": {},
   "source": [
    "## Medical cost predictions using larger Dataset from kaggle.\n"
   ]
  },
  {
   "cell_type": "code",
   "execution_count": 37,
   "id": "dd53b5a6",
   "metadata": {},
   "outputs": [],
   "source": [
    "##Import the necessary libraries\n",
    "import tensorflow as tf\n",
    "import pandas as pd \n",
    "import matplotlib.pyplot as plt"
   ]
  },
  {
   "cell_type": "code",
   "execution_count": 38,
   "id": "e9094a7e",
   "metadata": {},
   "outputs": [
    {
     "data": {
      "text/html": [
       "<div>\n",
       "<style scoped>\n",
       "    .dataframe tbody tr th:only-of-type {\n",
       "        vertical-align: middle;\n",
       "    }\n",
       "\n",
       "    .dataframe tbody tr th {\n",
       "        vertical-align: top;\n",
       "    }\n",
       "\n",
       "    .dataframe thead th {\n",
       "        text-align: right;\n",
       "    }\n",
       "</style>\n",
       "<table border=\"1\" class=\"dataframe\">\n",
       "  <thead>\n",
       "    <tr style=\"text-align: right;\">\n",
       "      <th></th>\n",
       "      <th>age</th>\n",
       "      <th>sex</th>\n",
       "      <th>bmi</th>\n",
       "      <th>children</th>\n",
       "      <th>smoker</th>\n",
       "      <th>region</th>\n",
       "      <th>charges</th>\n",
       "    </tr>\n",
       "  </thead>\n",
       "  <tbody>\n",
       "    <tr>\n",
       "      <th>0</th>\n",
       "      <td>19</td>\n",
       "      <td>female</td>\n",
       "      <td>27.900</td>\n",
       "      <td>0</td>\n",
       "      <td>yes</td>\n",
       "      <td>southwest</td>\n",
       "      <td>16884.92400</td>\n",
       "    </tr>\n",
       "    <tr>\n",
       "      <th>1</th>\n",
       "      <td>18</td>\n",
       "      <td>male</td>\n",
       "      <td>33.770</td>\n",
       "      <td>1</td>\n",
       "      <td>no</td>\n",
       "      <td>southeast</td>\n",
       "      <td>1725.55230</td>\n",
       "    </tr>\n",
       "    <tr>\n",
       "      <th>2</th>\n",
       "      <td>28</td>\n",
       "      <td>male</td>\n",
       "      <td>33.000</td>\n",
       "      <td>3</td>\n",
       "      <td>no</td>\n",
       "      <td>southeast</td>\n",
       "      <td>4449.46200</td>\n",
       "    </tr>\n",
       "    <tr>\n",
       "      <th>3</th>\n",
       "      <td>33</td>\n",
       "      <td>male</td>\n",
       "      <td>22.705</td>\n",
       "      <td>0</td>\n",
       "      <td>no</td>\n",
       "      <td>northwest</td>\n",
       "      <td>21984.47061</td>\n",
       "    </tr>\n",
       "    <tr>\n",
       "      <th>4</th>\n",
       "      <td>32</td>\n",
       "      <td>male</td>\n",
       "      <td>28.880</td>\n",
       "      <td>0</td>\n",
       "      <td>no</td>\n",
       "      <td>northwest</td>\n",
       "      <td>3866.85520</td>\n",
       "    </tr>\n",
       "    <tr>\n",
       "      <th>...</th>\n",
       "      <td>...</td>\n",
       "      <td>...</td>\n",
       "      <td>...</td>\n",
       "      <td>...</td>\n",
       "      <td>...</td>\n",
       "      <td>...</td>\n",
       "      <td>...</td>\n",
       "    </tr>\n",
       "    <tr>\n",
       "      <th>1333</th>\n",
       "      <td>50</td>\n",
       "      <td>male</td>\n",
       "      <td>30.970</td>\n",
       "      <td>3</td>\n",
       "      <td>no</td>\n",
       "      <td>northwest</td>\n",
       "      <td>10600.54830</td>\n",
       "    </tr>\n",
       "    <tr>\n",
       "      <th>1334</th>\n",
       "      <td>18</td>\n",
       "      <td>female</td>\n",
       "      <td>31.920</td>\n",
       "      <td>0</td>\n",
       "      <td>no</td>\n",
       "      <td>northeast</td>\n",
       "      <td>2205.98080</td>\n",
       "    </tr>\n",
       "    <tr>\n",
       "      <th>1335</th>\n",
       "      <td>18</td>\n",
       "      <td>female</td>\n",
       "      <td>36.850</td>\n",
       "      <td>0</td>\n",
       "      <td>no</td>\n",
       "      <td>southeast</td>\n",
       "      <td>1629.83350</td>\n",
       "    </tr>\n",
       "    <tr>\n",
       "      <th>1336</th>\n",
       "      <td>21</td>\n",
       "      <td>female</td>\n",
       "      <td>25.800</td>\n",
       "      <td>0</td>\n",
       "      <td>no</td>\n",
       "      <td>southwest</td>\n",
       "      <td>2007.94500</td>\n",
       "    </tr>\n",
       "    <tr>\n",
       "      <th>1337</th>\n",
       "      <td>61</td>\n",
       "      <td>female</td>\n",
       "      <td>29.070</td>\n",
       "      <td>0</td>\n",
       "      <td>yes</td>\n",
       "      <td>northwest</td>\n",
       "      <td>29141.36030</td>\n",
       "    </tr>\n",
       "  </tbody>\n",
       "</table>\n",
       "<p>1338 rows × 7 columns</p>\n",
       "</div>"
      ],
      "text/plain": [
       "      age     sex     bmi  children smoker     region      charges\n",
       "0      19  female  27.900         0    yes  southwest  16884.92400\n",
       "1      18    male  33.770         1     no  southeast   1725.55230\n",
       "2      28    male  33.000         3     no  southeast   4449.46200\n",
       "3      33    male  22.705         0     no  northwest  21984.47061\n",
       "4      32    male  28.880         0     no  northwest   3866.85520\n",
       "...   ...     ...     ...       ...    ...        ...          ...\n",
       "1333   50    male  30.970         3     no  northwest  10600.54830\n",
       "1334   18  female  31.920         0     no  northeast   2205.98080\n",
       "1335   18  female  36.850         0     no  southeast   1629.83350\n",
       "1336   21  female  25.800         0     no  southwest   2007.94500\n",
       "1337   61  female  29.070         0    yes  northwest  29141.36030\n",
       "\n",
       "[1338 rows x 7 columns]"
      ]
     },
     "execution_count": 38,
     "metadata": {},
     "output_type": "execute_result"
    }
   ],
   "source": [
    "# Load the medical cost prediction dataset form github repo\n",
    "insurance_cost = pd.read_csv(\"https://raw.githubusercontent.com/stedy/Machine-Learning-with-R-datasets/master/insurance.csv\")\n",
    "insurance_cost"
   ]
  },
  {
   "cell_type": "markdown",
   "id": "15de7123",
   "metadata": {},
   "source": [
    "### One hot encoding a pandas data frame"
   ]
  },
  {
   "cell_type": "code",
   "execution_count": 39,
   "id": "6d2a1844",
   "metadata": {},
   "outputs": [
    {
     "data": {
      "text/html": [
       "<div>\n",
       "<style scoped>\n",
       "    .dataframe tbody tr th:only-of-type {\n",
       "        vertical-align: middle;\n",
       "    }\n",
       "\n",
       "    .dataframe tbody tr th {\n",
       "        vertical-align: top;\n",
       "    }\n",
       "\n",
       "    .dataframe thead th {\n",
       "        text-align: right;\n",
       "    }\n",
       "</style>\n",
       "<table border=\"1\" class=\"dataframe\">\n",
       "  <thead>\n",
       "    <tr style=\"text-align: right;\">\n",
       "      <th></th>\n",
       "      <th>age</th>\n",
       "      <th>bmi</th>\n",
       "      <th>children</th>\n",
       "      <th>charges</th>\n",
       "      <th>sex_female</th>\n",
       "      <th>sex_male</th>\n",
       "      <th>smoker_no</th>\n",
       "      <th>smoker_yes</th>\n",
       "      <th>region_northeast</th>\n",
       "      <th>region_northwest</th>\n",
       "      <th>region_southeast</th>\n",
       "      <th>region_southwest</th>\n",
       "    </tr>\n",
       "  </thead>\n",
       "  <tbody>\n",
       "    <tr>\n",
       "      <th>0</th>\n",
       "      <td>19</td>\n",
       "      <td>27.900</td>\n",
       "      <td>0</td>\n",
       "      <td>16884.92400</td>\n",
       "      <td>1</td>\n",
       "      <td>0</td>\n",
       "      <td>0</td>\n",
       "      <td>1</td>\n",
       "      <td>0</td>\n",
       "      <td>0</td>\n",
       "      <td>0</td>\n",
       "      <td>1</td>\n",
       "    </tr>\n",
       "    <tr>\n",
       "      <th>1</th>\n",
       "      <td>18</td>\n",
       "      <td>33.770</td>\n",
       "      <td>1</td>\n",
       "      <td>1725.55230</td>\n",
       "      <td>0</td>\n",
       "      <td>1</td>\n",
       "      <td>1</td>\n",
       "      <td>0</td>\n",
       "      <td>0</td>\n",
       "      <td>0</td>\n",
       "      <td>1</td>\n",
       "      <td>0</td>\n",
       "    </tr>\n",
       "    <tr>\n",
       "      <th>2</th>\n",
       "      <td>28</td>\n",
       "      <td>33.000</td>\n",
       "      <td>3</td>\n",
       "      <td>4449.46200</td>\n",
       "      <td>0</td>\n",
       "      <td>1</td>\n",
       "      <td>1</td>\n",
       "      <td>0</td>\n",
       "      <td>0</td>\n",
       "      <td>0</td>\n",
       "      <td>1</td>\n",
       "      <td>0</td>\n",
       "    </tr>\n",
       "    <tr>\n",
       "      <th>3</th>\n",
       "      <td>33</td>\n",
       "      <td>22.705</td>\n",
       "      <td>0</td>\n",
       "      <td>21984.47061</td>\n",
       "      <td>0</td>\n",
       "      <td>1</td>\n",
       "      <td>1</td>\n",
       "      <td>0</td>\n",
       "      <td>0</td>\n",
       "      <td>1</td>\n",
       "      <td>0</td>\n",
       "      <td>0</td>\n",
       "    </tr>\n",
       "    <tr>\n",
       "      <th>4</th>\n",
       "      <td>32</td>\n",
       "      <td>28.880</td>\n",
       "      <td>0</td>\n",
       "      <td>3866.85520</td>\n",
       "      <td>0</td>\n",
       "      <td>1</td>\n",
       "      <td>1</td>\n",
       "      <td>0</td>\n",
       "      <td>0</td>\n",
       "      <td>1</td>\n",
       "      <td>0</td>\n",
       "      <td>0</td>\n",
       "    </tr>\n",
       "  </tbody>\n",
       "</table>\n",
       "</div>"
      ],
      "text/plain": [
       "   age     bmi  children      charges  sex_female  sex_male  smoker_no  \\\n",
       "0   19  27.900         0  16884.92400           1         0          0   \n",
       "1   18  33.770         1   1725.55230           0         1          1   \n",
       "2   28  33.000         3   4449.46200           0         1          1   \n",
       "3   33  22.705         0  21984.47061           0         1          1   \n",
       "4   32  28.880         0   3866.85520           0         1          1   \n",
       "\n",
       "   smoker_yes  region_northeast  region_northwest  region_southeast  \\\n",
       "0           1                 0                 0                 0   \n",
       "1           0                 0                 0                 1   \n",
       "2           0                 0                 0                 1   \n",
       "3           0                 0                 1                 0   \n",
       "4           0                 0                 1                 0   \n",
       "\n",
       "   region_southwest  \n",
       "0                 1  \n",
       "1                 0  \n",
       "2                 0  \n",
       "3                 0  \n",
       "4                 0  "
      ]
     },
     "execution_count": 39,
     "metadata": {},
     "output_type": "execute_result"
    }
   ],
   "source": [
    "insurance_cost_one_hot_encoded = pd.get_dummies(insurance_cost)\n",
    "insurance_cost_one_hot_encoded.head()"
   ]
  },
  {
   "cell_type": "markdown",
   "id": "9733f821",
   "metadata": {},
   "source": [
    "* ### Creating features (X) and labels (y)\n",
    "* ### Creating training and test sets\n",
    "* ### Building the neural Net"
   ]
  },
  {
   "cell_type": "code",
   "execution_count": null,
   "id": "a95762fc",
   "metadata": {},
   "outputs": [],
   "source": []
  },
  {
   "cell_type": "code",
   "execution_count": 40,
   "id": "df7ef225",
   "metadata": {},
   "outputs": [],
   "source": [
    "# Creating features (X) and labels (y)\n",
    "X = insurance_cost_one_hot_encoded.drop(\"charges\", axis=1)\n",
    "y = insurance_cost_one_hot_encoded[\"charges\"]"
   ]
  },
  {
   "cell_type": "code",
   "execution_count": 41,
   "id": "66e7f699",
   "metadata": {},
   "outputs": [
    {
     "data": {
      "text/html": [
       "<div>\n",
       "<style scoped>\n",
       "    .dataframe tbody tr th:only-of-type {\n",
       "        vertical-align: middle;\n",
       "    }\n",
       "\n",
       "    .dataframe tbody tr th {\n",
       "        vertical-align: top;\n",
       "    }\n",
       "\n",
       "    .dataframe thead th {\n",
       "        text-align: right;\n",
       "    }\n",
       "</style>\n",
       "<table border=\"1\" class=\"dataframe\">\n",
       "  <thead>\n",
       "    <tr style=\"text-align: right;\">\n",
       "      <th></th>\n",
       "      <th>age</th>\n",
       "      <th>bmi</th>\n",
       "      <th>children</th>\n",
       "      <th>sex_female</th>\n",
       "      <th>sex_male</th>\n",
       "      <th>smoker_no</th>\n",
       "      <th>smoker_yes</th>\n",
       "      <th>region_northeast</th>\n",
       "      <th>region_northwest</th>\n",
       "      <th>region_southeast</th>\n",
       "      <th>region_southwest</th>\n",
       "    </tr>\n",
       "  </thead>\n",
       "  <tbody>\n",
       "    <tr>\n",
       "      <th>0</th>\n",
       "      <td>19</td>\n",
       "      <td>27.900</td>\n",
       "      <td>0</td>\n",
       "      <td>1</td>\n",
       "      <td>0</td>\n",
       "      <td>0</td>\n",
       "      <td>1</td>\n",
       "      <td>0</td>\n",
       "      <td>0</td>\n",
       "      <td>0</td>\n",
       "      <td>1</td>\n",
       "    </tr>\n",
       "    <tr>\n",
       "      <th>1</th>\n",
       "      <td>18</td>\n",
       "      <td>33.770</td>\n",
       "      <td>1</td>\n",
       "      <td>0</td>\n",
       "      <td>1</td>\n",
       "      <td>1</td>\n",
       "      <td>0</td>\n",
       "      <td>0</td>\n",
       "      <td>0</td>\n",
       "      <td>1</td>\n",
       "      <td>0</td>\n",
       "    </tr>\n",
       "    <tr>\n",
       "      <th>2</th>\n",
       "      <td>28</td>\n",
       "      <td>33.000</td>\n",
       "      <td>3</td>\n",
       "      <td>0</td>\n",
       "      <td>1</td>\n",
       "      <td>1</td>\n",
       "      <td>0</td>\n",
       "      <td>0</td>\n",
       "      <td>0</td>\n",
       "      <td>1</td>\n",
       "      <td>0</td>\n",
       "    </tr>\n",
       "    <tr>\n",
       "      <th>3</th>\n",
       "      <td>33</td>\n",
       "      <td>22.705</td>\n",
       "      <td>0</td>\n",
       "      <td>0</td>\n",
       "      <td>1</td>\n",
       "      <td>1</td>\n",
       "      <td>0</td>\n",
       "      <td>0</td>\n",
       "      <td>1</td>\n",
       "      <td>0</td>\n",
       "      <td>0</td>\n",
       "    </tr>\n",
       "    <tr>\n",
       "      <th>4</th>\n",
       "      <td>32</td>\n",
       "      <td>28.880</td>\n",
       "      <td>0</td>\n",
       "      <td>0</td>\n",
       "      <td>1</td>\n",
       "      <td>1</td>\n",
       "      <td>0</td>\n",
       "      <td>0</td>\n",
       "      <td>1</td>\n",
       "      <td>0</td>\n",
       "      <td>0</td>\n",
       "    </tr>\n",
       "  </tbody>\n",
       "</table>\n",
       "</div>"
      ],
      "text/plain": [
       "   age     bmi  children  sex_female  sex_male  smoker_no  smoker_yes  \\\n",
       "0   19  27.900         0           1         0          0           1   \n",
       "1   18  33.770         1           0         1          1           0   \n",
       "2   28  33.000         3           0         1          1           0   \n",
       "3   33  22.705         0           0         1          1           0   \n",
       "4   32  28.880         0           0         1          1           0   \n",
       "\n",
       "   region_northeast  region_northwest  region_southeast  region_southwest  \n",
       "0                 0                 0                 0                 1  \n",
       "1                 0                 0                 1                 0  \n",
       "2                 0                 0                 1                 0  \n",
       "3                 0                 1                 0                 0  \n",
       "4                 0                 1                 0                 0  "
      ]
     },
     "execution_count": 41,
     "metadata": {},
     "output_type": "execute_result"
    }
   ],
   "source": [
    "#Visualize X\n",
    "X.head()"
   ]
  },
  {
   "cell_type": "code",
   "execution_count": 42,
   "id": "c1f94d76",
   "metadata": {},
   "outputs": [
    {
     "data": {
      "text/plain": [
       "0    16884.92400\n",
       "1     1725.55230\n",
       "2     4449.46200\n",
       "3    21984.47061\n",
       "4     3866.85520\n",
       "Name: charges, dtype: float64"
      ]
     },
     "execution_count": 42,
     "metadata": {},
     "output_type": "execute_result"
    }
   ],
   "source": [
    "# Visualize y\n",
    "y.head()"
   ]
  },
  {
   "cell_type": "code",
   "execution_count": 43,
   "id": "f0f27948",
   "metadata": {},
   "outputs": [
    {
     "data": {
      "text/html": [
       "<div>\n",
       "<style scoped>\n",
       "    .dataframe tbody tr th:only-of-type {\n",
       "        vertical-align: middle;\n",
       "    }\n",
       "\n",
       "    .dataframe tbody tr th {\n",
       "        vertical-align: top;\n",
       "    }\n",
       "\n",
       "    .dataframe thead th {\n",
       "        text-align: right;\n",
       "    }\n",
       "</style>\n",
       "<table border=\"1\" class=\"dataframe\">\n",
       "  <thead>\n",
       "    <tr style=\"text-align: right;\">\n",
       "      <th></th>\n",
       "      <th>age</th>\n",
       "      <th>bmi</th>\n",
       "      <th>children</th>\n",
       "      <th>sex_female</th>\n",
       "      <th>sex_male</th>\n",
       "      <th>smoker_no</th>\n",
       "      <th>smoker_yes</th>\n",
       "      <th>region_northeast</th>\n",
       "      <th>region_northwest</th>\n",
       "      <th>region_southeast</th>\n",
       "      <th>region_southwest</th>\n",
       "    </tr>\n",
       "  </thead>\n",
       "  <tbody>\n",
       "    <tr>\n",
       "      <th>560</th>\n",
       "      <td>46</td>\n",
       "      <td>19.95</td>\n",
       "      <td>2</td>\n",
       "      <td>1</td>\n",
       "      <td>0</td>\n",
       "      <td>1</td>\n",
       "      <td>0</td>\n",
       "      <td>0</td>\n",
       "      <td>1</td>\n",
       "      <td>0</td>\n",
       "      <td>0</td>\n",
       "    </tr>\n",
       "    <tr>\n",
       "      <th>1285</th>\n",
       "      <td>47</td>\n",
       "      <td>24.32</td>\n",
       "      <td>0</td>\n",
       "      <td>1</td>\n",
       "      <td>0</td>\n",
       "      <td>1</td>\n",
       "      <td>0</td>\n",
       "      <td>1</td>\n",
       "      <td>0</td>\n",
       "      <td>0</td>\n",
       "      <td>0</td>\n",
       "    </tr>\n",
       "    <tr>\n",
       "      <th>1142</th>\n",
       "      <td>52</td>\n",
       "      <td>24.86</td>\n",
       "      <td>0</td>\n",
       "      <td>1</td>\n",
       "      <td>0</td>\n",
       "      <td>1</td>\n",
       "      <td>0</td>\n",
       "      <td>0</td>\n",
       "      <td>0</td>\n",
       "      <td>1</td>\n",
       "      <td>0</td>\n",
       "    </tr>\n",
       "    <tr>\n",
       "      <th>969</th>\n",
       "      <td>39</td>\n",
       "      <td>34.32</td>\n",
       "      <td>5</td>\n",
       "      <td>1</td>\n",
       "      <td>0</td>\n",
       "      <td>1</td>\n",
       "      <td>0</td>\n",
       "      <td>0</td>\n",
       "      <td>0</td>\n",
       "      <td>1</td>\n",
       "      <td>0</td>\n",
       "    </tr>\n",
       "    <tr>\n",
       "      <th>486</th>\n",
       "      <td>54</td>\n",
       "      <td>21.47</td>\n",
       "      <td>3</td>\n",
       "      <td>1</td>\n",
       "      <td>0</td>\n",
       "      <td>1</td>\n",
       "      <td>0</td>\n",
       "      <td>0</td>\n",
       "      <td>1</td>\n",
       "      <td>0</td>\n",
       "      <td>0</td>\n",
       "    </tr>\n",
       "  </tbody>\n",
       "</table>\n",
       "</div>"
      ],
      "text/plain": [
       "      age    bmi  children  sex_female  sex_male  smoker_no  smoker_yes  \\\n",
       "560    46  19.95         2           1         0          1           0   \n",
       "1285   47  24.32         0           1         0          1           0   \n",
       "1142   52  24.86         0           1         0          1           0   \n",
       "969    39  34.32         5           1         0          1           0   \n",
       "486    54  21.47         3           1         0          1           0   \n",
       "\n",
       "      region_northeast  region_northwest  region_southeast  region_southwest  \n",
       "560                  0                 1                 0                 0  \n",
       "1285                 1                 0                 0                 0  \n",
       "1142                 0                 0                 1                 0  \n",
       "969                  0                 0                 1                 0  \n",
       "486                  0                 1                 0                 0  "
      ]
     },
     "execution_count": 43,
     "metadata": {},
     "output_type": "execute_result"
    }
   ],
   "source": [
    "#Creating training and test sets\n",
    "from sklearn.model_selection import train_test_split\n",
    "X_train,X_test,y_train,y_test = train_test_split(X,y, test_size=0.2, random_state=42, shuffle=True) #by def shuffle is true\n",
    "X_train.head()\n"
   ]
  },
  {
   "cell_type": "code",
   "execution_count": 44,
   "id": "4b3c5ff7",
   "metadata": {},
   "outputs": [
    {
     "data": {
      "text/plain": [
       "(1338, 1070, 268)"
      ]
     },
     "execution_count": 44,
     "metadata": {},
     "output_type": "execute_result"
    }
   ],
   "source": [
    "#Check the size of the splitted data\n",
    "len(X), len(X_train), len(X_test)"
   ]
  },
  {
   "cell_type": "code",
   "execution_count": 45,
   "id": "aa5bf116",
   "metadata": {},
   "outputs": [
    {
     "name": "stdout",
     "output_type": "stream",
     "text": [
      "Epoch 1/300\n",
      "31/31 [==============================] - 1s 7ms/step - loss: 13291.7015 - mae: 13291.7015 - val_loss: 11586.5703 - val_mae: 11586.5703\n",
      "Epoch 2/300\n",
      "31/31 [==============================] - 0s 3ms/step - loss: 11767.2507 - mae: 11767.2507 - val_loss: 6782.7441 - val_mae: 6782.7441\n",
      "Epoch 3/300\n",
      "31/31 [==============================] - 0s 3ms/step - loss: 7734.1463 - mae: 7734.1463 - val_loss: 6763.5591 - val_mae: 6763.5591\n",
      "Epoch 4/300\n",
      "31/31 [==============================] - 0s 3ms/step - loss: 7434.8640 - mae: 7434.8640 - val_loss: 6663.4707 - val_mae: 6663.4707\n",
      "Epoch 5/300\n",
      "31/31 [==============================] - 0s 2ms/step - loss: 7400.5859 - mae: 7400.5859 - val_loss: 6668.0718 - val_mae: 6668.0718\n",
      "Epoch 6/300\n",
      "31/31 [==============================] - 0s 3ms/step - loss: 7394.0729 - mae: 7394.0729 - val_loss: 6512.1001 - val_mae: 6512.1001\n",
      "Epoch 7/300\n",
      "31/31 [==============================] - 0s 2ms/step - loss: 7240.3216 - mae: 7240.3216 - val_loss: 6370.3740 - val_mae: 6370.3740\n",
      "Epoch 8/300\n",
      "31/31 [==============================] - 0s 3ms/step - loss: 7084.2511 - mae: 7084.2511 - val_loss: 6232.4053 - val_mae: 6232.4053\n",
      "Epoch 9/300\n",
      "31/31 [==============================] - 0s 3ms/step - loss: 7072.9514 - mae: 7072.9514 - val_loss: 6043.8643 - val_mae: 6043.8643\n",
      "Epoch 10/300\n",
      "31/31 [==============================] - 0s 3ms/step - loss: 6883.2845 - mae: 6883.2845 - val_loss: 5953.0933 - val_mae: 5953.0933\n",
      "Epoch 11/300\n",
      "31/31 [==============================] - 0s 3ms/step - loss: 6587.8557 - mae: 6587.8557 - val_loss: 5948.8877 - val_mae: 5948.8877\n",
      "Epoch 12/300\n",
      "31/31 [==============================] - 0s 3ms/step - loss: 6648.8147 - mae: 6648.8147 - val_loss: 5916.7661 - val_mae: 5916.7661\n",
      "Epoch 13/300\n",
      "31/31 [==============================] - 0s 3ms/step - loss: 6879.7957 - mae: 6879.7957 - val_loss: 5885.7554 - val_mae: 5885.7554\n",
      "Epoch 14/300\n",
      "31/31 [==============================] - 0s 3ms/step - loss: 7262.8592 - mae: 7262.8592 - val_loss: 5869.7910 - val_mae: 5869.7910\n",
      "Epoch 15/300\n",
      "31/31 [==============================] - 0s 3ms/step - loss: 6359.0412 - mae: 6359.0412 - val_loss: 5840.6392 - val_mae: 5840.6392\n",
      "Epoch 16/300\n",
      "31/31 [==============================] - 0s 3ms/step - loss: 6140.0286 - mae: 6140.0286 - val_loss: 5944.1943 - val_mae: 5944.1943\n",
      "Epoch 17/300\n",
      "31/31 [==============================] - 0s 2ms/step - loss: 5988.4618 - mae: 5988.4618 - val_loss: 5838.8838 - val_mae: 5838.8838\n",
      "Epoch 18/300\n",
      "31/31 [==============================] - 0s 3ms/step - loss: 6418.4297 - mae: 6418.4297 - val_loss: 5795.7681 - val_mae: 5795.7681\n",
      "Epoch 19/300\n",
      "31/31 [==============================] - 0s 3ms/step - loss: 6699.1287 - mae: 6699.1287 - val_loss: 5790.4692 - val_mae: 5790.4692\n",
      "Epoch 20/300\n",
      "31/31 [==============================] - 0s 3ms/step - loss: 6446.0412 - mae: 6446.0412 - val_loss: 5737.7847 - val_mae: 5737.7847\n",
      "Epoch 21/300\n",
      "31/31 [==============================] - 0s 3ms/step - loss: 6040.4510 - mae: 6040.4510 - val_loss: 5724.8037 - val_mae: 5724.8037\n",
      "Epoch 22/300\n",
      "31/31 [==============================] - 0s 3ms/step - loss: 6362.8210 - mae: 6362.8210 - val_loss: 5693.0874 - val_mae: 5693.0874\n",
      "Epoch 23/300\n",
      "31/31 [==============================] - 0s 3ms/step - loss: 6147.6972 - mae: 6147.6972 - val_loss: 5659.3848 - val_mae: 5659.3848\n",
      "Epoch 24/300\n",
      "31/31 [==============================] - 0s 3ms/step - loss: 6108.5463 - mae: 6108.5463 - val_loss: 5634.3506 - val_mae: 5634.3506\n",
      "Epoch 25/300\n",
      "31/31 [==============================] - 0s 3ms/step - loss: 6347.2995 - mae: 6347.2995 - val_loss: 5593.4604 - val_mae: 5593.4604\n",
      "Epoch 26/300\n",
      "31/31 [==============================] - 0s 3ms/step - loss: 6579.1676 - mae: 6579.1676 - val_loss: 5663.1753 - val_mae: 5663.1753\n",
      "Epoch 27/300\n",
      "31/31 [==============================] - 0s 3ms/step - loss: 6437.3534 - mae: 6437.3534 - val_loss: 5556.1846 - val_mae: 5556.1846\n",
      "Epoch 28/300\n",
      "31/31 [==============================] - 0s 3ms/step - loss: 6134.3300 - mae: 6134.3300 - val_loss: 5477.1816 - val_mae: 5477.1816\n",
      "Epoch 29/300\n",
      "31/31 [==============================] - 0s 3ms/step - loss: 5944.9187 - mae: 5944.9187 - val_loss: 5441.8013 - val_mae: 5441.8013\n",
      "Epoch 30/300\n",
      "31/31 [==============================] - 0s 3ms/step - loss: 5890.0131 - mae: 5890.0131 - val_loss: 5390.1436 - val_mae: 5390.1436\n",
      "Epoch 31/300\n",
      "31/31 [==============================] - 0s 3ms/step - loss: 5802.2885 - mae: 5802.2885 - val_loss: 5380.7358 - val_mae: 5380.7358\n",
      "Epoch 32/300\n",
      "31/31 [==============================] - 0s 3ms/step - loss: 5827.4635 - mae: 5827.4635 - val_loss: 5150.4751 - val_mae: 5150.4751\n",
      "Epoch 33/300\n",
      "31/31 [==============================] - 0s 3ms/step - loss: 5666.0581 - mae: 5666.0581 - val_loss: 4923.2227 - val_mae: 4923.2227\n",
      "Epoch 34/300\n",
      "31/31 [==============================] - 0s 3ms/step - loss: 5066.4559 - mae: 5066.4559 - val_loss: 4660.8750 - val_mae: 4660.8750\n",
      "Epoch 35/300\n",
      "31/31 [==============================] - 0s 3ms/step - loss: 4486.3183 - mae: 4486.3183 - val_loss: 4396.1836 - val_mae: 4396.1836\n",
      "Epoch 36/300\n",
      "31/31 [==============================] - 0s 3ms/step - loss: 4419.2533 - mae: 4419.2533 - val_loss: 4098.9038 - val_mae: 4098.9038\n",
      "Epoch 37/300\n",
      "31/31 [==============================] - 0s 2ms/step - loss: 3989.8122 - mae: 3989.8122 - val_loss: 3883.4741 - val_mae: 3883.4741\n",
      "Epoch 38/300\n",
      "31/31 [==============================] - 0s 3ms/step - loss: 3643.0664 - mae: 3643.0664 - val_loss: 3637.0303 - val_mae: 3637.0303\n",
      "Epoch 39/300\n",
      "31/31 [==============================] - 0s 3ms/step - loss: 3829.2485 - mae: 3829.2485 - val_loss: 3710.9688 - val_mae: 3710.9688\n",
      "Epoch 40/300\n",
      "31/31 [==============================] - 0s 3ms/step - loss: 3986.0914 - mae: 3986.0914 - val_loss: 3592.4136 - val_mae: 3592.4136\n",
      "Epoch 41/300\n",
      "31/31 [==============================] - 0s 3ms/step - loss: 3681.2025 - mae: 3681.2025 - val_loss: 3554.8291 - val_mae: 3554.8291\n",
      "Epoch 42/300\n",
      "31/31 [==============================] - 0s 3ms/step - loss: 3928.5163 - mae: 3928.5163 - val_loss: 3580.6274 - val_mae: 3580.6274\n",
      "Epoch 43/300\n",
      "31/31 [==============================] - 0s 3ms/step - loss: 3288.0232 - mae: 3288.0232 - val_loss: 3462.2500 - val_mae: 3462.2500\n",
      "Epoch 44/300\n",
      "31/31 [==============================] - 0s 2ms/step - loss: 3706.1855 - mae: 3706.1855 - val_loss: 3306.0356 - val_mae: 3306.0356\n",
      "Epoch 45/300\n",
      "31/31 [==============================] - 0s 2ms/step - loss: 3635.1852 - mae: 3635.1852 - val_loss: 3469.3899 - val_mae: 3469.3899\n",
      "Epoch 46/300\n",
      "31/31 [==============================] - 0s 3ms/step - loss: 3434.7719 - mae: 3434.7719 - val_loss: 3185.2942 - val_mae: 3185.2942\n",
      "Epoch 47/300\n",
      "31/31 [==============================] - 0s 2ms/step - loss: 3689.5535 - mae: 3689.5535 - val_loss: 3305.6685 - val_mae: 3305.6685\n",
      "Epoch 48/300\n",
      "31/31 [==============================] - 0s 2ms/step - loss: 3465.4423 - mae: 3465.4423 - val_loss: 3350.1086 - val_mae: 3350.1086\n",
      "Epoch 49/300\n",
      "31/31 [==============================] - 0s 2ms/step - loss: 3850.3244 - mae: 3850.3244 - val_loss: 3159.8577 - val_mae: 3159.8577\n",
      "Epoch 50/300\n",
      "31/31 [==============================] - 0s 2ms/step - loss: 3316.4868 - mae: 3316.4868 - val_loss: 2897.1892 - val_mae: 2897.1892\n",
      "Epoch 51/300\n",
      "31/31 [==============================] - 0s 2ms/step - loss: 3704.9398 - mae: 3704.9398 - val_loss: 3379.5222 - val_mae: 3379.5222\n",
      "Epoch 52/300\n",
      "31/31 [==============================] - 0s 2ms/step - loss: 3696.2018 - mae: 3696.2018 - val_loss: 3089.2126 - val_mae: 3089.2126\n",
      "Epoch 53/300\n",
      "31/31 [==============================] - 0s 2ms/step - loss: 3768.2881 - mae: 3768.2881 - val_loss: 2954.0027 - val_mae: 2954.0027\n",
      "Epoch 54/300\n",
      "31/31 [==============================] - 0s 2ms/step - loss: 3411.6994 - mae: 3411.6994 - val_loss: 2872.6313 - val_mae: 2872.6313\n",
      "Epoch 55/300\n",
      "31/31 [==============================] - 0s 3ms/step - loss: 3451.5139 - mae: 3451.5139 - val_loss: 2810.2024 - val_mae: 2810.2024\n",
      "Epoch 56/300\n",
      "31/31 [==============================] - 0s 2ms/step - loss: 3300.7732 - mae: 3300.7732 - val_loss: 2930.3655 - val_mae: 2930.3655\n",
      "Epoch 57/300\n",
      "31/31 [==============================] - 0s 3ms/step - loss: 3169.8522 - mae: 3169.8522 - val_loss: 2989.5020 - val_mae: 2989.5020\n"
     ]
    },
    {
     "name": "stdout",
     "output_type": "stream",
     "text": [
      "Epoch 58/300\n",
      "31/31 [==============================] - 0s 3ms/step - loss: 2973.1627 - mae: 2973.1627 - val_loss: 2909.0718 - val_mae: 2909.0718\n",
      "Epoch 59/300\n",
      "31/31 [==============================] - 0s 3ms/step - loss: 3485.6290 - mae: 3485.6290 - val_loss: 2748.8657 - val_mae: 2748.8657\n",
      "Epoch 60/300\n",
      "31/31 [==============================] - 0s 2ms/step - loss: 2954.1500 - mae: 2954.1500 - val_loss: 3110.8909 - val_mae: 3110.8909\n",
      "Epoch 61/300\n",
      "31/31 [==============================] - 0s 2ms/step - loss: 3359.3234 - mae: 3359.3234 - val_loss: 2919.1018 - val_mae: 2919.1018\n",
      "Epoch 62/300\n",
      "31/31 [==============================] - 0s 3ms/step - loss: 3149.7059 - mae: 3149.7059 - val_loss: 2848.8071 - val_mae: 2848.8071\n",
      "Epoch 63/300\n",
      "31/31 [==============================] - 0s 3ms/step - loss: 2936.7181 - mae: 2936.7181 - val_loss: 2991.2212 - val_mae: 2991.2212\n",
      "Epoch 64/300\n",
      "31/31 [==============================] - 0s 3ms/step - loss: 3399.9663 - mae: 3399.9663 - val_loss: 2680.0969 - val_mae: 2680.0969\n",
      "Epoch 65/300\n",
      "31/31 [==============================] - 0s 2ms/step - loss: 3085.7562 - mae: 3085.7562 - val_loss: 2654.3318 - val_mae: 2654.3318\n",
      "Epoch 66/300\n",
      "31/31 [==============================] - 0s 2ms/step - loss: 3172.0461 - mae: 3172.0461 - val_loss: 2745.1707 - val_mae: 2745.1707\n",
      "Epoch 67/300\n",
      "31/31 [==============================] - 0s 2ms/step - loss: 3092.3513 - mae: 3092.3513 - val_loss: 2534.0137 - val_mae: 2534.0137\n",
      "Epoch 68/300\n",
      "31/31 [==============================] - 0s 3ms/step - loss: 2970.8624 - mae: 2970.8624 - val_loss: 2702.9482 - val_mae: 2702.9482\n",
      "Epoch 69/300\n",
      "31/31 [==============================] - 0s 3ms/step - loss: 2834.0632 - mae: 2834.0632 - val_loss: 2786.7783 - val_mae: 2786.7783\n",
      "Epoch 70/300\n",
      "31/31 [==============================] - 0s 3ms/step - loss: 2980.2775 - mae: 2980.2775 - val_loss: 2702.5798 - val_mae: 2702.5798\n",
      "Epoch 71/300\n",
      "31/31 [==============================] - 0s 2ms/step - loss: 3117.5177 - mae: 3117.5177 - val_loss: 2629.6692 - val_mae: 2629.6692\n",
      "Epoch 72/300\n",
      "31/31 [==============================] - 0s 2ms/step - loss: 2957.0237 - mae: 2957.0237 - val_loss: 2782.8552 - val_mae: 2782.8552\n",
      "Epoch 73/300\n",
      "31/31 [==============================] - 0s 2ms/step - loss: 2617.4465 - mae: 2617.4465 - val_loss: 2615.0000 - val_mae: 2615.0000\n",
      "Epoch 74/300\n",
      "31/31 [==============================] - 0s 2ms/step - loss: 2917.0956 - mae: 2917.0956 - val_loss: 2645.8857 - val_mae: 2645.8857\n",
      "Epoch 75/300\n",
      "31/31 [==============================] - 0s 2ms/step - loss: 2698.0034 - mae: 2698.0034 - val_loss: 2525.6814 - val_mae: 2525.6814\n",
      "Epoch 76/300\n",
      "31/31 [==============================] - 0s 2ms/step - loss: 3010.6881 - mae: 3010.6881 - val_loss: 2768.9790 - val_mae: 2768.9790\n",
      "Epoch 77/300\n",
      "31/31 [==============================] - 0s 2ms/step - loss: 2939.9645 - mae: 2939.9645 - val_loss: 2761.6382 - val_mae: 2761.6382\n",
      "Epoch 78/300\n",
      "31/31 [==============================] - 0s 2ms/step - loss: 2862.4195 - mae: 2862.4195 - val_loss: 2692.6785 - val_mae: 2692.6785\n",
      "Epoch 79/300\n",
      "31/31 [==============================] - 0s 2ms/step - loss: 3068.5410 - mae: 3068.5410 - val_loss: 2452.7212 - val_mae: 2452.7212\n",
      "Epoch 80/300\n",
      "31/31 [==============================] - 0s 2ms/step - loss: 2687.0272 - mae: 2687.0272 - val_loss: 2664.6179 - val_mae: 2664.6179\n",
      "Epoch 81/300\n",
      "31/31 [==============================] - 0s 2ms/step - loss: 2555.8732 - mae: 2555.8732 - val_loss: 2475.2944 - val_mae: 2475.2944\n",
      "Epoch 82/300\n",
      "31/31 [==============================] - 0s 2ms/step - loss: 2804.6196 - mae: 2804.6196 - val_loss: 2451.0337 - val_mae: 2451.0337\n",
      "Epoch 83/300\n",
      "31/31 [==============================] - 0s 2ms/step - loss: 3030.9267 - mae: 3030.9267 - val_loss: 2392.4954 - val_mae: 2392.4954\n",
      "Epoch 84/300\n",
      "31/31 [==============================] - 0s 2ms/step - loss: 2467.6075 - mae: 2467.6075 - val_loss: 2563.5244 - val_mae: 2563.5244\n",
      "Epoch 85/300\n",
      "31/31 [==============================] - 0s 3ms/step - loss: 2478.6872 - mae: 2478.6872 - val_loss: 2636.6018 - val_mae: 2636.6018\n",
      "Epoch 86/300\n",
      "31/31 [==============================] - 0s 3ms/step - loss: 2881.9603 - mae: 2881.9603 - val_loss: 2598.5881 - val_mae: 2598.5881\n",
      "Epoch 87/300\n",
      "31/31 [==============================] - 0s 3ms/step - loss: 2666.7099 - mae: 2666.7099 - val_loss: 2623.7708 - val_mae: 2623.7708\n",
      "Epoch 88/300\n",
      "31/31 [==============================] - 0s 3ms/step - loss: 2756.5947 - mae: 2756.5947 - val_loss: 2669.7766 - val_mae: 2669.7766\n",
      "Epoch 89/300\n",
      "31/31 [==============================] - 0s 2ms/step - loss: 2650.6847 - mae: 2650.6847 - val_loss: 2496.1687 - val_mae: 2496.1687\n",
      "Epoch 90/300\n",
      "31/31 [==============================] - 0s 3ms/step - loss: 2706.5162 - mae: 2706.5162 - val_loss: 2495.8677 - val_mae: 2495.8677\n",
      "Epoch 91/300\n",
      "31/31 [==============================] - 0s 3ms/step - loss: 2651.3485 - mae: 2651.3485 - val_loss: 2515.8640 - val_mae: 2515.8640\n",
      "Epoch 92/300\n",
      "31/31 [==============================] - 0s 3ms/step - loss: 2466.5783 - mae: 2466.5783 - val_loss: 2469.2161 - val_mae: 2469.2161\n",
      "Epoch 93/300\n",
      "31/31 [==============================] - 0s 3ms/step - loss: 2384.4823 - mae: 2384.4823 - val_loss: 2353.1223 - val_mae: 2353.1223\n",
      "Epoch 94/300\n",
      "31/31 [==============================] - 0s 3ms/step - loss: 2278.4785 - mae: 2278.4785 - val_loss: 2519.8167 - val_mae: 2519.8167\n",
      "Epoch 95/300\n",
      "31/31 [==============================] - 0s 3ms/step - loss: 2631.2096 - mae: 2631.2096 - val_loss: 2624.5046 - val_mae: 2624.5046\n",
      "Epoch 96/300\n",
      "31/31 [==============================] - 0s 3ms/step - loss: 2898.1502 - mae: 2898.1502 - val_loss: 2329.9915 - val_mae: 2329.9915\n",
      "Epoch 97/300\n",
      "31/31 [==============================] - 0s 3ms/step - loss: 2437.6180 - mae: 2437.6180 - val_loss: 2451.7476 - val_mae: 2451.7476\n",
      "Epoch 98/300\n",
      "31/31 [==============================] - 0s 3ms/step - loss: 2467.3256 - mae: 2467.3256 - val_loss: 2540.3098 - val_mae: 2540.3098\n",
      "Epoch 99/300\n",
      "31/31 [==============================] - 0s 3ms/step - loss: 2565.1646 - mae: 2565.1646 - val_loss: 2379.9417 - val_mae: 2379.9417\n",
      "Epoch 100/300\n",
      "31/31 [==============================] - 0s 3ms/step - loss: 2303.2029 - mae: 2303.2029 - val_loss: 2386.2432 - val_mae: 2386.2432\n",
      "Epoch 101/300\n",
      "31/31 [==============================] - 0s 3ms/step - loss: 2300.5105 - mae: 2300.5105 - val_loss: 2345.7151 - val_mae: 2345.7151\n",
      "Epoch 102/300\n",
      "31/31 [==============================] - 0s 3ms/step - loss: 2402.2689 - mae: 2402.2689 - val_loss: 2348.3708 - val_mae: 2348.3708\n",
      "Epoch 103/300\n",
      "31/31 [==============================] - 0s 3ms/step - loss: 2685.5750 - mae: 2685.5750 - val_loss: 2422.8120 - val_mae: 2422.8120\n",
      "Epoch 104/300\n",
      "31/31 [==============================] - 0s 3ms/step - loss: 2423.3695 - mae: 2423.3695 - val_loss: 2310.2336 - val_mae: 2310.2336\n",
      "Epoch 105/300\n",
      "31/31 [==============================] - 0s 3ms/step - loss: 2267.7136 - mae: 2267.7136 - val_loss: 2491.8232 - val_mae: 2491.8232\n",
      "Epoch 106/300\n",
      "31/31 [==============================] - 0s 3ms/step - loss: 2362.3459 - mae: 2362.3459 - val_loss: 2296.7380 - val_mae: 2296.7380\n",
      "Epoch 107/300\n",
      "31/31 [==============================] - 0s 3ms/step - loss: 2503.7738 - mae: 2503.7738 - val_loss: 2358.3853 - val_mae: 2358.3853\n",
      "Epoch 108/300\n",
      "31/31 [==============================] - 0s 3ms/step - loss: 2299.9268 - mae: 2299.9268 - val_loss: 2447.4023 - val_mae: 2447.4023\n",
      "Epoch 109/300\n",
      "31/31 [==============================] - 0s 3ms/step - loss: 2392.5156 - mae: 2392.5156 - val_loss: 2383.8076 - val_mae: 2383.8076\n",
      "Epoch 110/300\n",
      "31/31 [==============================] - 0s 3ms/step - loss: 2249.6972 - mae: 2249.6972 - val_loss: 2430.6624 - val_mae: 2430.6624\n",
      "Epoch 111/300\n",
      "31/31 [==============================] - 0s 3ms/step - loss: 2487.8357 - mae: 2487.8357 - val_loss: 2362.5127 - val_mae: 2362.5127\n",
      "Epoch 112/300\n",
      "31/31 [==============================] - 0s 3ms/step - loss: 2352.2938 - mae: 2352.2938 - val_loss: 2220.5391 - val_mae: 2220.5391\n",
      "Epoch 113/300\n",
      "31/31 [==============================] - 0s 5ms/step - loss: 2553.3982 - mae: 2553.3982 - val_loss: 2358.2236 - val_mae: 2358.2236\n",
      "Epoch 114/300\n",
      "31/31 [==============================] - 0s 5ms/step - loss: 2214.7219 - mae: 2214.7219 - val_loss: 2346.1462 - val_mae: 2346.1462\n"
     ]
    },
    {
     "name": "stdout",
     "output_type": "stream",
     "text": [
      "Epoch 115/300\n",
      "31/31 [==============================] - 0s 4ms/step - loss: 2132.1810 - mae: 2132.1810 - val_loss: 2385.1948 - val_mae: 2385.1948\n",
      "Epoch 116/300\n",
      "31/31 [==============================] - 0s 4ms/step - loss: 2225.6358 - mae: 2225.6358 - val_loss: 2299.3796 - val_mae: 2299.3796\n",
      "Epoch 117/300\n",
      "31/31 [==============================] - 0s 3ms/step - loss: 2303.2912 - mae: 2303.2912 - val_loss: 2366.3540 - val_mae: 2366.3540\n",
      "Epoch 118/300\n",
      "31/31 [==============================] - 0s 3ms/step - loss: 2302.7026 - mae: 2302.7026 - val_loss: 2330.9521 - val_mae: 2330.9521\n",
      "Epoch 119/300\n",
      "31/31 [==============================] - 0s 3ms/step - loss: 2299.2148 - mae: 2299.2148 - val_loss: 2221.1453 - val_mae: 2221.1453\n",
      "Epoch 120/300\n",
      "31/31 [==============================] - 0s 3ms/step - loss: 2078.1763 - mae: 2078.1763 - val_loss: 2303.0710 - val_mae: 2303.0710\n",
      "Epoch 121/300\n",
      "31/31 [==============================] - 0s 3ms/step - loss: 2504.7733 - mae: 2504.7733 - val_loss: 2339.3838 - val_mae: 2339.3838\n",
      "Epoch 122/300\n",
      "31/31 [==============================] - 0s 3ms/step - loss: 2289.2670 - mae: 2289.2670 - val_loss: 2250.5942 - val_mae: 2250.5942\n",
      "Epoch 123/300\n",
      "31/31 [==============================] - 0s 3ms/step - loss: 2241.0790 - mae: 2241.0790 - val_loss: 2287.9243 - val_mae: 2287.9243\n",
      "Epoch 124/300\n",
      "31/31 [==============================] - 0s 3ms/step - loss: 2271.1667 - mae: 2271.1667 - val_loss: 2176.1765 - val_mae: 2176.1765\n",
      "Epoch 125/300\n",
      "31/31 [==============================] - 0s 3ms/step - loss: 2187.1159 - mae: 2187.1159 - val_loss: 2199.6946 - val_mae: 2199.6946\n",
      "Epoch 126/300\n",
      "31/31 [==============================] - 0s 3ms/step - loss: 2231.4544 - mae: 2231.4544 - val_loss: 2147.6189 - val_mae: 2147.6189\n",
      "Epoch 127/300\n",
      "31/31 [==============================] - 0s 3ms/step - loss: 2417.8273 - mae: 2417.8273 - val_loss: 2237.3738 - val_mae: 2237.3738\n",
      "Epoch 128/300\n",
      "31/31 [==============================] - 0s 3ms/step - loss: 2188.2471 - mae: 2188.2471 - val_loss: 2241.2146 - val_mae: 2241.2146\n",
      "Epoch 129/300\n",
      "31/31 [==============================] - 0s 3ms/step - loss: 2167.9814 - mae: 2167.9814 - val_loss: 2169.4995 - val_mae: 2169.4995\n",
      "Epoch 130/300\n",
      "31/31 [==============================] - 0s 3ms/step - loss: 2055.0576 - mae: 2055.0576 - val_loss: 2179.7439 - val_mae: 2179.7439\n",
      "Epoch 131/300\n",
      "31/31 [==============================] - 0s 3ms/step - loss: 2193.1733 - mae: 2193.1733 - val_loss: 2209.4187 - val_mae: 2209.4187\n",
      "Epoch 132/300\n",
      "31/31 [==============================] - 0s 3ms/step - loss: 2331.6079 - mae: 2331.6079 - val_loss: 2382.4600 - val_mae: 2382.4600\n",
      "Epoch 133/300\n",
      "31/31 [==============================] - 0s 3ms/step - loss: 2358.1452 - mae: 2358.1452 - val_loss: 2194.6738 - val_mae: 2194.6738\n",
      "Epoch 134/300\n",
      "31/31 [==============================] - 0s 3ms/step - loss: 2389.4316 - mae: 2389.4316 - val_loss: 2077.2524 - val_mae: 2077.2524\n",
      "Epoch 135/300\n",
      "31/31 [==============================] - 0s 3ms/step - loss: 2477.9571 - mae: 2477.9571 - val_loss: 2185.5046 - val_mae: 2185.5046\n",
      "Epoch 136/300\n",
      "31/31 [==============================] - 0s 3ms/step - loss: 2121.9447 - mae: 2121.9447 - val_loss: 2418.7166 - val_mae: 2418.7166\n",
      "Epoch 137/300\n",
      "31/31 [==============================] - 0s 3ms/step - loss: 2175.8154 - mae: 2175.8154 - val_loss: 2212.9307 - val_mae: 2212.9307\n",
      "Epoch 138/300\n",
      "31/31 [==============================] - 0s 3ms/step - loss: 2388.2527 - mae: 2388.2527 - val_loss: 2168.4868 - val_mae: 2168.4868\n",
      "Epoch 139/300\n",
      "31/31 [==============================] - 0s 3ms/step - loss: 2256.2907 - mae: 2256.2907 - val_loss: 2106.4988 - val_mae: 2106.4988\n",
      "Epoch 140/300\n",
      "31/31 [==============================] - 0s 4ms/step - loss: 2144.3978 - mae: 2144.3978 - val_loss: 2133.1858 - val_mae: 2133.1858\n",
      "Epoch 141/300\n",
      "31/31 [==============================] - 0s 4ms/step - loss: 2169.0207 - mae: 2169.0207 - val_loss: 2312.9402 - val_mae: 2312.9402\n",
      "Epoch 142/300\n",
      "31/31 [==============================] - 0s 3ms/step - loss: 2268.3573 - mae: 2268.3573 - val_loss: 2381.1787 - val_mae: 2381.1787\n",
      "Epoch 143/300\n",
      "31/31 [==============================] - 0s 3ms/step - loss: 2356.4318 - mae: 2356.4318 - val_loss: 2132.9795 - val_mae: 2132.9795\n",
      "Epoch 144/300\n",
      "31/31 [==============================] - 0s 3ms/step - loss: 2092.2063 - mae: 2092.2063 - val_loss: 2173.7659 - val_mae: 2173.7659\n",
      "Epoch 145/300\n",
      "31/31 [==============================] - 0s 3ms/step - loss: 2097.9097 - mae: 2097.9097 - val_loss: 2183.3826 - val_mae: 2183.3826\n",
      "Epoch 146/300\n",
      "31/31 [==============================] - 0s 3ms/step - loss: 2332.6946 - mae: 2332.6946 - val_loss: 2216.3357 - val_mae: 2216.3357\n",
      "Epoch 147/300\n",
      "31/31 [==============================] - 0s 3ms/step - loss: 2349.0410 - mae: 2349.0410 - val_loss: 2279.8840 - val_mae: 2279.8840\n",
      "Epoch 148/300\n",
      "31/31 [==============================] - 0s 3ms/step - loss: 2262.7865 - mae: 2262.7865 - val_loss: 2267.0562 - val_mae: 2267.0562\n",
      "Epoch 149/300\n",
      "31/31 [==============================] - 0s 3ms/step - loss: 2231.0881 - mae: 2231.0881 - val_loss: 2135.4790 - val_mae: 2135.4790\n",
      "Epoch 150/300\n",
      "31/31 [==============================] - 0s 4ms/step - loss: 2315.3560 - mae: 2315.3560 - val_loss: 2205.0798 - val_mae: 2205.0798\n",
      "Epoch 151/300\n",
      "31/31 [==============================] - 0s 3ms/step - loss: 2060.2541 - mae: 2060.2541 - val_loss: 2266.2195 - val_mae: 2266.2195\n",
      "Epoch 152/300\n",
      "31/31 [==============================] - 0s 3ms/step - loss: 2198.3241 - mae: 2198.3241 - val_loss: 2141.5347 - val_mae: 2141.5347\n",
      "Epoch 153/300\n",
      "31/31 [==============================] - 0s 3ms/step - loss: 2042.6946 - mae: 2042.6946 - val_loss: 2294.5298 - val_mae: 2294.5298\n",
      "Epoch 154/300\n",
      "31/31 [==============================] - 0s 4ms/step - loss: 1993.2339 - mae: 1993.2339 - val_loss: 2061.5332 - val_mae: 2061.5332\n",
      "Epoch 155/300\n",
      "31/31 [==============================] - 0s 3ms/step - loss: 2348.1152 - mae: 2348.1152 - val_loss: 2240.6804 - val_mae: 2240.6804\n",
      "Epoch 156/300\n",
      "31/31 [==============================] - 0s 3ms/step - loss: 1931.5946 - mae: 1931.5946 - val_loss: 2134.2156 - val_mae: 2134.2156\n",
      "Epoch 157/300\n",
      "31/31 [==============================] - 0s 3ms/step - loss: 2323.6591 - mae: 2323.6591 - val_loss: 2082.7981 - val_mae: 2082.7979\n",
      "Epoch 158/300\n",
      "31/31 [==============================] - 0s 3ms/step - loss: 2103.8057 - mae: 2103.8057 - val_loss: 2202.2966 - val_mae: 2202.2966\n",
      "Epoch 159/300\n",
      "31/31 [==============================] - 0s 3ms/step - loss: 2134.6405 - mae: 2134.6405 - val_loss: 2470.7134 - val_mae: 2470.7134\n",
      "Epoch 160/300\n",
      "31/31 [==============================] - 0s 3ms/step - loss: 2264.6671 - mae: 2264.6671 - val_loss: 2082.9089 - val_mae: 2082.9089\n",
      "Epoch 161/300\n",
      "31/31 [==============================] - 0s 3ms/step - loss: 2181.5531 - mae: 2181.5531 - val_loss: 2481.5679 - val_mae: 2481.5679\n",
      "Epoch 162/300\n",
      "31/31 [==============================] - 0s 3ms/step - loss: 2282.7656 - mae: 2282.7656 - val_loss: 2038.0326 - val_mae: 2038.0326\n",
      "Epoch 163/300\n",
      "31/31 [==============================] - 0s 3ms/step - loss: 2134.8605 - mae: 2134.8605 - val_loss: 2157.5747 - val_mae: 2157.5747\n",
      "Epoch 164/300\n",
      "31/31 [==============================] - 0s 3ms/step - loss: 2173.9432 - mae: 2173.9432 - val_loss: 2009.4572 - val_mae: 2009.4572\n",
      "Epoch 165/300\n",
      "31/31 [==============================] - 0s 3ms/step - loss: 2106.5234 - mae: 2106.5234 - val_loss: 2279.0015 - val_mae: 2279.0015\n",
      "Epoch 166/300\n",
      "31/31 [==============================] - 0s 3ms/step - loss: 2299.2501 - mae: 2299.2501 - val_loss: 2014.3558 - val_mae: 2014.3558\n",
      "Epoch 167/300\n",
      "31/31 [==============================] - 0s 3ms/step - loss: 1915.2034 - mae: 1915.2034 - val_loss: 2171.7705 - val_mae: 2171.7705\n",
      "Epoch 168/300\n",
      "31/31 [==============================] - 0s 3ms/step - loss: 2056.7109 - mae: 2056.7109 - val_loss: 2033.0939 - val_mae: 2033.0939\n",
      "Epoch 169/300\n",
      "31/31 [==============================] - 0s 3ms/step - loss: 1871.0756 - mae: 1871.0756 - val_loss: 2162.4036 - val_mae: 2162.4036\n",
      "Epoch 170/300\n",
      "31/31 [==============================] - 0s 3ms/step - loss: 2534.8427 - mae: 2534.8427 - val_loss: 2079.4937 - val_mae: 2079.4937\n",
      "Epoch 171/300\n"
     ]
    },
    {
     "name": "stdout",
     "output_type": "stream",
     "text": [
      "31/31 [==============================] - 0s 3ms/step - loss: 2162.0306 - mae: 2162.0306 - val_loss: 2303.6768 - val_mae: 2303.6768\n",
      "Epoch 172/300\n",
      "31/31 [==============================] - 0s 3ms/step - loss: 2446.8864 - mae: 2446.8864 - val_loss: 2061.2605 - val_mae: 2061.2605\n",
      "Epoch 173/300\n",
      "31/31 [==============================] - 0s 3ms/step - loss: 2411.4680 - mae: 2411.4680 - val_loss: 2128.8201 - val_mae: 2128.8201\n",
      "Epoch 174/300\n",
      "31/31 [==============================] - 0s 3ms/step - loss: 2045.8845 - mae: 2045.8845 - val_loss: 2148.3171 - val_mae: 2148.3171\n",
      "Epoch 175/300\n",
      "31/31 [==============================] - 0s 3ms/step - loss: 2077.6305 - mae: 2077.6305 - val_loss: 2214.3699 - val_mae: 2214.3699\n",
      "Epoch 176/300\n",
      "31/31 [==============================] - 0s 3ms/step - loss: 2275.7972 - mae: 2275.7972 - val_loss: 2130.5720 - val_mae: 2130.5720\n",
      "Epoch 177/300\n",
      "31/31 [==============================] - 0s 3ms/step - loss: 2197.9215 - mae: 2197.9215 - val_loss: 2082.1895 - val_mae: 2082.1895\n",
      "Epoch 178/300\n",
      "31/31 [==============================] - 0s 3ms/step - loss: 2394.3476 - mae: 2394.3476 - val_loss: 2136.3391 - val_mae: 2136.3391\n",
      "Epoch 179/300\n",
      "31/31 [==============================] - 0s 3ms/step - loss: 2320.3968 - mae: 2320.3968 - val_loss: 2154.3967 - val_mae: 2154.3967\n",
      "Epoch 180/300\n",
      "31/31 [==============================] - 0s 3ms/step - loss: 2512.6348 - mae: 2512.6348 - val_loss: 1929.4008 - val_mae: 1929.4008\n",
      "Epoch 181/300\n",
      "31/31 [==============================] - 0s 3ms/step - loss: 2045.2874 - mae: 2045.2874 - val_loss: 2140.2390 - val_mae: 2140.2390\n",
      "Epoch 182/300\n",
      "31/31 [==============================] - 0s 3ms/step - loss: 1928.5253 - mae: 1928.5253 - val_loss: 1948.9529 - val_mae: 1948.9529\n",
      "Epoch 183/300\n",
      "31/31 [==============================] - 0s 3ms/step - loss: 2211.7298 - mae: 2211.7298 - val_loss: 1996.1117 - val_mae: 1996.1117\n",
      "Epoch 184/300\n",
      "31/31 [==============================] - 0s 3ms/step - loss: 2332.9425 - mae: 2332.9425 - val_loss: 2079.6833 - val_mae: 2079.6833\n",
      "Epoch 185/300\n",
      "31/31 [==============================] - 0s 3ms/step - loss: 2105.4098 - mae: 2105.4098 - val_loss: 1937.8851 - val_mae: 1937.8851\n",
      "Epoch 186/300\n",
      "31/31 [==============================] - 0s 3ms/step - loss: 2014.2582 - mae: 2014.2582 - val_loss: 2129.7253 - val_mae: 2129.7253\n",
      "Epoch 187/300\n",
      "31/31 [==============================] - 0s 3ms/step - loss: 2150.1167 - mae: 2150.1167 - val_loss: 1952.6497 - val_mae: 1952.6497\n",
      "Epoch 188/300\n",
      "31/31 [==============================] - 0s 3ms/step - loss: 2212.4975 - mae: 2212.4975 - val_loss: 2079.0986 - val_mae: 2079.0986\n",
      "Epoch 189/300\n",
      "31/31 [==============================] - 0s 3ms/step - loss: 2106.9155 - mae: 2106.9155 - val_loss: 2164.9133 - val_mae: 2164.9133\n",
      "Epoch 190/300\n",
      "31/31 [==============================] - 0s 3ms/step - loss: 2064.5512 - mae: 2064.5512 - val_loss: 1994.7864 - val_mae: 1994.7864\n",
      "Epoch 191/300\n",
      "31/31 [==============================] - 0s 3ms/step - loss: 2170.9625 - mae: 2170.9625 - val_loss: 2200.2134 - val_mae: 2200.2134\n",
      "Epoch 192/300\n",
      "31/31 [==============================] - 0s 3ms/step - loss: 2259.6659 - mae: 2259.6659 - val_loss: 1948.7546 - val_mae: 1948.7546\n",
      "Epoch 193/300\n",
      "31/31 [==============================] - 0s 3ms/step - loss: 2166.8390 - mae: 2166.8390 - val_loss: 2111.3374 - val_mae: 2111.3374\n",
      "Epoch 194/300\n",
      "31/31 [==============================] - 0s 3ms/step - loss: 1805.4357 - mae: 1805.4357 - val_loss: 1957.2559 - val_mae: 1957.2559\n",
      "Epoch 195/300\n",
      "31/31 [==============================] - 0s 3ms/step - loss: 1907.8860 - mae: 1907.8860 - val_loss: 2098.9756 - val_mae: 2098.9756\n",
      "Epoch 196/300\n",
      "31/31 [==============================] - 0s 3ms/step - loss: 2176.3864 - mae: 2176.3864 - val_loss: 2063.0703 - val_mae: 2063.0703\n",
      "Epoch 197/300\n",
      "31/31 [==============================] - 0s 3ms/step - loss: 2214.6289 - mae: 2214.6289 - val_loss: 1948.3749 - val_mae: 1948.3749\n",
      "Epoch 198/300\n",
      "31/31 [==============================] - 0s 3ms/step - loss: 2114.0199 - mae: 2114.0199 - val_loss: 2073.5823 - val_mae: 2073.5823\n",
      "Epoch 199/300\n",
      "31/31 [==============================] - 0s 3ms/step - loss: 2063.2495 - mae: 2063.2495 - val_loss: 2182.8362 - val_mae: 2182.8362\n",
      "Epoch 200/300\n",
      "31/31 [==============================] - 0s 3ms/step - loss: 1739.3814 - mae: 1739.3814 - val_loss: 2028.3287 - val_mae: 2028.3287\n",
      "Epoch 201/300\n",
      "31/31 [==============================] - 0s 3ms/step - loss: 2250.0792 - mae: 2250.0792 - val_loss: 2043.4653 - val_mae: 2043.4653\n",
      "Epoch 202/300\n",
      "31/31 [==============================] - 0s 3ms/step - loss: 2249.9349 - mae: 2249.9349 - val_loss: 1932.9637 - val_mae: 1932.9637\n",
      "Epoch 203/300\n",
      "31/31 [==============================] - 0s 3ms/step - loss: 2227.2413 - mae: 2227.2413 - val_loss: 2405.7136 - val_mae: 2405.7136\n",
      "Epoch 204/300\n",
      "31/31 [==============================] - 0s 3ms/step - loss: 2370.0212 - mae: 2370.0212 - val_loss: 1996.7046 - val_mae: 1996.7046\n",
      "Epoch 205/300\n",
      "31/31 [==============================] - 0s 3ms/step - loss: 2176.7941 - mae: 2176.7941 - val_loss: 1959.7887 - val_mae: 1959.7887\n",
      "Epoch 206/300\n",
      "31/31 [==============================] - 0s 3ms/step - loss: 2170.3672 - mae: 2170.3672 - val_loss: 2017.9525 - val_mae: 2017.9525\n",
      "Epoch 207/300\n",
      "31/31 [==============================] - 0s 3ms/step - loss: 2158.9389 - mae: 2158.9389 - val_loss: 2066.6780 - val_mae: 2066.6780\n",
      "Epoch 208/300\n",
      "31/31 [==============================] - 0s 3ms/step - loss: 2236.3431 - mae: 2236.3431 - val_loss: 2188.2439 - val_mae: 2188.2439\n",
      "Epoch 209/300\n",
      "31/31 [==============================] - 0s 3ms/step - loss: 1930.7913 - mae: 1930.7913 - val_loss: 2042.7203 - val_mae: 2042.7203\n",
      "Epoch 210/300\n",
      "31/31 [==============================] - 0s 3ms/step - loss: 2138.1341 - mae: 2138.1341 - val_loss: 2179.9595 - val_mae: 2179.9595\n",
      "Epoch 211/300\n",
      "31/31 [==============================] - 0s 3ms/step - loss: 2163.2908 - mae: 2163.2908 - val_loss: 1979.9084 - val_mae: 1979.9084\n",
      "Epoch 212/300\n",
      "31/31 [==============================] - 0s 3ms/step - loss: 2080.4332 - mae: 2080.4332 - val_loss: 1992.5446 - val_mae: 1992.5446\n",
      "Epoch 213/300\n",
      "31/31 [==============================] - 0s 3ms/step - loss: 1978.6458 - mae: 1978.6458 - val_loss: 1904.7408 - val_mae: 1904.7408\n",
      "Epoch 214/300\n",
      "31/31 [==============================] - 0s 3ms/step - loss: 2119.5346 - mae: 2119.5346 - val_loss: 1928.8894 - val_mae: 1928.8894\n",
      "Epoch 215/300\n",
      "31/31 [==============================] - 0s 3ms/step - loss: 1877.6325 - mae: 1877.6325 - val_loss: 2375.3037 - val_mae: 2375.3037\n",
      "Epoch 216/300\n",
      "31/31 [==============================] - 0s 3ms/step - loss: 2524.5863 - mae: 2524.5863 - val_loss: 2084.4968 - val_mae: 2084.4968\n",
      "Epoch 217/300\n",
      "31/31 [==============================] - 0s 3ms/step - loss: 2067.3818 - mae: 2067.3818 - val_loss: 1983.2639 - val_mae: 1983.2639\n",
      "Epoch 218/300\n",
      "31/31 [==============================] - 0s 3ms/step - loss: 2048.0919 - mae: 2048.0919 - val_loss: 2235.1638 - val_mae: 2235.1638\n",
      "Epoch 219/300\n",
      "31/31 [==============================] - 0s 3ms/step - loss: 2187.1655 - mae: 2187.1655 - val_loss: 1901.3242 - val_mae: 1901.3242\n",
      "Epoch 220/300\n",
      "31/31 [==============================] - 0s 3ms/step - loss: 2100.2030 - mae: 2100.2030 - val_loss: 1905.4106 - val_mae: 1905.4106\n",
      "Epoch 221/300\n",
      "31/31 [==============================] - 0s 3ms/step - loss: 2068.5269 - mae: 2068.5269 - val_loss: 1901.3578 - val_mae: 1901.3578\n",
      "Epoch 222/300\n",
      "31/31 [==============================] - 0s 3ms/step - loss: 1936.4276 - mae: 1936.4276 - val_loss: 2040.1305 - val_mae: 2040.1307\n",
      "Epoch 223/300\n",
      "31/31 [==============================] - 0s 3ms/step - loss: 1849.6964 - mae: 1849.6964 - val_loss: 1914.0780 - val_mae: 1914.0780\n",
      "Epoch 224/300\n",
      "31/31 [==============================] - 0s 3ms/step - loss: 1972.6871 - mae: 1972.6871 - val_loss: 2032.5188 - val_mae: 2032.5188\n",
      "Epoch 225/300\n",
      "31/31 [==============================] - 0s 3ms/step - loss: 2381.5106 - mae: 2381.5106 - val_loss: 1962.1526 - val_mae: 1962.1526\n",
      "Epoch 226/300\n",
      "31/31 [==============================] - 0s 3ms/step - loss: 2300.8321 - mae: 2300.8321 - val_loss: 2145.7197 - val_mae: 2145.7197\n",
      "Epoch 227/300\n"
     ]
    },
    {
     "name": "stdout",
     "output_type": "stream",
     "text": [
      "31/31 [==============================] - 0s 3ms/step - loss: 2198.5688 - mae: 2198.5688 - val_loss: 2486.7610 - val_mae: 2486.7610\n",
      "Epoch 228/300\n",
      "31/31 [==============================] - 0s 3ms/step - loss: 2914.1445 - mae: 2914.1445 - val_loss: 2488.6084 - val_mae: 2488.6084\n",
      "Epoch 229/300\n",
      "31/31 [==============================] - 0s 3ms/step - loss: 2114.5306 - mae: 2114.5306 - val_loss: 2161.7898 - val_mae: 2161.7898\n",
      "Epoch 230/300\n",
      "31/31 [==============================] - 0s 3ms/step - loss: 1940.4724 - mae: 1940.4724 - val_loss: 2004.0758 - val_mae: 2004.0758\n",
      "Epoch 231/300\n",
      "31/31 [==============================] - 0s 3ms/step - loss: 1867.1279 - mae: 1867.1279 - val_loss: 1978.2651 - val_mae: 1978.2651\n",
      "Epoch 232/300\n",
      "31/31 [==============================] - 0s 3ms/step - loss: 2116.2815 - mae: 2116.2815 - val_loss: 1867.2427 - val_mae: 1867.2427\n",
      "Epoch 233/300\n",
      "31/31 [==============================] - 0s 3ms/step - loss: 2051.5068 - mae: 2051.5068 - val_loss: 1989.3853 - val_mae: 1989.3853\n",
      "Epoch 234/300\n",
      "31/31 [==============================] - 0s 3ms/step - loss: 2092.1863 - mae: 2092.1863 - val_loss: 2122.3127 - val_mae: 2122.3127\n",
      "Epoch 235/300\n",
      "31/31 [==============================] - 0s 3ms/step - loss: 2176.1238 - mae: 2176.1238 - val_loss: 2108.3188 - val_mae: 2108.3188\n",
      "Epoch 236/300\n",
      "31/31 [==============================] - 0s 3ms/step - loss: 1875.0122 - mae: 1875.0122 - val_loss: 1968.2723 - val_mae: 1968.2723\n",
      "Epoch 237/300\n",
      "31/31 [==============================] - 0s 3ms/step - loss: 1765.7649 - mae: 1765.7649 - val_loss: 1892.6881 - val_mae: 1892.6881\n",
      "Epoch 238/300\n",
      "31/31 [==============================] - 0s 3ms/step - loss: 1809.4817 - mae: 1809.4817 - val_loss: 2204.2258 - val_mae: 2204.2258\n",
      "Epoch 239/300\n",
      "31/31 [==============================] - 0s 3ms/step - loss: 1978.0151 - mae: 1978.0151 - val_loss: 1938.3728 - val_mae: 1938.3728\n",
      "Epoch 240/300\n",
      "31/31 [==============================] - 0s 3ms/step - loss: 2143.6044 - mae: 2143.6044 - val_loss: 1863.7081 - val_mae: 1863.7081\n",
      "Epoch 241/300\n",
      "31/31 [==============================] - 0s 3ms/step - loss: 1705.5652 - mae: 1705.5652 - val_loss: 2247.8918 - val_mae: 2247.8918\n",
      "Epoch 242/300\n",
      "31/31 [==============================] - 0s 3ms/step - loss: 2228.6551 - mae: 2228.6551 - val_loss: 1936.4064 - val_mae: 1936.4064\n",
      "Epoch 243/300\n",
      "31/31 [==============================] - 0s 3ms/step - loss: 1871.7991 - mae: 1871.7991 - val_loss: 1986.4908 - val_mae: 1986.4908\n",
      "Epoch 244/300\n",
      "31/31 [==============================] - 0s 3ms/step - loss: 2177.8554 - mae: 2177.8554 - val_loss: 2036.5344 - val_mae: 2036.5344\n",
      "Epoch 245/300\n",
      "31/31 [==============================] - 0s 3ms/step - loss: 2047.8394 - mae: 2047.8394 - val_loss: 1863.4635 - val_mae: 1863.4635\n",
      "Epoch 246/300\n",
      "31/31 [==============================] - 0s 3ms/step - loss: 1913.1942 - mae: 1913.1942 - val_loss: 2717.9131 - val_mae: 2717.9131\n",
      "Epoch 247/300\n",
      "31/31 [==============================] - 0s 3ms/step - loss: 3150.2774 - mae: 3150.2774 - val_loss: 2118.1221 - val_mae: 2118.1221\n",
      "Epoch 248/300\n",
      "31/31 [==============================] - 0s 3ms/step - loss: 2007.2386 - mae: 2007.2386 - val_loss: 2034.5676 - val_mae: 2034.5676\n",
      "Epoch 249/300\n",
      "31/31 [==============================] - 0s 3ms/step - loss: 2092.3690 - mae: 2092.3690 - val_loss: 2199.6829 - val_mae: 2199.6829\n",
      "Epoch 250/300\n",
      "31/31 [==============================] - 0s 3ms/step - loss: 2232.6032 - mae: 2232.6032 - val_loss: 1946.0492 - val_mae: 1946.0491\n",
      "Epoch 251/300\n",
      "31/31 [==============================] - 0s 3ms/step - loss: 2125.0450 - mae: 2125.0450 - val_loss: 1886.0677 - val_mae: 1886.0677\n",
      "Epoch 252/300\n",
      "31/31 [==============================] - 0s 3ms/step - loss: 1892.5827 - mae: 1892.5827 - val_loss: 1918.3279 - val_mae: 1918.3279\n",
      "Epoch 253/300\n",
      "31/31 [==============================] - 0s 3ms/step - loss: 1909.7778 - mae: 1909.7778 - val_loss: 2301.0771 - val_mae: 2301.0771\n",
      "Epoch 254/300\n",
      "31/31 [==============================] - 0s 3ms/step - loss: 2462.4402 - mae: 2462.4402 - val_loss: 1997.3995 - val_mae: 1997.3995\n",
      "Epoch 255/300\n",
      "31/31 [==============================] - 0s 3ms/step - loss: 1823.9515 - mae: 1823.9515 - val_loss: 1990.9023 - val_mae: 1990.9023\n",
      "Epoch 256/300\n",
      "31/31 [==============================] - 0s 3ms/step - loss: 2048.3042 - mae: 2048.3042 - val_loss: 1932.8057 - val_mae: 1932.8057\n",
      "Epoch 257/300\n",
      "31/31 [==============================] - 0s 3ms/step - loss: 2029.8527 - mae: 2029.8527 - val_loss: 2142.9626 - val_mae: 2142.9626\n",
      "Epoch 258/300\n",
      "31/31 [==============================] - 0s 3ms/step - loss: 1966.3814 - mae: 1966.3814 - val_loss: 2017.6909 - val_mae: 2017.6909\n",
      "Epoch 259/300\n",
      "31/31 [==============================] - 0s 3ms/step - loss: 2242.9592 - mae: 2242.9592 - val_loss: 1907.3662 - val_mae: 1907.3662\n",
      "Epoch 260/300\n",
      "31/31 [==============================] - 0s 3ms/step - loss: 1836.3873 - mae: 1836.3873 - val_loss: 1933.2844 - val_mae: 1933.2844\n",
      "Epoch 261/300\n",
      "31/31 [==============================] - 0s 3ms/step - loss: 2112.1877 - mae: 2112.1877 - val_loss: 1868.9064 - val_mae: 1868.9064\n",
      "Epoch 262/300\n",
      "31/31 [==============================] - 0s 3ms/step - loss: 2169.5327 - mae: 2169.5327 - val_loss: 1860.9828 - val_mae: 1860.9828\n",
      "Epoch 263/300\n",
      "31/31 [==============================] - 0s 3ms/step - loss: 1805.5526 - mae: 1805.5526 - val_loss: 1905.2991 - val_mae: 1905.2991\n",
      "Epoch 264/300\n",
      "31/31 [==============================] - 0s 3ms/step - loss: 2060.3488 - mae: 2060.3488 - val_loss: 1881.5428 - val_mae: 1881.5428\n",
      "Epoch 265/300\n",
      "31/31 [==============================] - 0s 3ms/step - loss: 1793.5116 - mae: 1793.5116 - val_loss: 2021.8041 - val_mae: 2021.8041\n",
      "Epoch 266/300\n",
      "31/31 [==============================] - 0s 3ms/step - loss: 2105.6047 - mae: 2105.6047 - val_loss: 2012.1176 - val_mae: 2012.1176\n",
      "Epoch 267/300\n",
      "31/31 [==============================] - 0s 3ms/step - loss: 2040.5020 - mae: 2040.5020 - val_loss: 1912.6184 - val_mae: 1912.6184\n",
      "Epoch 268/300\n",
      "31/31 [==============================] - 0s 3ms/step - loss: 2064.6283 - mae: 2064.6283 - val_loss: 1843.1337 - val_mae: 1843.1337\n",
      "Epoch 269/300\n",
      "31/31 [==============================] - 0s 3ms/step - loss: 1797.2702 - mae: 1797.2702 - val_loss: 2010.2819 - val_mae: 2010.2819\n",
      "Epoch 270/300\n",
      "31/31 [==============================] - 0s 3ms/step - loss: 1876.9042 - mae: 1876.9042 - val_loss: 1930.7683 - val_mae: 1930.7683\n",
      "Epoch 271/300\n",
      "31/31 [==============================] - 0s 3ms/step - loss: 1904.6469 - mae: 1904.6469 - val_loss: 2461.0146 - val_mae: 2461.0146\n",
      "Epoch 272/300\n",
      "31/31 [==============================] - 0s 3ms/step - loss: 1796.1951 - mae: 1796.1951 - val_loss: 2178.6016 - val_mae: 2178.6016\n",
      "Epoch 273/300\n",
      "31/31 [==============================] - 0s 3ms/step - loss: 2026.7252 - mae: 2026.7252 - val_loss: 1884.3639 - val_mae: 1884.3639\n",
      "Epoch 274/300\n",
      "31/31 [==============================] - 0s 3ms/step - loss: 1782.5899 - mae: 1782.5899 - val_loss: 1824.3020 - val_mae: 1824.3020\n",
      "Epoch 275/300\n",
      "31/31 [==============================] - 0s 3ms/step - loss: 1881.3486 - mae: 1881.3486 - val_loss: 1877.8091 - val_mae: 1877.8091\n",
      "Epoch 276/300\n",
      "31/31 [==============================] - 0s 3ms/step - loss: 1823.5273 - mae: 1823.5273 - val_loss: 2101.8350 - val_mae: 2101.8350\n",
      "Epoch 277/300\n",
      "31/31 [==============================] - 0s 3ms/step - loss: 2847.4111 - mae: 2847.4111 - val_loss: 2598.0310 - val_mae: 2598.0310\n",
      "Epoch 278/300\n",
      "31/31 [==============================] - 0s 3ms/step - loss: 2280.1401 - mae: 2280.1401 - val_loss: 1843.4712 - val_mae: 1843.4712\n",
      "Epoch 279/300\n",
      "31/31 [==============================] - 0s 4ms/step - loss: 1588.8983 - mae: 1588.8983 - val_loss: 2013.7725 - val_mae: 2013.7725\n",
      "Epoch 280/300\n",
      "31/31 [==============================] - 0s 4ms/step - loss: 1947.2086 - mae: 1947.2086 - val_loss: 1916.9167 - val_mae: 1916.9167\n",
      "Epoch 281/300\n",
      "31/31 [==============================] - 0s 4ms/step - loss: 1867.4742 - mae: 1867.4742 - val_loss: 2154.8406 - val_mae: 2154.8406\n",
      "Epoch 282/300\n",
      "31/31 [==============================] - 0s 4ms/step - loss: 2134.1878 - mae: 2134.1878 - val_loss: 1857.7566 - val_mae: 1857.7566\n",
      "Epoch 283/300\n"
     ]
    },
    {
     "name": "stdout",
     "output_type": "stream",
     "text": [
      "31/31 [==============================] - 0s 4ms/step - loss: 1751.1881 - mae: 1751.1881 - val_loss: 1974.2358 - val_mae: 1974.2358\n",
      "Epoch 284/300\n",
      "31/31 [==============================] - 0s 4ms/step - loss: 2432.0397 - mae: 2432.0397 - val_loss: 1917.6577 - val_mae: 1917.6577\n",
      "Epoch 285/300\n",
      "31/31 [==============================] - 0s 4ms/step - loss: 1806.5115 - mae: 1806.5115 - val_loss: 2154.9082 - val_mae: 2154.9082\n",
      "Epoch 286/300\n",
      "31/31 [==============================] - 0s 4ms/step - loss: 1936.0155 - mae: 1936.0155 - val_loss: 2109.4548 - val_mae: 2109.4548\n",
      "Epoch 287/300\n",
      "31/31 [==============================] - 0s 4ms/step - loss: 2291.3002 - mae: 2291.3002 - val_loss: 1814.3403 - val_mae: 1814.3403\n",
      "Epoch 288/300\n",
      "31/31 [==============================] - 0s 4ms/step - loss: 1721.6514 - mae: 1721.6514 - val_loss: 1944.8788 - val_mae: 1944.8788\n",
      "Epoch 289/300\n",
      "31/31 [==============================] - 0s 4ms/step - loss: 2251.3247 - mae: 2251.3247 - val_loss: 2048.9475 - val_mae: 2048.9475\n",
      "Epoch 290/300\n",
      "31/31 [==============================] - 0s 4ms/step - loss: 2134.9904 - mae: 2134.9904 - val_loss: 1861.7322 - val_mae: 1861.7322\n",
      "Epoch 291/300\n",
      "31/31 [==============================] - 0s 4ms/step - loss: 1861.7626 - mae: 1861.7626 - val_loss: 1880.2007 - val_mae: 1880.2007\n",
      "Epoch 292/300\n",
      "31/31 [==============================] - 0s 4ms/step - loss: 2053.4266 - mae: 2053.4266 - val_loss: 2090.9980 - val_mae: 2090.9980\n",
      "Epoch 293/300\n",
      "31/31 [==============================] - 0s 4ms/step - loss: 2152.2879 - mae: 2152.2879 - val_loss: 1826.5052 - val_mae: 1826.5052\n",
      "Epoch 294/300\n",
      "31/31 [==============================] - 0s 4ms/step - loss: 1931.3303 - mae: 1931.3303 - val_loss: 1955.0431 - val_mae: 1955.0431\n",
      "Epoch 295/300\n",
      "31/31 [==============================] - 0s 4ms/step - loss: 2273.1744 - mae: 2273.1744 - val_loss: 1869.3153 - val_mae: 1869.3153\n",
      "Epoch 296/300\n",
      "31/31 [==============================] - 0s 4ms/step - loss: 2128.3365 - mae: 2128.3365 - val_loss: 1814.2301 - val_mae: 1814.2301\n",
      "Epoch 297/300\n",
      "31/31 [==============================] - 0s 4ms/step - loss: 1904.2659 - mae: 1904.2659 - val_loss: 1946.0892 - val_mae: 1946.0892\n",
      "Epoch 298/300\n",
      "31/31 [==============================] - 0s 4ms/step - loss: 1939.5631 - mae: 1939.5631 - val_loss: 1898.9778 - val_mae: 1898.9778\n",
      "Epoch 299/300\n",
      "31/31 [==============================] - 0s 4ms/step - loss: 1867.3625 - mae: 1867.3625 - val_loss: 1876.8550 - val_mae: 1876.8550\n",
      "Epoch 300/300\n",
      "31/31 [==============================] - 0s 4ms/step - loss: 1986.6876 - mae: 1986.6876 - val_loss: 1810.7506 - val_mae: 1810.7506\n"
     ]
    }
   ],
   "source": [
    "tf.random.set_seed(42) #setting this global seed ensures pour results remain constant a long as we\n",
    "#maintain the different hyperparameters of our model constant too.\n",
    "\n",
    "# Creating the neural net\n",
    "insurance_model = tf.keras.models.Sequential([\n",
    "     tf.keras.layers.Dense(8, activation=\"relu\"),\n",
    "     tf.keras.layers.Dense(16, activation=\"relu\"),\n",
    "     tf.keras.layers.Dense(32, activation=\"relu\"),\n",
    "     tf.keras.layers.Dense(64, activation=\"relu\"),\n",
    "     tf.keras.layers.Dense(128,activation=\"relu\"),\n",
    "     tf.keras.layers.Dense(128,activation=\"relu\"),\n",
    "     tf.keras.layers.Dense(256,activation=\"relu\"),\n",
    "     tf.keras.layers.Dense(1)\n",
    "])\n",
    "\n",
    "#compile the model\n",
    "insurance_model.compile(\n",
    "loss = tf.keras.losses.mae,\n",
    "optimizer = tf.keras.optimizers.Adam(),\n",
    "metrics=[\"mae\"]\n",
    ")\n",
    "\n",
    "history_value=insurance_model.fit(X_train,y_train, epochs = 300, validation_split=0.1)"
   ]
  },
  {
   "cell_type": "code",
   "execution_count": 46,
   "id": "e6044c07",
   "metadata": {},
   "outputs": [
    {
     "name": "stdout",
     "output_type": "stream",
     "text": [
      "9/9 [==============================] - 0s 2ms/step - loss: 1644.6401 - mae: 1644.6401\n"
     ]
    },
    {
     "data": {
      "text/plain": [
       "[1644.64013671875, 1644.64013671875]"
      ]
     },
     "execution_count": 46,
     "metadata": {},
     "output_type": "execute_result"
    }
   ],
   "source": [
    "# Check the rsults of the insurance model on the test data\n",
    "insurance_model.evaluate(X_test, y_test)"
   ]
  },
  {
   "cell_type": "markdown",
   "id": "739e224f",
   "metadata": {},
   "source": [
    "### Plot history also known as a loss curve or a training curve."
   ]
  },
  {
   "cell_type": "code",
   "execution_count": 47,
   "id": "5f8a48c6",
   "metadata": {},
   "outputs": [
    {
     "data": {
      "text/plain": [
       "Text(0.5, 0, 'epochs')"
      ]
     },
     "execution_count": 47,
     "metadata": {},
     "output_type": "execute_result"
    },
    {
     "data": {
      "image/png": "[encoded data removed]",
      "text/plain": [
       "<Figure size 432x288 with 1 Axes>"
      ]
     },
     "metadata": {
      "needs_background": "light"
     },
     "output_type": "display_data"
    }
   ],
   "source": [
    "pd.DataFrame(history_value.history).plot()\n",
    "plt.ylabel(\"loss\")\n",
    "plt.xlabel(\"epochs\")\n"
   ]
  },
  {
   "cell_type": "markdown",
   "id": "b294197c",
   "metadata": {},
   "source": [
    "#### EarlyStopping Callback - It is a tensorflow component you can add to your model to stop trainning once it has stopped improving a certain metrics"
   ]
  },
  {
   "cell_type": "markdown",
   "id": "e44880d9",
   "metadata": {},
   "source": [
    "## Data Preprocessing using - Normalization and Standardization"
   ]
  },
  {
   "cell_type": "markdown",
   "id": "c12dbf17",
   "metadata": {},
   "source": [
    "### check the current scale of our dataset"
   ]
  },
  {
   "cell_type": "code",
   "execution_count": 48,
   "id": "8e04dcff",
   "metadata": {},
   "outputs": [
    {
     "data": {
      "text/html": [
       "<div>\n",
       "<style scoped>\n",
       "    .dataframe tbody tr th:only-of-type {\n",
       "        vertical-align: middle;\n",
       "    }\n",
       "\n",
       "    .dataframe tbody tr th {\n",
       "        vertical-align: top;\n",
       "    }\n",
       "\n",
       "    .dataframe thead th {\n",
       "        text-align: right;\n",
       "    }\n",
       "</style>\n",
       "<table border=\"1\" class=\"dataframe\">\n",
       "  <thead>\n",
       "    <tr style=\"text-align: right;\">\n",
       "      <th></th>\n",
       "      <th>age</th>\n",
       "      <th>bmi</th>\n",
       "      <th>children</th>\n",
       "      <th>sex_female</th>\n",
       "      <th>sex_male</th>\n",
       "      <th>smoker_no</th>\n",
       "      <th>smoker_yes</th>\n",
       "      <th>region_northeast</th>\n",
       "      <th>region_northwest</th>\n",
       "      <th>region_southeast</th>\n",
       "      <th>region_southwest</th>\n",
       "    </tr>\n",
       "  </thead>\n",
       "  <tbody>\n",
       "    <tr>\n",
       "      <th>0</th>\n",
       "      <td>19</td>\n",
       "      <td>27.900</td>\n",
       "      <td>0</td>\n",
       "      <td>1</td>\n",
       "      <td>0</td>\n",
       "      <td>0</td>\n",
       "      <td>1</td>\n",
       "      <td>0</td>\n",
       "      <td>0</td>\n",
       "      <td>0</td>\n",
       "      <td>1</td>\n",
       "    </tr>\n",
       "    <tr>\n",
       "      <th>1</th>\n",
       "      <td>18</td>\n",
       "      <td>33.770</td>\n",
       "      <td>1</td>\n",
       "      <td>0</td>\n",
       "      <td>1</td>\n",
       "      <td>1</td>\n",
       "      <td>0</td>\n",
       "      <td>0</td>\n",
       "      <td>0</td>\n",
       "      <td>1</td>\n",
       "      <td>0</td>\n",
       "    </tr>\n",
       "    <tr>\n",
       "      <th>2</th>\n",
       "      <td>28</td>\n",
       "      <td>33.000</td>\n",
       "      <td>3</td>\n",
       "      <td>0</td>\n",
       "      <td>1</td>\n",
       "      <td>1</td>\n",
       "      <td>0</td>\n",
       "      <td>0</td>\n",
       "      <td>0</td>\n",
       "      <td>1</td>\n",
       "      <td>0</td>\n",
       "    </tr>\n",
       "    <tr>\n",
       "      <th>3</th>\n",
       "      <td>33</td>\n",
       "      <td>22.705</td>\n",
       "      <td>0</td>\n",
       "      <td>0</td>\n",
       "      <td>1</td>\n",
       "      <td>1</td>\n",
       "      <td>0</td>\n",
       "      <td>0</td>\n",
       "      <td>1</td>\n",
       "      <td>0</td>\n",
       "      <td>0</td>\n",
       "    </tr>\n",
       "    <tr>\n",
       "      <th>4</th>\n",
       "      <td>32</td>\n",
       "      <td>28.880</td>\n",
       "      <td>0</td>\n",
       "      <td>0</td>\n",
       "      <td>1</td>\n",
       "      <td>1</td>\n",
       "      <td>0</td>\n",
       "      <td>0</td>\n",
       "      <td>1</td>\n",
       "      <td>0</td>\n",
       "      <td>0</td>\n",
       "    </tr>\n",
       "    <tr>\n",
       "      <th>...</th>\n",
       "      <td>...</td>\n",
       "      <td>...</td>\n",
       "      <td>...</td>\n",
       "      <td>...</td>\n",
       "      <td>...</td>\n",
       "      <td>...</td>\n",
       "      <td>...</td>\n",
       "      <td>...</td>\n",
       "      <td>...</td>\n",
       "      <td>...</td>\n",
       "      <td>...</td>\n",
       "    </tr>\n",
       "    <tr>\n",
       "      <th>1333</th>\n",
       "      <td>50</td>\n",
       "      <td>30.970</td>\n",
       "      <td>3</td>\n",
       "      <td>0</td>\n",
       "      <td>1</td>\n",
       "      <td>1</td>\n",
       "      <td>0</td>\n",
       "      <td>0</td>\n",
       "      <td>1</td>\n",
       "      <td>0</td>\n",
       "      <td>0</td>\n",
       "    </tr>\n",
       "    <tr>\n",
       "      <th>1334</th>\n",
       "      <td>18</td>\n",
       "      <td>31.920</td>\n",
       "      <td>0</td>\n",
       "      <td>1</td>\n",
       "      <td>0</td>\n",
       "      <td>1</td>\n",
       "      <td>0</td>\n",
       "      <td>1</td>\n",
       "      <td>0</td>\n",
       "      <td>0</td>\n",
       "      <td>0</td>\n",
       "    </tr>\n",
       "    <tr>\n",
       "      <th>1335</th>\n",
       "      <td>18</td>\n",
       "      <td>36.850</td>\n",
       "      <td>0</td>\n",
       "      <td>1</td>\n",
       "      <td>0</td>\n",
       "      <td>1</td>\n",
       "      <td>0</td>\n",
       "      <td>0</td>\n",
       "      <td>0</td>\n",
       "      <td>1</td>\n",
       "      <td>0</td>\n",
       "    </tr>\n",
       "    <tr>\n",
       "      <th>1336</th>\n",
       "      <td>21</td>\n",
       "      <td>25.800</td>\n",
       "      <td>0</td>\n",
       "      <td>1</td>\n",
       "      <td>0</td>\n",
       "      <td>1</td>\n",
       "      <td>0</td>\n",
       "      <td>0</td>\n",
       "      <td>0</td>\n",
       "      <td>0</td>\n",
       "      <td>1</td>\n",
       "    </tr>\n",
       "    <tr>\n",
       "      <th>1337</th>\n",
       "      <td>61</td>\n",
       "      <td>29.070</td>\n",
       "      <td>0</td>\n",
       "      <td>1</td>\n",
       "      <td>0</td>\n",
       "      <td>0</td>\n",
       "      <td>1</td>\n",
       "      <td>0</td>\n",
       "      <td>1</td>\n",
       "      <td>0</td>\n",
       "      <td>0</td>\n",
       "    </tr>\n",
       "  </tbody>\n",
       "</table>\n",
       "<p>1338 rows × 11 columns</p>\n",
       "</div>"
      ],
      "text/plain": [
       "      age     bmi  children  sex_female  sex_male  smoker_no  smoker_yes  \\\n",
       "0      19  27.900         0           1         0          0           1   \n",
       "1      18  33.770         1           0         1          1           0   \n",
       "2      28  33.000         3           0         1          1           0   \n",
       "3      33  22.705         0           0         1          1           0   \n",
       "4      32  28.880         0           0         1          1           0   \n",
       "...   ...     ...       ...         ...       ...        ...         ...   \n",
       "1333   50  30.970         3           0         1          1           0   \n",
       "1334   18  31.920         0           1         0          1           0   \n",
       "1335   18  36.850         0           1         0          1           0   \n",
       "1336   21  25.800         0           1         0          1           0   \n",
       "1337   61  29.070         0           1         0          0           1   \n",
       "\n",
       "      region_northeast  region_northwest  region_southeast  region_southwest  \n",
       "0                    0                 0                 0                 1  \n",
       "1                    0                 0                 1                 0  \n",
       "2                    0                 0                 1                 0  \n",
       "3                    0                 1                 0                 0  \n",
       "4                    0                 1                 0                 0  \n",
       "...                ...               ...               ...               ...  \n",
       "1333                 0                 1                 0                 0  \n",
       "1334                 1                 0                 0                 0  \n",
       "1335                 0                 0                 1                 0  \n",
       "1336                 0                 0                 0                 1  \n",
       "1337                 0                 1                 0                 0  \n",
       "\n",
       "[1338 rows x 11 columns]"
      ]
     },
     "execution_count": 48,
     "metadata": {},
     "output_type": "execute_result"
    }
   ],
   "source": [
    "X"
   ]
  },
  {
   "cell_type": "code",
   "execution_count": 49,
   "id": "ebda5d01",
   "metadata": {},
   "outputs": [
    {
     "data": {
      "text/plain": [
       "<AxesSubplot:ylabel='Frequency'>"
      ]
     },
     "execution_count": 49,
     "metadata": {},
     "output_type": "execute_result"
    },
    {
     "data": {
      "image/png": "[encoded data removed]",
      "text/plain": [
       "<Figure size 432x288 with 1 Axes>"
      ]
     },
     "metadata": {
      "needs_background": "light"
     },
     "output_type": "display_data"
    }
   ],
   "source": [
    "#check scale of age\n",
    "X[\"age\"].plot(kind=\"hist\")"
   ]
  },
  {
   "cell_type": "code",
   "execution_count": 50,
   "id": "77c5fa16",
   "metadata": {},
   "outputs": [
    {
     "data": {
      "text/plain": [
       "<AxesSubplot:ylabel='Frequency'>"
      ]
     },
     "execution_count": 50,
     "metadata": {},
     "output_type": "execute_result"
    },
    {
     "data": {
      "image/png": "[encoded data removed]",
      "text/plain": [
       "<Figure size 432x288 with 1 Axes>"
      ]
     },
     "metadata": {
      "needs_background": "light"
     },
     "output_type": "display_data"
    }
   ],
   "source": [
    "#check scale of bmi\n",
    "X[\"bmi\"].plot(kind=\"hist\")"
   ]
  },
  {
   "cell_type": "code",
   "execution_count": 51,
   "id": "1e11cd3a",
   "metadata": {},
   "outputs": [
    {
     "data": {
      "text/plain": [
       "0    574\n",
       "1    324\n",
       "2    240\n",
       "3    157\n",
       "4     25\n",
       "5     18\n",
       "Name: children, dtype: int64"
      ]
     },
     "execution_count": 51,
     "metadata": {},
     "output_type": "execute_result"
    }
   ],
   "source": [
    "## How many children does each group have\n",
    "X[\"children\"].value_counts()"
   ]
  },
  {
   "cell_type": "markdown",
   "id": "0bba3892",
   "metadata": {},
   "source": [
    "## Feature Scaling\n",
    "* **Scale / Normalization:** The method that is commonly used to scale data in neuralnets. It converst all data values to between 0-1 while preserving their original distribution. The Scikit-Learn function used is the **MinMaxScaler.**\n",
    "* **Standardization:** It transforms the data to have close to normal distribution. However, it reduces the effects of the outliers. The Scikit-Learn function used is the **StandardScaler**"
   ]
  },
  {
   "cell_type": "code",
   "execution_count": 52,
   "id": "33306521",
   "metadata": {},
   "outputs": [
    {
     "data": {
      "text/html": [
       "<div>\n",
       "<style scoped>\n",
       "    .dataframe tbody tr th:only-of-type {\n",
       "        vertical-align: middle;\n",
       "    }\n",
       "\n",
       "    .dataframe tbody tr th {\n",
       "        vertical-align: top;\n",
       "    }\n",
       "\n",
       "    .dataframe thead th {\n",
       "        text-align: right;\n",
       "    }\n",
       "</style>\n",
       "<table border=\"1\" class=\"dataframe\">\n",
       "  <thead>\n",
       "    <tr style=\"text-align: right;\">\n",
       "      <th></th>\n",
       "      <th>age</th>\n",
       "      <th>sex</th>\n",
       "      <th>bmi</th>\n",
       "      <th>children</th>\n",
       "      <th>smoker</th>\n",
       "      <th>region</th>\n",
       "      <th>charges</th>\n",
       "    </tr>\n",
       "  </thead>\n",
       "  <tbody>\n",
       "    <tr>\n",
       "      <th>0</th>\n",
       "      <td>19</td>\n",
       "      <td>female</td>\n",
       "      <td>27.900</td>\n",
       "      <td>0</td>\n",
       "      <td>yes</td>\n",
       "      <td>southwest</td>\n",
       "      <td>16884.92400</td>\n",
       "    </tr>\n",
       "    <tr>\n",
       "      <th>1</th>\n",
       "      <td>18</td>\n",
       "      <td>male</td>\n",
       "      <td>33.770</td>\n",
       "      <td>1</td>\n",
       "      <td>no</td>\n",
       "      <td>southeast</td>\n",
       "      <td>1725.55230</td>\n",
       "    </tr>\n",
       "    <tr>\n",
       "      <th>2</th>\n",
       "      <td>28</td>\n",
       "      <td>male</td>\n",
       "      <td>33.000</td>\n",
       "      <td>3</td>\n",
       "      <td>no</td>\n",
       "      <td>southeast</td>\n",
       "      <td>4449.46200</td>\n",
       "    </tr>\n",
       "    <tr>\n",
       "      <th>3</th>\n",
       "      <td>33</td>\n",
       "      <td>male</td>\n",
       "      <td>22.705</td>\n",
       "      <td>0</td>\n",
       "      <td>no</td>\n",
       "      <td>northwest</td>\n",
       "      <td>21984.47061</td>\n",
       "    </tr>\n",
       "    <tr>\n",
       "      <th>4</th>\n",
       "      <td>32</td>\n",
       "      <td>male</td>\n",
       "      <td>28.880</td>\n",
       "      <td>0</td>\n",
       "      <td>no</td>\n",
       "      <td>northwest</td>\n",
       "      <td>3866.85520</td>\n",
       "    </tr>\n",
       "    <tr>\n",
       "      <th>...</th>\n",
       "      <td>...</td>\n",
       "      <td>...</td>\n",
       "      <td>...</td>\n",
       "      <td>...</td>\n",
       "      <td>...</td>\n",
       "      <td>...</td>\n",
       "      <td>...</td>\n",
       "    </tr>\n",
       "    <tr>\n",
       "      <th>1333</th>\n",
       "      <td>50</td>\n",
       "      <td>male</td>\n",
       "      <td>30.970</td>\n",
       "      <td>3</td>\n",
       "      <td>no</td>\n",
       "      <td>northwest</td>\n",
       "      <td>10600.54830</td>\n",
       "    </tr>\n",
       "    <tr>\n",
       "      <th>1334</th>\n",
       "      <td>18</td>\n",
       "      <td>female</td>\n",
       "      <td>31.920</td>\n",
       "      <td>0</td>\n",
       "      <td>no</td>\n",
       "      <td>northeast</td>\n",
       "      <td>2205.98080</td>\n",
       "    </tr>\n",
       "    <tr>\n",
       "      <th>1335</th>\n",
       "      <td>18</td>\n",
       "      <td>female</td>\n",
       "      <td>36.850</td>\n",
       "      <td>0</td>\n",
       "      <td>no</td>\n",
       "      <td>southeast</td>\n",
       "      <td>1629.83350</td>\n",
       "    </tr>\n",
       "    <tr>\n",
       "      <th>1336</th>\n",
       "      <td>21</td>\n",
       "      <td>female</td>\n",
       "      <td>25.800</td>\n",
       "      <td>0</td>\n",
       "      <td>no</td>\n",
       "      <td>southwest</td>\n",
       "      <td>2007.94500</td>\n",
       "    </tr>\n",
       "    <tr>\n",
       "      <th>1337</th>\n",
       "      <td>61</td>\n",
       "      <td>female</td>\n",
       "      <td>29.070</td>\n",
       "      <td>0</td>\n",
       "      <td>yes</td>\n",
       "      <td>northwest</td>\n",
       "      <td>29141.36030</td>\n",
       "    </tr>\n",
       "  </tbody>\n",
       "</table>\n",
       "<p>1338 rows × 7 columns</p>\n",
       "</div>"
      ],
      "text/plain": [
       "      age     sex     bmi  children smoker     region      charges\n",
       "0      19  female  27.900         0    yes  southwest  16884.92400\n",
       "1      18    male  33.770         1     no  southeast   1725.55230\n",
       "2      28    male  33.000         3     no  southeast   4449.46200\n",
       "3      33    male  22.705         0     no  northwest  21984.47061\n",
       "4      32    male  28.880         0     no  northwest   3866.85520\n",
       "...   ...     ...     ...       ...    ...        ...          ...\n",
       "1333   50    male  30.970         3     no  northwest  10600.54830\n",
       "1334   18  female  31.920         0     no  northeast   2205.98080\n",
       "1335   18  female  36.850         0     no  southeast   1629.83350\n",
       "1336   21  female  25.800         0     no  southwest   2007.94500\n",
       "1337   61  female  29.070         0    yes  northwest  29141.36030\n",
       "\n",
       "[1338 rows x 7 columns]"
      ]
     },
     "execution_count": 52,
     "metadata": {},
     "output_type": "execute_result"
    }
   ],
   "source": [
    "import pandas as pd \n",
    "import matplotlib.pyplot as plt\n",
    "import tensorflow as tf\n",
    "\n",
    "# Load the medical cost prediction dataset form github repo\n",
    "insurance_cost = pd.read_csv(\"https://raw.githubusercontent.com/stedy/Machine-Learning-with-R-datasets/master/insurance.csv\")\n",
    "insurance_cost"
   ]
  },
  {
   "cell_type": "markdown",
   "id": "6ccf3907",
   "metadata": {},
   "source": [
    "### Import some few classes and functions frm SciKit Learn to prepare the data."
   ]
  },
  {
   "cell_type": "code",
   "execution_count": 53,
   "id": "57afa237",
   "metadata": {},
   "outputs": [],
   "source": [
    "from sklearn.compose import make_column_transformer\n",
    "from sklearn.preprocessing import MinMaxScaler, OneHotEncoder\n",
    "\n",
    "#Create a column Transformer\n",
    "ct = make_column_transformer(\n",
    "    (MinMaxScaler(),[\"age\",\"bmi\",\"children\"]),# trun values to btw 0-1\n",
    "    (OneHotEncoder(handle_unknown=\"ignore\"),[\"sex\",\"smoker\",\"region\"])\n",
    "    #handle_unknown - tells the encoder to ignore all columns its not aware of.\n",
    ")\n",
    "\n",
    "#Create X and Y values\n",
    "X = insurance_cost.drop(labels=[\"charges\"], axis=1)\n",
    "y = insurance_cost[\"charges\"]\n"
   ]
  },
  {
   "cell_type": "code",
   "execution_count": 54,
   "id": "ab020922",
   "metadata": {},
   "outputs": [],
   "source": [
    "#split the data into training and test sets\n",
    "from sklearn.model_selection import train_test_split\n",
    "\n",
    "X_train,X_test,y_train,y_test = train_test_split(X,y,test_size=0.2, random_state=42)\n",
    "\n",
    "#fit the column transformer to only our training data and not the test data because it may lead to data leakage.\n",
    "#fit - The transformer learns something about our data\n",
    "#transform - The transformer uses what it learnt to perform transformation\n",
    "\n",
    "#fit the column transformer to our training data\n",
    "ct.fit(X_train)\n",
    "\n",
    "#Tranform our training and test data sets with normalization(MinMaxScaler) and OneHotEncoder\n",
    "X_train_normal = ct.transform(X_train)\n",
    "X_test_normal = ct.transform(X_test)"
   ]
  },
  {
   "cell_type": "markdown",
   "id": "26d75a60",
   "metadata": {},
   "source": [
    "### Visualize our new normalized dataset"
   ]
  },
  {
   "cell_type": "code",
   "execution_count": 55,
   "id": "0a9de64f",
   "metadata": {},
   "outputs": [
    {
     "data": {
      "text/plain": [
       "((1070, 6), (1070, 11))"
      ]
     },
     "execution_count": 55,
     "metadata": {},
     "output_type": "execute_result"
    }
   ],
   "source": [
    "#Our normalized training datasets will have some extra columns because of\n",
    "#the one-hot encoding process.\n",
    "X_train.shape,X_train_normal.shape "
   ]
  },
  {
   "cell_type": "markdown",
   "id": "5cb8ae76",
   "metadata": {},
   "source": [
    "### Build the model on the normalized dataset"
   ]
  },
  {
   "cell_type": "code",
   "execution_count": 71,
   "id": "c9fa3a21",
   "metadata": {},
   "outputs": [
    {
     "ename": "ValueError",
     "evalue": "Unknown activation function: leakyrelu",
     "output_type": "error",
     "traceback": [
      "\u001b[0;31m---------------------------------------------------------------------------\u001b[0m",
      "\u001b[0;31mValueError\u001b[0m                                Traceback (most recent call last)",
      "\u001b[0;32m<ipython-input-71-70d37c522efe>\u001b[0m in \u001b[0;36m<module>\u001b[0;34m\u001b[0m\n\u001b[1;32m      3\u001b[0m \u001b[0;31m#build the model\u001b[0m\u001b[0;34m\u001b[0m\u001b[0;34m\u001b[0m\u001b[0;34m\u001b[0m\u001b[0m\n\u001b[1;32m      4\u001b[0m model = tf.keras.models.Sequential([\n\u001b[0;32m----> 5\u001b[0;31m      \u001b[0mtf\u001b[0m\u001b[0;34m.\u001b[0m\u001b[0mkeras\u001b[0m\u001b[0;34m.\u001b[0m\u001b[0mlayers\u001b[0m\u001b[0;34m.\u001b[0m\u001b[0mDense\u001b[0m\u001b[0;34m(\u001b[0m\u001b[0;36m8\u001b[0m\u001b[0;34m,\u001b[0m \u001b[0mactivation\u001b[0m\u001b[0;34m=\u001b[0m\u001b[0;34m\"leakyrelu\"\u001b[0m\u001b[0;34m)\u001b[0m\u001b[0;34m,\u001b[0m\u001b[0;34m\u001b[0m\u001b[0;34m\u001b[0m\u001b[0m\n\u001b[0m\u001b[1;32m      6\u001b[0m      \u001b[0mtf\u001b[0m\u001b[0;34m.\u001b[0m\u001b[0mkeras\u001b[0m\u001b[0;34m.\u001b[0m\u001b[0mlayers\u001b[0m\u001b[0;34m.\u001b[0m\u001b[0mDense\u001b[0m\u001b[0;34m(\u001b[0m\u001b[0;36m16\u001b[0m\u001b[0;34m,\u001b[0m \u001b[0mactivation\u001b[0m\u001b[0;34m=\u001b[0m\u001b[0;34m\"relu\"\u001b[0m\u001b[0;34m)\u001b[0m\u001b[0;34m,\u001b[0m\u001b[0;34m\u001b[0m\u001b[0;34m\u001b[0m\u001b[0m\n\u001b[1;32m      7\u001b[0m      \u001b[0mtf\u001b[0m\u001b[0;34m.\u001b[0m\u001b[0mkeras\u001b[0m\u001b[0;34m.\u001b[0m\u001b[0mlayers\u001b[0m\u001b[0;34m.\u001b[0m\u001b[0mDense\u001b[0m\u001b[0;34m(\u001b[0m\u001b[0;36m32\u001b[0m\u001b[0;34m,\u001b[0m \u001b[0mactivation\u001b[0m\u001b[0;34m=\u001b[0m\u001b[0;34m\"relu\"\u001b[0m\u001b[0;34m)\u001b[0m\u001b[0;34m,\u001b[0m\u001b[0;34m\u001b[0m\u001b[0;34m\u001b[0m\u001b[0m\n",
      "\u001b[0;32m~/anaconda3/envs/deeplearning/lib/python3.8/site-packages/tensorflow/python/keras/layers/core.py\u001b[0m in \u001b[0;36m__init__\u001b[0;34m(self, units, activation, use_bias, kernel_initializer, bias_initializer, kernel_regularizer, bias_regularizer, activity_regularizer, kernel_constraint, bias_constraint, **kwargs)\u001b[0m\n\u001b[1;32m   1159\u001b[0m \u001b[0;34m\u001b[0m\u001b[0m\n\u001b[1;32m   1160\u001b[0m     \u001b[0mself\u001b[0m\u001b[0;34m.\u001b[0m\u001b[0munits\u001b[0m \u001b[0;34m=\u001b[0m \u001b[0mint\u001b[0m\u001b[0;34m(\u001b[0m\u001b[0munits\u001b[0m\u001b[0;34m)\u001b[0m \u001b[0;32mif\u001b[0m \u001b[0;32mnot\u001b[0m \u001b[0misinstance\u001b[0m\u001b[0;34m(\u001b[0m\u001b[0munits\u001b[0m\u001b[0;34m,\u001b[0m \u001b[0mint\u001b[0m\u001b[0;34m)\u001b[0m \u001b[0;32melse\u001b[0m \u001b[0munits\u001b[0m\u001b[0;34m\u001b[0m\u001b[0;34m\u001b[0m\u001b[0m\n\u001b[0;32m-> 1161\u001b[0;31m     \u001b[0mself\u001b[0m\u001b[0;34m.\u001b[0m\u001b[0mactivation\u001b[0m \u001b[0;34m=\u001b[0m \u001b[0mactivations\u001b[0m\u001b[0;34m.\u001b[0m\u001b[0mget\u001b[0m\u001b[0;34m(\u001b[0m\u001b[0mactivation\u001b[0m\u001b[0;34m)\u001b[0m\u001b[0;34m\u001b[0m\u001b[0;34m\u001b[0m\u001b[0m\n\u001b[0m\u001b[1;32m   1162\u001b[0m     \u001b[0mself\u001b[0m\u001b[0;34m.\u001b[0m\u001b[0muse_bias\u001b[0m \u001b[0;34m=\u001b[0m \u001b[0muse_bias\u001b[0m\u001b[0;34m\u001b[0m\u001b[0;34m\u001b[0m\u001b[0m\n\u001b[1;32m   1163\u001b[0m     \u001b[0mself\u001b[0m\u001b[0;34m.\u001b[0m\u001b[0mkernel_initializer\u001b[0m \u001b[0;34m=\u001b[0m \u001b[0minitializers\u001b[0m\u001b[0;34m.\u001b[0m\u001b[0mget\u001b[0m\u001b[0;34m(\u001b[0m\u001b[0mkernel_initializer\u001b[0m\u001b[0;34m)\u001b[0m\u001b[0;34m\u001b[0m\u001b[0;34m\u001b[0m\u001b[0m\n",
      "\u001b[0;32m~/anaconda3/envs/deeplearning/lib/python3.8/site-packages/tensorflow/python/util/dispatch.py\u001b[0m in \u001b[0;36mwrapper\u001b[0;34m(*args, **kwargs)\u001b[0m\n\u001b[1;32m    199\u001b[0m     \u001b[0;34m\"\"\"Call target, and fall back on dispatchers if there is a TypeError.\"\"\"\u001b[0m\u001b[0;34m\u001b[0m\u001b[0;34m\u001b[0m\u001b[0m\n\u001b[1;32m    200\u001b[0m     \u001b[0;32mtry\u001b[0m\u001b[0;34m:\u001b[0m\u001b[0;34m\u001b[0m\u001b[0;34m\u001b[0m\u001b[0m\n\u001b[0;32m--> 201\u001b[0;31m       \u001b[0;32mreturn\u001b[0m \u001b[0mtarget\u001b[0m\u001b[0;34m(\u001b[0m\u001b[0;34m*\u001b[0m\u001b[0margs\u001b[0m\u001b[0;34m,\u001b[0m \u001b[0;34m**\u001b[0m\u001b[0mkwargs\u001b[0m\u001b[0;34m)\u001b[0m\u001b[0;34m\u001b[0m\u001b[0;34m\u001b[0m\u001b[0m\n\u001b[0m\u001b[1;32m    202\u001b[0m     \u001b[0;32mexcept\u001b[0m \u001b[0;34m(\u001b[0m\u001b[0mTypeError\u001b[0m\u001b[0;34m,\u001b[0m \u001b[0mValueError\u001b[0m\u001b[0;34m)\u001b[0m\u001b[0;34m:\u001b[0m\u001b[0;34m\u001b[0m\u001b[0;34m\u001b[0m\u001b[0m\n\u001b[1;32m    203\u001b[0m       \u001b[0;31m# Note: convert_to_eager_tensor currently raises a ValueError, not a\u001b[0m\u001b[0;34m\u001b[0m\u001b[0;34m\u001b[0m\u001b[0;34m\u001b[0m\u001b[0m\n",
      "\u001b[0;32m~/anaconda3/envs/deeplearning/lib/python3.8/site-packages/tensorflow/python/keras/activations.py\u001b[0m in \u001b[0;36mget\u001b[0;34m(identifier)\u001b[0m\n\u001b[1;32m    571\u001b[0m   \u001b[0;32mif\u001b[0m \u001b[0misinstance\u001b[0m\u001b[0;34m(\u001b[0m\u001b[0midentifier\u001b[0m\u001b[0;34m,\u001b[0m \u001b[0msix\u001b[0m\u001b[0;34m.\u001b[0m\u001b[0mstring_types\u001b[0m\u001b[0;34m)\u001b[0m\u001b[0;34m:\u001b[0m\u001b[0;34m\u001b[0m\u001b[0;34m\u001b[0m\u001b[0m\n\u001b[1;32m    572\u001b[0m     \u001b[0midentifier\u001b[0m \u001b[0;34m=\u001b[0m \u001b[0mstr\u001b[0m\u001b[0;34m(\u001b[0m\u001b[0midentifier\u001b[0m\u001b[0;34m)\u001b[0m\u001b[0;34m\u001b[0m\u001b[0;34m\u001b[0m\u001b[0m\n\u001b[0;32m--> 573\u001b[0;31m     \u001b[0;32mreturn\u001b[0m \u001b[0mdeserialize\u001b[0m\u001b[0;34m(\u001b[0m\u001b[0midentifier\u001b[0m\u001b[0;34m)\u001b[0m\u001b[0;34m\u001b[0m\u001b[0;34m\u001b[0m\u001b[0m\n\u001b[0m\u001b[1;32m    574\u001b[0m   \u001b[0;32melif\u001b[0m \u001b[0misinstance\u001b[0m\u001b[0;34m(\u001b[0m\u001b[0midentifier\u001b[0m\u001b[0;34m,\u001b[0m \u001b[0mdict\u001b[0m\u001b[0;34m)\u001b[0m\u001b[0;34m:\u001b[0m\u001b[0;34m\u001b[0m\u001b[0;34m\u001b[0m\u001b[0m\n\u001b[1;32m    575\u001b[0m     \u001b[0;32mreturn\u001b[0m \u001b[0mdeserialize\u001b[0m\u001b[0;34m(\u001b[0m\u001b[0midentifier\u001b[0m\u001b[0;34m)\u001b[0m\u001b[0;34m\u001b[0m\u001b[0;34m\u001b[0m\u001b[0m\n",
      "\u001b[0;32m~/anaconda3/envs/deeplearning/lib/python3.8/site-packages/tensorflow/python/util/dispatch.py\u001b[0m in \u001b[0;36mwrapper\u001b[0;34m(*args, **kwargs)\u001b[0m\n\u001b[1;32m    199\u001b[0m     \u001b[0;34m\"\"\"Call target, and fall back on dispatchers if there is a TypeError.\"\"\"\u001b[0m\u001b[0;34m\u001b[0m\u001b[0;34m\u001b[0m\u001b[0m\n\u001b[1;32m    200\u001b[0m     \u001b[0;32mtry\u001b[0m\u001b[0;34m:\u001b[0m\u001b[0;34m\u001b[0m\u001b[0;34m\u001b[0m\u001b[0m\n\u001b[0;32m--> 201\u001b[0;31m       \u001b[0;32mreturn\u001b[0m \u001b[0mtarget\u001b[0m\u001b[0;34m(\u001b[0m\u001b[0;34m*\u001b[0m\u001b[0margs\u001b[0m\u001b[0;34m,\u001b[0m \u001b[0;34m**\u001b[0m\u001b[0mkwargs\u001b[0m\u001b[0;34m)\u001b[0m\u001b[0;34m\u001b[0m\u001b[0;34m\u001b[0m\u001b[0m\n\u001b[0m\u001b[1;32m    202\u001b[0m     \u001b[0;32mexcept\u001b[0m \u001b[0;34m(\u001b[0m\u001b[0mTypeError\u001b[0m\u001b[0;34m,\u001b[0m \u001b[0mValueError\u001b[0m\u001b[0;34m)\u001b[0m\u001b[0;34m:\u001b[0m\u001b[0;34m\u001b[0m\u001b[0;34m\u001b[0m\u001b[0m\n\u001b[1;32m    203\u001b[0m       \u001b[0;31m# Note: convert_to_eager_tensor currently raises a ValueError, not a\u001b[0m\u001b[0;34m\u001b[0m\u001b[0;34m\u001b[0m\u001b[0;34m\u001b[0m\u001b[0m\n",
      "\u001b[0;32m~/anaconda3/envs/deeplearning/lib/python3.8/site-packages/tensorflow/python/keras/activations.py\u001b[0m in \u001b[0;36mdeserialize\u001b[0;34m(name, custom_objects)\u001b[0m\n\u001b[1;32m    530\u001b[0m       \u001b[0mdenote\u001b[0m \u001b[0many\u001b[0m \u001b[0mdefined\u001b[0m \u001b[0mTensorflow\u001b[0m \u001b[0mactivation\u001b[0m \u001b[0mfunction\u001b[0m\u001b[0;34m.\u001b[0m\u001b[0;34m\u001b[0m\u001b[0;34m\u001b[0m\u001b[0m\n\u001b[1;32m    531\u001b[0m   \"\"\"\n\u001b[0;32m--> 532\u001b[0;31m   return deserialize_keras_object(\n\u001b[0m\u001b[1;32m    533\u001b[0m       \u001b[0mname\u001b[0m\u001b[0;34m,\u001b[0m\u001b[0;34m\u001b[0m\u001b[0;34m\u001b[0m\u001b[0m\n\u001b[1;32m    534\u001b[0m       \u001b[0mmodule_objects\u001b[0m\u001b[0;34m=\u001b[0m\u001b[0mglobals\u001b[0m\u001b[0;34m(\u001b[0m\u001b[0;34m)\u001b[0m\u001b[0;34m,\u001b[0m\u001b[0;34m\u001b[0m\u001b[0;34m\u001b[0m\u001b[0m\n",
      "\u001b[0;32m~/anaconda3/envs/deeplearning/lib/python3.8/site-packages/tensorflow/python/keras/utils/generic_utils.py\u001b[0m in \u001b[0;36mdeserialize_keras_object\u001b[0;34m(identifier, module_objects, custom_objects, printable_module_name)\u001b[0m\n\u001b[1;32m    375\u001b[0m       \u001b[0mobj\u001b[0m \u001b[0;34m=\u001b[0m \u001b[0mmodule_objects\u001b[0m\u001b[0;34m.\u001b[0m\u001b[0mget\u001b[0m\u001b[0;34m(\u001b[0m\u001b[0mobject_name\u001b[0m\u001b[0;34m)\u001b[0m\u001b[0;34m\u001b[0m\u001b[0;34m\u001b[0m\u001b[0m\n\u001b[1;32m    376\u001b[0m       \u001b[0;32mif\u001b[0m \u001b[0mobj\u001b[0m \u001b[0;32mis\u001b[0m \u001b[0;32mNone\u001b[0m\u001b[0;34m:\u001b[0m\u001b[0;34m\u001b[0m\u001b[0;34m\u001b[0m\u001b[0m\n\u001b[0;32m--> 377\u001b[0;31m         raise ValueError(\n\u001b[0m\u001b[1;32m    378\u001b[0m             'Unknown ' + printable_module_name + ': ' + object_name)\n\u001b[1;32m    379\u001b[0m     \u001b[0;31m# Classes passed by name are instantiated with no args, functions are\u001b[0m\u001b[0;34m\u001b[0m\u001b[0;34m\u001b[0m\u001b[0;34m\u001b[0m\u001b[0m\n",
      "\u001b[0;31mValueError\u001b[0m: Unknown activation function: leakyrelu"
     ]
    }
   ],
   "source": [
    "tf.random.set_seed(42)\n",
    "\n",
    "#build the model\n",
    "model = tf.keras.models.Sequential([\n",
    "     tf.keras.layers.Dense(8, activation=\"relu\"),\n",
    "     tf.keras.layers.Dense(16, activation=\"relu\"),\n",
    "     tf.keras.layers.Dense(32, activation=\"relu\"),\n",
    "     tf.keras.layers.Dense(64, activation=\"relu\"),\n",
    "     tf.keras.layers.Dense(128,activation=\"relu\"),\n",
    "     tf.keras.layers.Dense(128,activation=\"relu\"),\n",
    "     tf.keras.layers.Dense(256,activation=\"relu\"),\n",
    "     tf.keras.layers.Dense(1, activation=Non)\n",
    "], name=\"model_with_normalized_values\")\n",
    "\n",
    "#compile the model\n",
    "model.compile(\n",
    "    optimizer = tf.keras.optimizers.Adam(),\n",
    "    loss = tf.keras.losses.mae,\n",
    "    metrics=[\"mae\"]\n",
    ")\n",
    "\n",
    "#Train the model\n",
    "model.fit(X_train_normal,y_train, epochs=300, validation_split=0.1)"
   ]
  },
  {
   "cell_type": "code",
   "execution_count": 69,
   "id": "f510e8ca",
   "metadata": {},
   "outputs": [
    {
     "name": "stdout",
     "output_type": "stream",
     "text": [
      "9/9 [==============================] - 0s 2ms/step - loss: 1368.6082 - mae: 1368.6082\n"
     ]
    },
    {
     "data": {
      "text/plain": [
       "[1368.608154296875, 1368.608154296875]"
      ]
     },
     "execution_count": 69,
     "metadata": {},
     "output_type": "execute_result"
    }
   ],
   "source": [
    "#Evaluate the model\n",
    "model.evaluate(X_test_normal,y_test)\n"
   ]
  }
 ],
 "metadata": {
  "kernelspec": {
   "display_name": "Python 3",
   "language": "python",
   "name": "python3"
  },
  "language_info": {
   "codemirror_mode": {
    "name": "ipython",
    "version": 3
   },
   "file_extension": ".py",
   "mimetype": "text/x-python",
   "name": "python",
   "nbconvert_exporter": "python",
   "pygments_lexer": "ipython3",
   "version": "3.8.10"
  }
 },
 "nbformat": 4,
 "nbformat_minor": 5
}
