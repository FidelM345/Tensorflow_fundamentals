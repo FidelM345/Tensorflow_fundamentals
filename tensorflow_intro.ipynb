{
 "cells": [
  {
   "cell_type": "code",
   "execution_count": 1,
   "id": "700a9f9e",
   "metadata": {},
   "outputs": [
    {
     "name": "stdout",
     "output_type": "stream",
     "text": [
      "2.4.1\n"
     ]
    }
   ],
   "source": [
    "import tensorflow as tf\n",
    "print(tf.__version__)"
   ]
  },
  {
   "cell_type": "code",
   "execution_count": 2,
   "id": "c639c3b9",
   "metadata": {},
   "outputs": [
    {
     "data": {
      "text/plain": [
       "<tf.Tensor: shape=(), dtype=int32, numpy=13>"
      ]
     },
     "execution_count": 2,
     "metadata": {},
     "output_type": "execute_result"
    }
   ],
   "source": [
    "#create tensors using tf.constant()\n",
    "scalar = tf.constant(13)\n",
    "scalar"
   ]
  },
  {
   "cell_type": "code",
   "execution_count": 3,
   "id": "1d223a8d",
   "metadata": {},
   "outputs": [
    {
     "data": {
      "text/plain": [
       "0"
      ]
     },
     "execution_count": 3,
     "metadata": {},
     "output_type": "execute_result"
    }
   ],
   "source": [
    "#check dimension of the scalar \n",
    "scalar.ndim"
   ]
  },
  {
   "cell_type": "code",
   "execution_count": 4,
   "id": "9df3cd63",
   "metadata": {},
   "outputs": [
    {
     "data": {
      "text/plain": [
       "<tf.Tensor: shape=(3,), dtype=int32, numpy=array([10, 13, 17], dtype=int32)>"
      ]
     },
     "execution_count": 4,
     "metadata": {},
     "output_type": "execute_result"
    }
   ],
   "source": [
    "#create vetcor\n",
    "vector = tf.constant([10,13,17])\n",
    "vector"
   ]
  },
  {
   "cell_type": "code",
   "execution_count": 5,
   "id": "266f9dac",
   "metadata": {},
   "outputs": [
    {
     "data": {
      "text/plain": [
       "1"
      ]
     },
     "execution_count": 5,
     "metadata": {},
     "output_type": "execute_result"
    }
   ],
   "source": [
    "#check dimension of the vector\n",
    "vector.ndim"
   ]
  },
  {
   "cell_type": "code",
   "execution_count": 6,
   "id": "31a081e9",
   "metadata": {},
   "outputs": [
    {
     "data": {
      "text/plain": [
       "<tf.Tensor: shape=(2, 2), dtype=int32, numpy=\n",
       "array([[10, 23],\n",
       "       [13, 19]], dtype=int32)>"
      ]
     },
     "execution_count": 6,
     "metadata": {},
     "output_type": "execute_result"
    }
   ],
   "source": [
    "#create a matrix - matrix has more than one dimension\n",
    "matrix = tf.constant([\n",
    "    [10,23],\n",
    "    [13,19]\n",
    "])\n",
    "matrix"
   ]
  },
  {
   "cell_type": "code",
   "execution_count": 7,
   "id": "871c83e8",
   "metadata": {},
   "outputs": [
    {
     "data": {
      "text/plain": [
       "2"
      ]
     },
     "execution_count": 7,
     "metadata": {},
     "output_type": "execute_result"
    }
   ],
   "source": [
    "#dimension of the matrix\n",
    "matrix.ndim"
   ]
  },
  {
   "cell_type": "code",
   "execution_count": 8,
   "id": "fa0cb6cb",
   "metadata": {},
   "outputs": [
    {
     "data": {
      "text/plain": [
       "<tf.Tensor: shape=(2, 3), dtype=float16, numpy=\n",
       "array([[10., 25., 11.],\n",
       "       [ 2.,  5., 13.]], dtype=float16)>"
      ]
     },
     "execution_count": 8,
     "metadata": {},
     "output_type": "execute_result"
    }
   ],
   "source": [
    "#create another matrix\n",
    "another_matrix = tf.constant([\n",
    "    [10.,25.,11.],\n",
    "    [2.,5.,13.]\n",
    "],\n",
    "dtype=tf.float16\n",
    ")\n",
    "\n",
    "another_matrix"
   ]
  },
  {
   "cell_type": "markdown",
   "id": "5319f43d",
   "metadata": {},
   "source": [
    "### creating tensors with tf.variable"
   ]
  },
  {
   "cell_type": "code",
   "execution_count": 9,
   "id": "835ea466",
   "metadata": {},
   "outputs": [
    {
     "data": {
      "text/plain": [
       "(<tf.Variable 'Variable:0' shape=(3,) dtype=int32, numpy=array([10, 20, 30], dtype=int32)>,\n",
       " <tf.Tensor: shape=(3,), dtype=int32, numpy=array([10, 20, 30], dtype=int32)>)"
      ]
     },
     "execution_count": 9,
     "metadata": {},
     "output_type": "execute_result"
    }
   ],
   "source": [
    "#creating a changable tensor\n",
    "changable_tensor = tf.Variable([10,20,30])\n",
    "unchangable_tensor = tf.constant([10,20,30])\n",
    "\n",
    "changable_tensor,unchangable_tensor"
   ]
  },
  {
   "cell_type": "code",
   "execution_count": 10,
   "id": "8886d7ba",
   "metadata": {},
   "outputs": [
    {
     "data": {
      "text/plain": [
       "<tf.Variable 'Variable:0' shape=(3,) dtype=int32, numpy=array([13, 20, 30], dtype=int32)>"
      ]
     },
     "execution_count": 10,
     "metadata": {},
     "output_type": "execute_result"
    }
   ],
   "source": [
    "#let's change elemets in changable tensnsor\n",
    "changable_tensor[0].assign(13)\n",
    "changable_tensor"
   ]
  },
  {
   "cell_type": "markdown",
   "id": "06a32cf5",
   "metadata": {},
   "source": [
    "### Creating Random tensors"
   ]
  },
  {
   "cell_type": "code",
   "execution_count": 11,
   "id": "8977a0ca",
   "metadata": {},
   "outputs": [
    {
     "data": {
      "text/plain": [
       "(<tf.Tensor: shape=(2, 2), dtype=float32, numpy=\n",
       " array([[ 0.88051325, -1.6833194 ],\n",
       "        [ 0.86754173, -0.19625713]], dtype=float32)>,\n",
       " <tf.Tensor: shape=(2, 2), dtype=float32, numpy=\n",
       " array([[ 0.88051325, -1.6833194 ],\n",
       "        [ 0.86754173, -0.19625713]], dtype=float32)>,\n",
       " <tf.Tensor: shape=(2, 2), dtype=bool, numpy=\n",
       " array([[ True,  True],\n",
       "        [ True,  True]])>)"
      ]
     },
     "execution_count": 11,
     "metadata": {},
     "output_type": "execute_result"
    }
   ],
   "source": [
    "#creating two random but the same tensors\n",
    "random_1 = tf.random.Generator.from_seed(20)\n",
    "random_1=random_1.normal(shape=(2,2))\n",
    "\n",
    "#second random tensor\n",
    "random_2 = tf.random.Generator.from_seed(20)\n",
    "random_2 = random_2.normal(shape=(2,2))\n",
    "\n",
    "random_1,random_2, random_1 == random_2"
   ]
  },
  {
   "cell_type": "markdown",
   "id": "52be4ff2",
   "metadata": {},
   "source": [
    "### shuffle the order of elements in a tensor"
   ]
  },
  {
   "cell_type": "code",
   "execution_count": 12,
   "id": "7ac16733",
   "metadata": {},
   "outputs": [
    {
     "data": {
      "text/plain": [
       "<tf.Tensor: shape=(3, 3), dtype=int32, numpy=\n",
       "array([[10,  7,  9],\n",
       "       [12, 34, 51],\n",
       "       [ 1,  5,  8]], dtype=int32)>"
      ]
     },
     "execution_count": 12,
     "metadata": {},
     "output_type": "execute_result"
    }
   ],
   "source": [
    "not_shuffled = tf.constant([\n",
    "    [10, 7, 9],\n",
    "    [12, 34, 51],\n",
    "    [1, 5, 8]\n",
    "])\n",
    "\n",
    "# The shuffled elemts will keep on changing because we have not set the global\n",
    "# and operation random seed\n",
    "shuffled = tf.random.shuffle(not_shuffled)\n",
    "\n",
    "shuffled"
   ]
  },
  {
   "cell_type": "markdown",
   "id": "98c74660",
   "metadata": {},
   "source": [
    "#### Generating constant random tensors by setting the operational and global seed"
   ]
  },
  {
   "cell_type": "code",
   "execution_count": 13,
   "id": "52890542",
   "metadata": {},
   "outputs": [
    {
     "data": {
      "text/plain": [
       "<tf.Tensor: shape=(3, 3), dtype=int32, numpy=\n",
       "array([[10,  7,  9],\n",
       "       [12, 34, 51],\n",
       "       [ 1,  5,  8]], dtype=int32)>"
      ]
     },
     "execution_count": 13,
     "metadata": {},
     "output_type": "execute_result"
    }
   ],
   "source": [
    "tf.random.set_seed(42) #setting global seed\n",
    "tf.random.shuffle(not_shuffled, seed=42) #the seed value here is not mandatory"
   ]
  },
  {
   "cell_type": "markdown",
   "id": "220822ba",
   "metadata": {},
   "source": [
    "### Other ways for creating tensors"
   ]
  },
  {
   "cell_type": "code",
   "execution_count": 14,
   "id": "d6f7c997",
   "metadata": {},
   "outputs": [
    {
     "data": {
      "text/plain": [
       "(<tf.Tensor: shape=(3, 3), dtype=float32, numpy=\n",
       " array([[1., 1., 1.],\n",
       "        [1., 1., 1.],\n",
       "        [1., 1., 1.]], dtype=float32)>,\n",
       " <tf.Tensor: shape=(5, 5), dtype=float32, numpy=\n",
       " array([[0., 0., 0., 0., 0.],\n",
       "        [0., 0., 0., 0., 0.],\n",
       "        [0., 0., 0., 0., 0.],\n",
       "        [0., 0., 0., 0., 0.],\n",
       "        [0., 0., 0., 0., 0.]], dtype=float32)>)"
      ]
     },
     "execution_count": 14,
     "metadata": {},
     "output_type": "execute_result"
    }
   ],
   "source": [
    "import numpy as np\n",
    "\n",
    "# a = np.ones(shape = (2,3)) using numpy to initilize\n",
    "tf.ones(shape=(3,3)),tf.zeros([5,5])\n"
   ]
  },
  {
   "cell_type": "markdown",
   "id": "9d6c0d58",
   "metadata": {},
   "source": [
    "#### Turn numpy into tensors - The main difference between numpy and tensors\n",
    "#### is that tensors can be run on a GPU for faster computation"
   ]
  },
  {
   "cell_type": "code",
   "execution_count": 15,
   "id": "7f43e310",
   "metadata": {},
   "outputs": [
    {
     "data": {
      "text/plain": [
       "(24,)"
      ]
     },
     "execution_count": 15,
     "metadata": {},
     "output_type": "execute_result"
    }
   ],
   "source": [
    "#creating a numpy and assigning it intial values\n",
    "numpy_A = np.arange(2, 26, dtype = np.int32)\n",
    "#numpy_A = numpy_A.reshape([1,24])\n",
    "numpy_A.shape\n",
    "\n"
   ]
  },
  {
   "cell_type": "code",
   "execution_count": 16,
   "id": "165f5572",
   "metadata": {},
   "outputs": [
    {
     "data": {
      "text/plain": [
       "(<tf.Tensor: shape=(24,), dtype=int32, numpy=\n",
       " array([ 2,  3,  4,  5,  6,  7,  8,  9, 10, 11, 12, 13, 14, 15, 16, 17, 18,\n",
       "        19, 20, 21, 22, 23, 24, 25], dtype=int32)>,\n",
       " <tf.Tensor: shape=(3, 8), dtype=int32, numpy=\n",
       " array([[ 2,  3,  4,  5,  6,  7,  8,  9],\n",
       "        [10, 11, 12, 13, 14, 15, 16, 17],\n",
       "        [18, 19, 20, 21, 22, 23, 24, 25]], dtype=int32)>)"
      ]
     },
     "execution_count": 16,
     "metadata": {},
     "output_type": "execute_result"
    }
   ],
   "source": [
    "#Creating tensors from the numpy arrays\n",
    "A = tf.constant(numpy_A, shape = (3,8))\n",
    "B = tf.constant(numpy_A)\n",
    "\n",
    "B,A"
   ]
  },
  {
   "cell_type": "markdown",
   "id": "deea36ca",
   "metadata": {},
   "source": [
    "## Getting Additional info from a tensor\n",
    "\n",
    "When dealing with tensors the below attributes are critical for your operations: <br>\n",
    "\n",
    "* Shape---------------shape\n",
    "* Rank (dimension) ---------------- ndim\n",
    "* Axis\n",
    "* Size ------------------ number of elements in the tensor\n",
    "\n",
    "\n"
   ]
  },
  {
   "cell_type": "code",
   "execution_count": 17,
   "id": "f6e890ad",
   "metadata": {},
   "outputs": [
    {
     "data": {
      "text/plain": [
       "(TensorShape([3, 3]), 2, <tf.Tensor: shape=(), dtype=int32, numpy=9>, 9)"
      ]
     },
     "execution_count": 17,
     "metadata": {},
     "output_type": "execute_result"
    }
   ],
   "source": [
    "tensor_rank2 = tf.ones(shape = (3,3))\n",
    "tensor_rank2.shape, tensor_rank2.ndim, tf.size(tensor_rank2), tf.size(tensor_rank2).numpy()"
   ]
  },
  {
   "cell_type": "code",
   "execution_count": 18,
   "id": "202aa562",
   "metadata": {},
   "outputs": [
    {
     "name": "stdout",
     "output_type": "stream",
     "text": [
      "The number of elements in 0 axis=  3\n",
      "The number of elements in last axis=  3\n"
     ]
    }
   ],
   "source": [
    "print(\"The number of elements in 0 axis= \",tensor_rank2.shape[0] )\n",
    "print(\"The number of elements in last axis= \",tensor_rank2.shape[-1] )"
   ]
  },
  {
   "cell_type": "code",
   "execution_count": 19,
   "id": "292d772d",
   "metadata": {},
   "outputs": [],
   "source": [
    "#creating a tensor\n",
    "rank2_tensor = tf.constant([\n",
    "    [1,2,3,4],\n",
    "    [5,6,7,8]\n",
    "])"
   ]
  },
  {
   "cell_type": "code",
   "execution_count": 20,
   "id": "66f43482",
   "metadata": {},
   "outputs": [
    {
     "data": {
      "text/plain": [
       "<tf.Tensor: shape=(2,), dtype=int32, numpy=array([1, 5], dtype=int32)>"
      ]
     },
     "execution_count": 20,
     "metadata": {},
     "output_type": "execute_result"
    }
   ],
   "source": [
    "#Getting first element on each row of our rank 2 tensor\n",
    "rank2_tensor[:, 0]"
   ]
  },
  {
   "cell_type": "code",
   "execution_count": 21,
   "id": "7ce61e71",
   "metadata": {},
   "outputs": [
    {
     "data": {
      "text/plain": [
       "<tf.Tensor: shape=(2, 4, 1), dtype=int32, numpy=\n",
       "array([[[1],\n",
       "        [2],\n",
       "        [3],\n",
       "        [4]],\n",
       "\n",
       "       [[5],\n",
       "        [6],\n",
       "        [7],\n",
       "        [8]]], dtype=int32)>"
      ]
     },
     "execution_count": 21,
     "metadata": {},
     "output_type": "execute_result"
    }
   ],
   "source": [
    "# Adding Extra dimension to our rank2 tensor\n",
    "rank3_tensor = rank2_tensor[...,tf.newaxis]\n",
    "rank3_tensor"
   ]
  },
  {
   "cell_type": "code",
   "execution_count": 22,
   "id": "0682c947",
   "metadata": {},
   "outputs": [
    {
     "data": {
      "text/plain": [
       "<tf.Tensor: shape=(2, 4, 1), dtype=int32, numpy=\n",
       "array([[[1],\n",
       "        [2],\n",
       "        [3],\n",
       "        [4]],\n",
       "\n",
       "       [[5],\n",
       "        [6],\n",
       "        [7],\n",
       "        [8]]], dtype=int32)>"
      ]
     },
     "execution_count": 22,
     "metadata": {},
     "output_type": "execute_result"
    }
   ],
   "source": [
    "# Adding Extra dimension to our rank2 tensor\n",
    "rank3_tensor = rank2_tensor[:,:,tf.newaxis]\n",
    "rank3_tensor"
   ]
  },
  {
   "cell_type": "code",
   "execution_count": 23,
   "id": "8758509c",
   "metadata": {},
   "outputs": [
    {
     "data": {
      "text/plain": [
       "<tf.Tensor: shape=(1, 2, 4), dtype=int32, numpy=\n",
       "array([[[1, 2, 3, 4],\n",
       "        [5, 6, 7, 8]]], dtype=int32)>"
      ]
     },
     "execution_count": 23,
     "metadata": {},
     "output_type": "execute_result"
    }
   ],
   "source": [
    "#Adding on the first axis\n",
    "rank3_tensor = tf.expand_dims(rank2_tensor, axis=0)\n",
    "rank3_tensor"
   ]
  },
  {
   "cell_type": "code",
   "execution_count": 24,
   "id": "7e43fb86",
   "metadata": {},
   "outputs": [
    {
     "data": {
      "text/plain": [
       "<tf.Tensor: shape=(2, 4, 1), dtype=int32, numpy=\n",
       "array([[[1],\n",
       "        [2],\n",
       "        [3],\n",
       "        [4]],\n",
       "\n",
       "       [[5],\n",
       "        [6],\n",
       "        [7],\n",
       "        [8]]], dtype=int32)>"
      ]
     },
     "execution_count": 24,
     "metadata": {},
     "output_type": "execute_result"
    }
   ],
   "source": [
    "#Adding on the last axis\n",
    "rank3_tensor = tf.expand_dims(rank2_tensor, axis=-1)\n",
    "rank3_tensor"
   ]
  },
  {
   "cell_type": "markdown",
   "id": "679acbdc",
   "metadata": {
    "tags": []
   },
   "source": [
    "## Matrix Multiplication\n",
    "### We mainly use the following methods:\n",
    "* tf.tensordot(a,b, axis=)\n",
    "* tf.matmul(a,b)\n",
    "* @\n",
    "### Generally when performing dot product, transposing instead of reshaping \n",
    "### is used to enable all the matrices follow matrix rules of multiplication"
   ]
  },
  {
   "cell_type": "code",
   "execution_count": 25,
   "id": "499bdc7b",
   "metadata": {},
   "outputs": [],
   "source": [
    "tensor1 = tf.constant([\n",
    "                   [10,7],\n",
    "                   [5,8]])"
   ]
  },
  {
   "cell_type": "code",
   "execution_count": 26,
   "id": "8acf0718",
   "metadata": {},
   "outputs": [
    {
     "data": {
      "text/plain": [
       "<tf.Tensor: shape=(2, 2), dtype=int32, numpy=\n",
       "array([[100,  49],\n",
       "       [ 25,  64]], dtype=int32)>"
      ]
     },
     "execution_count": 26,
     "metadata": {},
     "output_type": "execute_result"
    }
   ],
   "source": [
    "#Elementwise multiplication\n",
    "tensor1 * tensor1"
   ]
  },
  {
   "cell_type": "code",
   "execution_count": 27,
   "id": "b2b6136a",
   "metadata": {},
   "outputs": [
    {
     "data": {
      "text/plain": [
       "<tf.Tensor: shape=(2, 2), dtype=int32, numpy=\n",
       "array([[135, 126],\n",
       "       [ 90,  99]], dtype=int32)>"
      ]
     },
     "execution_count": 27,
     "metadata": {},
     "output_type": "execute_result"
    }
   ],
   "source": [
    "#Dot product multiplication\n",
    "tf.matmul(tensor1,tensor1)"
   ]
  },
  {
   "cell_type": "markdown",
   "id": "7cffd2f0",
   "metadata": {},
   "source": [
    "### For the dot product (matrix multiplication) to take place.\n",
    "### The number of innner dimensions must match. Example below\n",
    "* 3 x 2, 2 x 3---------------> the 2 values are matching.\n",
    "* 3x2, 3x2-----------> will not work because the inner dimensions are different\n",
    "### The resulting tensor or matrix after the dot product operation \n",
    "### will be equal to the outer dimension. Example below:\n",
    "* (3,2) x (2,3) --------------------> (3,3)"
   ]
  },
  {
   "cell_type": "code",
   "execution_count": 28,
   "id": "f7dd3631",
   "metadata": {},
   "outputs": [],
   "source": [
    "#3x2 tensor\n",
    "tensor1 = tf.constant([\n",
    "    [1,2],\n",
    "    [3,4],\n",
    "    [5,6]\n",
    "]\n",
    ")\n",
    "\n",
    "#3x2 tensor\n",
    "tensor2 = tf.constant([\n",
    "    [7,8],\n",
    "    [9,10],\n",
    "    [11,12]\n",
    "]\n",
    ")"
   ]
  },
  {
   "cell_type": "code",
   "execution_count": 29,
   "id": "52ac3200",
   "metadata": {},
   "outputs": [
    {
     "name": "stdout",
     "output_type": "stream",
     "text": [
      "The reshaped tensor is =  tf.Tensor(\n",
      "[[ 7  8  9]\n",
      " [10 11 12]], shape=(2, 3), dtype=int32)\n",
      "The Dot product of the tensor is =  tf.Tensor(\n",
      "[[ 27  30  33]\n",
      " [ 61  68  75]\n",
      " [ 95 106 117]], shape=(3, 3), dtype=int32)\n",
      "Alternative Dot product of the tensor is =  tf.Tensor(\n",
      "[[ 27  30  33]\n",
      " [ 61  68  75]\n",
      " [ 95 106 117]], shape=(3, 3), dtype=int32)\n"
     ]
    }
   ],
   "source": [
    "# for the dot product to work we must first reashape our tensor such that\n",
    "# the inner dimensions of the tensor must first match.\n",
    "tensor2_reshaped = tf.reshape(tensor2, shape=(2,3))\n",
    "dot_product = tf.matmul(tensor1, tensor2_reshaped)\n",
    "dot_product1 = tensor1 @ tensor2_reshaped\n",
    "print(\"The reshaped tensor is = \", tensor2_reshaped)\n",
    "print(\"The Dot product of the tensor is = \", dot_product )\n",
    "print(\"Alternative Dot product of the tensor is = \", dot_product1 )"
   ]
  },
  {
   "cell_type": "markdown",
   "id": "92791bb7",
   "metadata": {},
   "source": [
    "### The difference between Transpose and reshape is it flips the axes of the matrices"
   ]
  },
  {
   "cell_type": "code",
   "execution_count": 30,
   "id": "7a544df4",
   "metadata": {},
   "outputs": [
    {
     "name": "stdout",
     "output_type": "stream",
     "text": [
      "The first tensor value  tf.Tensor(\n",
      "[[1 2]\n",
      " [3 4]\n",
      " [5 6]], shape=(3, 2), dtype=int32)\n",
      "Tensor value after reshape tf.Tensor(\n",
      "[[1 2 3]\n",
      " [4 5 6]], shape=(2, 3), dtype=int32)\n",
      "Tensor value after Transpose tf.Tensor(\n",
      "[[1 3 5]\n",
      " [2 4 6]], shape=(2, 3), dtype=int32)\n"
     ]
    }
   ],
   "source": [
    "print(\"The first tensor value \", tensor1)\n",
    "print(\"Tensor value after reshape\", tf.reshape(tensor1, shape=(2,3)))\n",
    "print(\"Tensor value after Transpose\", tf.transpose(tensor1))"
   ]
  },
  {
   "cell_type": "markdown",
   "id": "948f8963",
   "metadata": {},
   "source": [
    "### The difference between tf.matmul() and tf.tensordot()"
   ]
  },
  {
   "cell_type": "code",
   "execution_count": 31,
   "id": "73a5b877",
   "metadata": {},
   "outputs": [
    {
     "name": "stdout",
     "output_type": "stream",
     "text": [
      "Tensor1 value =  tf.Tensor(\n",
      "[[1 2]\n",
      " [3 4]\n",
      " [5 6]], shape=(3, 2), dtype=int32)\n",
      "Tensor2 value =  tf.Tensor(\n",
      "[[ 7  8  9]\n",
      " [10 11 12]], shape=(2, 3), dtype=int32)\n",
      "\n",
      "\n",
      "Matrix multiplication value using matmul =  tf.Tensor(\n",
      "[[ 27  30  33]\n",
      " [ 61  68  75]\n",
      " [ 95 106 117]], shape=(3, 3), dtype=int32)\n",
      "\n",
      "\n",
      "Matrix multiplication value using tensordot =  tf.Tensor(\n",
      "[[ 27  30  33]\n",
      " [ 61  68  75]\n",
      " [ 95 106 117]], shape=(3, 3), dtype=int32)\n"
     ]
    }
   ],
   "source": [
    "print(\"Tensor1 value = \", tensor1)\n",
    "print(\"Tensor2 value = \", tensor2_reshaped)\n",
    "print(\"\\n\")\n",
    "print(\"Matrix multiplication value using matmul = \",tf.matmul(tensor1,tensor2_reshaped))\n",
    "print(\"\\n\")\n",
    "print(\"Matrix multiplication value using tensordot = \",tf.tensordot(tensor1,tensor2_reshaped, axes=1))\n"
   ]
  },
  {
   "cell_type": "markdown",
   "id": "4e8d13e9",
   "metadata": {},
   "source": [
    "### Casting from one datatype to another datatype"
   ]
  },
  {
   "cell_type": "code",
   "execution_count": 32,
   "id": "d149c3b0",
   "metadata": {},
   "outputs": [
    {
     "data": {
      "text/plain": [
       "<tf.Tensor: shape=(2, 2), dtype=int32, numpy=\n",
       "array([[1, 2],\n",
       "       [3, 4]], dtype=int32)>"
      ]
     },
     "execution_count": 32,
     "metadata": {},
     "output_type": "execute_result"
    }
   ],
   "source": [
    "A = tf.constant([\n",
    "    [1,2], \n",
    "    [3,4]\n",
    "])\n",
    "A"
   ]
  },
  {
   "cell_type": "code",
   "execution_count": 33,
   "id": "4def9073",
   "metadata": {},
   "outputs": [
    {
     "data": {
      "text/plain": [
       "<tf.Tensor: shape=(2, 2), dtype=float32, numpy=\n",
       "array([[1., 2.],\n",
       "       [3., 4.]], dtype=float32)>"
      ]
     },
     "execution_count": 33,
     "metadata": {},
     "output_type": "execute_result"
    }
   ],
   "source": [
    "#converting from int32 to float32\n",
    "B = tf.cast(A, dtype=tf.float32)\n",
    "B"
   ]
  },
  {
   "cell_type": "markdown",
   "id": "1591827c",
   "metadata": {},
   "source": [
    "## Tensorflow Aggregation\n",
    "### The different forms of tensorflow aggregation include the following:\n",
    "* abs()-------------> return positive values \n",
    "* reduce_sum\n",
    "* reduce_mean\n",
    "* reduce_min\n",
    "* reduce_max"
   ]
  },
  {
   "cell_type": "code",
   "execution_count": 34,
   "id": "becda4df",
   "metadata": {},
   "outputs": [
    {
     "data": {
      "text/plain": [
       "<tf.Tensor: shape=(3,), dtype=int32, numpy=array([1, 4, 5], dtype=int32)>"
      ]
     },
     "execution_count": 34,
     "metadata": {},
     "output_type": "execute_result"
    }
   ],
   "source": [
    "#getting absolute values from tensor\n",
    "A = tf.constant([1,-4,-5])\n",
    "tf.abs(A)"
   ]
  },
  {
   "cell_type": "code",
   "execution_count": 37,
   "id": "247b401a",
   "metadata": {},
   "outputs": [
    {
     "data": {
      "text/plain": [
       "<tf.Tensor: shape=(4, 6), dtype=int64, numpy=\n",
       "array([[ 3, 20, 13, 14, 21,  4],\n",
       "       [10,  1, 21, 25,  2,  8],\n",
       "       [22, 18,  3,  7, 18,  7],\n",
       "       [ 1, 16, 25, 22, 14, 10]])>"
      ]
     },
     "execution_count": 37,
     "metadata": {},
     "output_type": "execute_result"
    }
   ],
   "source": [
    "#creating random tesnor of size 24\n",
    "B = tf.constant(np.random.randint(1,28,size=24))\n",
    "B =tf.reshape(B, shape=(4,6))\n",
    "B"
   ]
  },
  {
   "cell_type": "code",
   "execution_count": 41,
   "id": "26487d8b",
   "metadata": {},
   "outputs": [
    {
     "name": "stdout",
     "output_type": "stream",
     "text": [
      "sum of the tesnor =  tf.Tensor(305, shape=(), dtype=int64)\n",
      "max value of the tesnor =  tf.Tensor(25, shape=(), dtype=int64)\n",
      "min value of the tesnor =  tf.Tensor(1, shape=(), dtype=int64)\n"
     ]
    }
   ],
   "source": [
    "print(\"sum of the tesnor = \", tf.reduce_sum(B))\n",
    "print(\"max value of the tesnor = \", tf.reduce_max(B))\n",
    "print(\"min value of the tesnor = \", tf.reduce_min(B))"
   ]
  },
  {
   "cell_type": "markdown",
   "id": "6e86471a",
   "metadata": {},
   "source": [
    "## Finding the postional Maximum and Minimum"
   ]
  },
  {
   "cell_type": "code",
   "execution_count": 51,
   "id": "fc409c1e",
   "metadata": {},
   "outputs": [
    {
     "data": {
      "text/plain": [
       "<tf.Tensor: shape=(50,), dtype=float32, numpy=\n",
       "array([0.6645621 , 0.44100678, 0.3528825 , 0.46448255, 0.03366041,\n",
       "       0.68467236, 0.74011743, 0.8724445 , 0.22632635, 0.22319686,\n",
       "       0.3103881 , 0.7223358 , 0.13318717, 0.5480639 , 0.5746088 ,\n",
       "       0.8996835 , 0.00946367, 0.5212307 , 0.6345445 , 0.1993283 ,\n",
       "       0.72942245, 0.54583454, 0.10756552, 0.6767061 , 0.6602763 ,\n",
       "       0.33695042, 0.60141766, 0.21062577, 0.8527372 , 0.44062173,\n",
       "       0.9485276 , 0.23752594, 0.81179297, 0.5263394 , 0.494308  ,\n",
       "       0.21612847, 0.8457197 , 0.8718841 , 0.3083862 , 0.6868038 ,\n",
       "       0.23764038, 0.7817228 , 0.9671384 , 0.06870162, 0.79873943,\n",
       "       0.66028714, 0.5871513 , 0.16461694, 0.7381023 , 0.32054043],\n",
       "      dtype=float32)>"
      ]
     },
     "execution_count": 51,
     "metadata": {},
     "output_type": "execute_result"
    }
   ],
   "source": [
    "#Creating a tensor with random elements for finding positional\n",
    "#maximum and minimum values\n",
    "tf.random.set_seed(42)\n",
    "A = tf.random.uniform(shape=[50])\n",
    "A"
   ]
  },
  {
   "cell_type": "code",
   "execution_count": 54,
   "id": "5814aba8",
   "metadata": {},
   "outputs": [
    {
     "data": {
      "text/plain": [
       "<tf.Tensor: shape=(), dtype=int64, numpy=42>"
      ]
     },
     "execution_count": 54,
     "metadata": {},
     "output_type": "execute_result"
    }
   ],
   "source": [
    "#Find the positional maximum\n",
    "# we will use argmax(), same as np.argmax()\n",
    "#returns the index of the maximum value along the axis\n",
    "tf.argmax(A)"
   ]
  },
  {
   "cell_type": "code",
   "execution_count": 57,
   "id": "ef15d1f4",
   "metadata": {},
   "outputs": [
    {
     "data": {
      "text/plain": [
       "(<tf.Tensor: shape=(), dtype=float32, numpy=0.9671384>,\n",
       " <tf.Tensor: shape=(), dtype=float32, numpy=0.9671384>)"
      ]
     },
     "execution_count": 57,
     "metadata": {},
     "output_type": "execute_result"
    }
   ],
   "source": [
    "#the largest value in the tensor\n",
    "A[tf.argmax(A)], tf.reduce_max(A) "
   ]
  },
  {
   "cell_type": "code",
   "execution_count": 59,
   "id": "fc963de2",
   "metadata": {},
   "outputs": [
    {
     "data": {
      "text/plain": [
       "<tf.Tensor: shape=(), dtype=float32, numpy=0.009463668>"
      ]
     },
     "execution_count": 59,
     "metadata": {},
     "output_type": "execute_result"
    }
   ],
   "source": [
    "#find the minimum value using the positional minimum value\n",
    "A[tf.argmin(A)]"
   ]
  },
  {
   "cell_type": "markdown",
   "id": "97fcdbd5",
   "metadata": {},
   "source": [
    "### Sequeezing a tensor (Removing All single dimensions)"
   ]
  },
  {
   "cell_type": "code",
   "execution_count": 63,
   "id": "77caca76",
   "metadata": {},
   "outputs": [
    {
     "data": {
      "text/plain": [
       "(TensorShape([1, 1, 50]), TensorShape([50]))"
      ]
     },
     "execution_count": 63,
     "metadata": {},
     "output_type": "execute_result"
    }
   ],
   "source": [
    "#Creating tesnor with random values\n",
    "tf.random.set_seed(42)\n",
    "D = tf.constant(tf.random.uniform(shape=[50]), shape=(1,1,50))\n",
    "D_squeeze = tf.squeeze(D)\n",
    "D.shape, D_squeeze.shape"
   ]
  },
  {
   "cell_type": "markdown",
   "id": "de05014d",
   "metadata": {},
   "source": [
    "## One-hot Encoding in tensors"
   ]
  },
  {
   "cell_type": "code",
   "execution_count": 71,
   "id": "2ccf8fa1",
   "metadata": {},
   "outputs": [
    {
     "data": {
      "text/plain": [
       "<tf.Tensor: shape=(3, 3), dtype=float32, numpy=\n",
       "array([[1., 0., 0.],\n",
       "       [0., 1., 0.],\n",
       "       [0., 0., 1.]], dtype=float32)>"
      ]
     },
     "execution_count": 71,
     "metadata": {},
     "output_type": "execute_result"
    }
   ],
   "source": [
    "### list of colors represensted below\n",
    "colors = [0,1,2] #representing the colors - blue, red and green\n",
    "\n",
    "one_hot_encoded_tensor = tf.one_hot(colors, depth=3)\n",
    "one_hot_encoded_tensor"
   ]
  },
  {
   "cell_type": "markdown",
   "id": "c3ff54cb",
   "metadata": {},
   "source": [
    "### More maths operations with tensors\n"
   ]
  },
  {
   "cell_type": "code",
   "execution_count": 73,
   "id": "6fd72264",
   "metadata": {},
   "outputs": [
    {
     "data": {
      "text/plain": [
       "<tf.Tensor: shape=(19,), dtype=int32, numpy=\n",
       "array([ 1,  2,  3,  4,  5,  6,  7,  8,  9, 10, 11, 12, 13, 14, 15, 16, 17,\n",
       "       18, 19], dtype=int32)>"
      ]
     },
     "execution_count": 73,
     "metadata": {},
     "output_type": "execute_result"
    }
   ],
   "source": [
    "H=tf.range(1,20)\n",
    "H"
   ]
  },
  {
   "cell_type": "code",
   "execution_count": 75,
   "id": "e1492b52",
   "metadata": {},
   "outputs": [
    {
     "data": {
      "text/plain": [
       "<tf.Tensor: shape=(19,), dtype=int32, numpy=\n",
       "array([  1,   4,   9,  16,  25,  36,  49,  64,  81, 100, 121, 144, 169,\n",
       "       196, 225, 256, 289, 324, 361], dtype=int32)>"
      ]
     },
     "execution_count": 75,
     "metadata": {},
     "output_type": "execute_result"
    }
   ],
   "source": [
    "tf.square(H)"
   ]
  },
  {
   "cell_type": "code",
   "execution_count": 77,
   "id": "dae7a575",
   "metadata": {},
   "outputs": [
    {
     "data": {
      "text/plain": [
       "<tf.Tensor: shape=(19,), dtype=float32, numpy=\n",
       "array([1.       , 1.4142135, 1.7320508, 2.       , 2.236068 , 2.4494898,\n",
       "       2.6457512, 2.828427 , 3.       , 3.1622777, 3.3166249, 3.4641016,\n",
       "       3.6055512, 3.7416575, 3.8729835, 4.       , 4.1231055, 4.2426405,\n",
       "       4.358899 ], dtype=float32)>"
      ]
     },
     "execution_count": 77,
     "metadata": {},
     "output_type": "execute_result"
    }
   ],
   "source": [
    "##when using sqaure roots the method requires non-integer types\n",
    "## Hence we must first convert out integers to floats\n",
    "tf.sqrt(tf.cast(H, dtype=tf.float32))"
   ]
  },
  {
   "cell_type": "markdown",
   "id": "69584e57",
   "metadata": {},
   "source": [
    "### Numpy and tensors are fully compatible"
   ]
  },
  {
   "cell_type": "code",
   "execution_count": 81,
   "id": "9a88366e",
   "metadata": {},
   "outputs": [
    {
     "name": "stdout",
     "output_type": "stream",
     "text": [
      "The numpy value is =  [1 2 3]\n",
      "The tensor value is =  tf.Tensor([1 2 3], shape=(3,), dtype=int64)\n"
     ]
    }
   ],
   "source": [
    "#creating numpy arrays from tensors.\n",
    "numpy_A = np.array(tf.constant([1,2,3]))\n",
    "tensor_A= tf.constant(np.array([1,2,3]))\n",
    "\n",
    "print(\"The numpy value is = \", numpy_A)\n",
    "print(\"The tensor value is = \", tensor_A)"
   ]
  },
  {
   "cell_type": "markdown",
   "id": "25dd0d8c",
   "metadata": {},
   "source": [
    "## Getting access to the GPU in tesnsorflow\n",
    "### If we have a CUDA enabled GPU tensorflow will automatically use it whenever possible."
   ]
  },
  {
   "cell_type": "code",
   "execution_count": 87,
   "id": "c923318b",
   "metadata": {},
   "outputs": [
    {
     "data": {
      "text/plain": [
       "[PhysicalDevice(name='/physical_device:CPU:0', device_type='CPU'),\n",
       " PhysicalDevice(name='/physical_device:GPU:0', device_type='GPU')]"
      ]
     },
     "execution_count": 87,
     "metadata": {},
     "output_type": "execute_result"
    }
   ],
   "source": [
    "tf.config.list_physical_devices(\n",
    "    device_type=None\n",
    ")"
   ]
  },
  {
   "cell_type": "code",
   "execution_count": 88,
   "id": "fc34fc0e",
   "metadata": {},
   "outputs": [
    {
     "name": "stdout",
     "output_type": "stream",
     "text": [
      "Num GPUs Available:  1\n"
     ]
    }
   ],
   "source": [
    "print(\"Num GPUs Available: \", len(tf.config.list_physical_devices('GPU')))"
   ]
  },
  {
   "cell_type": "code",
   "execution_count": 89,
   "id": "0a4410c8",
   "metadata": {},
   "outputs": [
    {
     "name": "stdout",
     "output_type": "stream",
     "text": [
      "Fri Jul 30 13:39:44 2021       \r\n",
      "+-----------------------------------------------------------------------------+\r\n",
      "| NVIDIA-SMI 460.91.03    Driver Version: 460.91.03    CUDA Version: 11.2     |\r\n",
      "|-------------------------------+----------------------+----------------------+\r\n",
      "| GPU  Name        Persistence-M| Bus-Id        Disp.A | Volatile Uncorr. ECC |\r\n",
      "| Fan  Temp  Perf  Pwr:Usage/Cap|         Memory-Usage | GPU-Util  Compute M. |\r\n",
      "|                               |                      |               MIG M. |\r\n",
      "|===============================+======================+======================|\r\n",
      "|   0  GeForce GTX 1050    Off  | 00000000:01:00.0 Off |                  N/A |\r\n",
      "| N/A   58C    P8    N/A /  N/A |   3825MiB /  4040MiB |      0%      Default |\r\n",
      "|                               |                      |                  N/A |\r\n",
      "+-------------------------------+----------------------+----------------------+\r\n",
      "                                                                               \r\n",
      "+-----------------------------------------------------------------------------+\r\n",
      "| Processes:                                                                  |\r\n",
      "|  GPU   GI   CI        PID   Type   Process name                  GPU Memory |\r\n",
      "|        ID   ID                                                   Usage      |\r\n",
      "|=============================================================================|\r\n",
      "|    0   N/A  N/A      2796      G   /usr/lib/xorg/Xorg                109MiB |\r\n",
      "|    0   N/A  N/A      3216      G   /usr/bin/gnome-shell               40MiB |\r\n",
      "|    0   N/A  N/A    394187      G   ...gAAAAAAAAA --shared-files       91MiB |\r\n",
      "|    0   N/A  N/A    404798      C   ...s/deeplearning/bin/python     3579MiB |\r\n",
      "+-----------------------------------------------------------------------------+\r\n"
     ]
    }
   ],
   "source": [
    "#check type of gpu u are using\n",
    "!nvidia-smi"
   ]
  }
 ],
 "metadata": {
  "kernelspec": {
   "display_name": "Python 3",
   "language": "python",
   "name": "python3"
  },
  "language_info": {
   "codemirror_mode": {
    "name": "ipython",
    "version": 3
   },
   "file_extension": ".py",
   "mimetype": "text/x-python",
   "name": "python",
   "nbconvert_exporter": "python",
   "pygments_lexer": "ipython3",
   "version": "3.8.10"
  }
 },
 "nbformat": 4,
 "nbformat_minor": 5
}
